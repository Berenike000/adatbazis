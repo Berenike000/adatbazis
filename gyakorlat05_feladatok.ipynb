{
    "metadata": {
        "kernelspec": {
            "name": "SQL",
            "display_name": "SQL",
            "language": "sql"
        },
        "language_info": {
            "name": "sql",
            "version": ""
        }
    },
    "nbformat_minor": 2,
    "nbformat": 4,
    "cells": [
        {
            "cell_type": "markdown",
            "source": [
                "1. <span style=\"color: rgb(36, 41, 47); font-family: -apple-system, BlinkMacSystemFont, &quot;Segoe UI&quot;, Helvetica, Arial, sans-serif, &quot;Apple Color Emoji&quot;, &quot;Segoe UI Emoji&quot;; font-size: 16px;\">Készítsünk listát éves bontásban norbert2 azonosítójú ügyfél rendeléseinek értékéről!</span>\n",
                "\n",
                "1. A lista megfelelően jelölve tartalmazza a végösszeget is!"
            ],
            "metadata": {
                "azdata_cell_guid": "363cd270-6577-449b-9c89-d4b7c7972d52"
            },
            "attachments": {}
        },
        {
            "cell_type": "code",
            "source": [
                "select case grouping_id(Year(r.REND_DATUM))\r\n",
                "            when 1 then 'Összesen'\r\n",
                "            else cast(Year(r.REND_DATUM) as nvarchar(4))\r\n",
                "        end  as 'Év',\r\n",
                "       sum(MENNYISEG*EGYSEGAR) as 'Rendelés értéke'\r\n",
                "from Rendeles_tetel rt join Rendeles r on rt.SORSZAM = r.SORSZAM\r\n",
                "where r.[LOGIN] = 'norbert2'\r\n",
                "group by rollup(Year(r.REND_DATUM))\r\n",
                ""
            ],
            "metadata": {
                "azdata_cell_guid": "6ab9f633-a3b5-48c9-a1dc-4fb8235ae85b",
                "language": "sql"
            },
            "outputs": [],
            "execution_count": null
        },
        {
            "cell_type": "markdown",
            "source": [
                "2. <span style=\"color: rgb(36, 41, 47); font-family: -apple-system, BlinkMacSystemFont, &quot;Segoe UI&quot;, Helvetica, Arial, sans-serif, &quot;Apple Color Emoji&quot;, &quot;Segoe UI Emoji&quot;; font-size: 16px;\">Készítsünk listát szállítási dátumonként, azon belül szállítási módonként az egyes rendelések összmennyiségéről!</span>\n",
                "\n",
                "1. Csak azokat a termékeket vegyük figyelembe, amelyek mennyiségi egysége db!\n",
                "2. A listát szűrjük úgy, hogy az csak a részösszeg sorokat és a végösszeget tartalmazza!"
            ],
            "metadata": {
                "azdata_cell_guid": "ea75c103-911f-41a3-a32c-3d40fb3e4e4a"
            },
            "attachments": {}
        },
        {
            "cell_type": "code",
            "source": [
                ""
            ],
            "metadata": {
                "azdata_cell_guid": "222b9618-a8e8-42b4-a8e8-d002257122b7",
                "language": "sql"
            },
            "outputs": [],
            "execution_count": null
        },
        {
            "cell_type": "markdown",
            "source": [
                "```\n",
                "3. Hány olyan ügyfél van, aki még nem rendelt semmit?\n",
                "```\n",
                "\n",
                "1. Csoportosítsuk őket nem szerint, azon belül életkor szerint!\n",
                "2. A lista tartalmazza a részösszegeket és a végösszeget is!\n",
                "\n",
                "![](https://moodle.uni-corvinus.hu/theme/image.php/adaptable/atto_h5p/1709548862/icon)"
            ],
            "metadata": {
                "azdata_cell_guid": "d7876bb9-76d0-4d07-baed-3cb17b2f96c3"
            },
            "attachments": {}
        },
        {
            "cell_type": "code",
            "source": [
                ""
            ],
            "metadata": {
                "azdata_cell_guid": "56ec19ce-e249-4551-b2a8-f17569765acc",
                "language": "sql"
            },
            "outputs": [],
            "execution_count": null
        },
        {
            "cell_type": "markdown",
            "source": [
                "4. <span style=\"color: rgb(36, 41, 47); font-family: -apple-system, BlinkMacSystemFont, &quot;Segoe UI&quot;, Helvetica, Arial, sans-serif, &quot;Apple Color Emoji&quot;, &quot;Segoe UI Emoji&quot;; font-size: 16px;\">Készítsünk listát a megrendelt termékek legkisebb és legnagyobb egységáráról szállítási dátum, azon belül szállítási mód szerinti bontásban!</span>\n",
                "\n",
                "1. A lista csak a 2015 májusi szállításokat tartalmazza!\n",
                "2. Jelenítsük meg a részösszegeket és a végösszeget is!"
            ],
            "metadata": {
                "azdata_cell_guid": "8e7fef82-8022-49a0-8255-fc2846c2134b"
            },
            "attachments": {}
        },
        {
            "cell_type": "code",
            "source": [
                ""
            ],
            "metadata": {
                "azdata_cell_guid": "36f7b396-4a1f-45e5-8720-2302537c91bc",
                "language": "sql"
            },
            "outputs": [],
            "execution_count": null
        },
        {
            "cell_type": "markdown",
            "source": [
                "5. <span style=\"color: rgb(36, 41, 47); font-family: -apple-system, BlinkMacSystemFont, &quot;Segoe UI&quot;, Helvetica, Arial, sans-serif, &quot;Apple Color Emoji&quot;, &quot;Segoe UI Emoji&quot;; font-size: 16px;\">Készítsünk csoportot a termékek listaára alapján a következők szerint:&nbsp;<br></span> <span style=\"color: rgb(36, 41, 47); font-family: -apple-system, BlinkMacSystemFont, &quot;Segoe UI&quot;, Helvetica, Arial, sans-serif, &quot;Apple Color Emoji&quot;, &quot;Segoe UI Emoji&quot;; font-size: 16px;\">Az \"olcsó\" termékek legyenek azok, amelyek listaára 3000 alatt van.<br>&nbsp;A \"drága\" termékek legyenek az 5000 felettiek, a többi legyen \"közepes\".</span>\n",
                "\n",
                "1. Listázzuk az egyes csoportokat, és a csoportokba tartozó termékek darabszámát!\n",
                "2. A lista jelenítse meg a végösszeget is!"
            ],
            "metadata": {
                "azdata_cell_guid": "84239ca2-6b5e-49f5-9860-d44c11d6de32"
            },
            "attachments": {}
        },
        {
            "cell_type": "code",
            "source": [
                "select iif(grouping_id(case \r\n",
                "            when LISTAAR < 3000 then 'olcsó'\r\n",
                "            when LISTAAR > 5000 then 'drága'\r\n",
                "            else 'közepes'\r\n",
                "       end) = 1, 'Összesen',  (case \r\n",
                "            when LISTAAR < 3000 then 'olcsó'\r\n",
                "            when LISTAAR > 5000 then 'drága'\r\n",
                "            else 'közepes'\r\n",
                "       end)),     \r\n",
                "         count(TERMEKKOD)\r\n",
                "from Termek\r\n",
                "group by rollup( case \r\n",
                "            when LISTAAR < 3000 then 'olcsó'\r\n",
                "            when LISTAAR > 5000 then 'drága'\r\n",
                "            else 'közepes'\r\n",
                "       end)\r\n",
                ""
            ],
            "metadata": {
                "azdata_cell_guid": "06d9a62b-9430-424b-a135-d80e675f0eb3",
                "language": "sql"
            },
            "outputs": [],
            "execution_count": null
        },
        {
            "cell_type": "markdown",
            "source": [
                "6. <span style=\"font-weight: 600; color: rgb(36, 41, 47); font-family: -apple-system, BlinkMacSystemFont, &quot;Segoe UI&quot;, Helvetica, Arial, sans-serif, &quot;Apple Color Emoji&quot;, &quot;Segoe UI Emoji&quot;; font-size: 16px;\">Készítsünk listát az ügyfelek adatairól név szerinti sorrendben.</span>\n",
                "\n",
                "1. Minden sorban jelenjen meg a sorrend szerint előző, illetve következő ügyfél neve is.\n",
                "2. Ha nincs előző vagy következő ügyfél, akkor a 'Nincs' jelenjen meg!"
            ],
            "metadata": {
                "azdata_cell_guid": "b0d15045-3c43-4f3a-b8d4-76b4f24e5546"
            },
            "attachments": {}
        },
        {
            "cell_type": "code",
            "source": [
                "select *,\r\n",
                "       -- előző ügyfél,\r\n",
                "       lag(NEV, 1, 'Nincs') over(order by NEV),\r\n",
                "       -- következő ügyfél\r\n",
                "       lead(NEV, 1, 'Nincs') over(order by NEV)\r\n",
                "from Ugyfel\r\n",
                "order by NEV"
            ],
            "metadata": {
                "azdata_cell_guid": "f2b7400d-1255-40ac-9250-4d57f9da5357",
                "language": "sql"
            },
            "outputs": [],
            "execution_count": null
        },
        {
            "cell_type": "markdown",
            "source": [
                "7. <span style=\"font-weight: 600; color: rgb(36, 41, 47); font-family: -apple-system, BlinkMacSystemFont, &quot;Segoe UI&quot;, Helvetica, Arial, sans-serif, &quot;Apple Color Emoji&quot;, &quot;Segoe UI Emoji&quot;; font-size: 16px;\">Készítsünk lekérdezést, amely megmutatja, hogy melyik termékkategóriába hány termék tartozik. A lista a kategória nevét és a darabszámot jelenítse meg.</span>\n",
                "\n",
                "1. A lista ne tartalmazzon duplikált sorokat.\n",
                "2. A feladatot partíciók segítségével oldjuk meg!"
            ],
            "metadata": {
                "azdata_cell_guid": "7ebf7ddd-1bd2-4246-815a-be8ae37e3b5b"
            },
            "attachments": {}
        },
        {
            "cell_type": "code",
            "source": [
                "select tk.KAT_NEV,\r\n",
                "       listaar,\r\n",
                "       count(t.TERMEKKOD) over(partition by tk.KAT_NEV order by tk.KAT_NEV)\r\n",
                "from Termek t join Termekkategoria tk on t.KAT_ID = tk.KAT_ID\r\n",
                "-- group by tk.KAT_NEV"
            ],
            "metadata": {
                "azdata_cell_guid": "f9f9f849-9613-452e-b8ff-c0c3b19425d3",
                "language": "sql"
            },
            "outputs": [],
            "execution_count": null
        },
        {
            "cell_type": "markdown",
            "source": [
                "8. <span style=\"font-weight: 600; color: rgb(36, 41, 47); font-family: -apple-system, BlinkMacSystemFont, &quot;Segoe UI&quot;, Helvetica, Arial, sans-serif, &quot;Apple Color Emoji&quot;, &quot;Segoe UI Emoji&quot;; font-size: 16px;\">Készítsünk listát a rendelési tételekről. Az egyes rendelési tételeket termékenként soroljuk be 4 osztályba a rendelés mennyisége alapján. Jelenítsük meg ezt az információt is egy új oszlopban, az oszlop neve legyen 'Mennyiségi kategória'.</span>\n",
                "\n",
                "1. A lista csak a 100 Ft feletti egységárú rendelési tételeket vegye figyelembe!"
            ],
            "metadata": {
                "azdata_cell_guid": "27a3d3dc-eafb-4a5e-b103-9f465b9eda8f"
            },
            "attachments": {}
        },
        {
            "cell_type": "code",
            "source": [
                "-- ntile függvény - csoportba sorolás, megadhatjuk, \r\n",
                "-- hogy hány csoportba sorolja, egyenlő csoportokra bontja "
            ],
            "metadata": {
                "azdata_cell_guid": "f09edb3f-649b-4a96-958e-9e12774ae8b7",
                "language": "sql"
            },
            "outputs": [],
            "execution_count": null
        },
        {
            "cell_type": "markdown",
            "source": [
                "9. <span style=\"font-weight: 600; color: rgb(36, 41, 47); font-family: -apple-system, BlinkMacSystemFont, &quot;Segoe UI&quot;, Helvetica, Arial, sans-serif, &quot;Apple Color Emoji&quot;, &quot;Segoe UI Emoji&quot;; font-size: 16px;\">Listázzuk a termékek kódját, megnevezését, kategóriájának nevét, és listaárát.</span>\n",
                "\n",
                "1. A listát egészítsük ki két új oszloppal, amelyek a kategória legolcsóbb, illetve legdrágább termékének árát tartalmazzák.\n",
                "2. A két új oszlop létrehozásánál partíciókkal dolgozzunk!"
            ],
            "metadata": {
                "azdata_cell_guid": "f12a331a-0e26-4d3d-9c68-812316286577"
            },
            "attachments": {}
        },
        {
            "cell_type": "code",
            "source": [
                "-- first_value() és last_value() fv-ek (partíció legelső és legutolsó eleme - legolcsóbb és legdrágább termék)"
            ],
            "metadata": {
                "azdata_cell_guid": "10a77fc9-e61a-46fc-a401-59720d82bc50",
                "language": "sql"
            },
            "outputs": [],
            "execution_count": null
        },
        {
            "cell_type": "markdown",
            "source": [
                "10. <span style=\"font-weight: 600; color: rgb(36, 41, 47); font-family: -apple-system, BlinkMacSystemFont, &quot;Segoe UI&quot;, Helvetica, Arial, sans-serif, &quot;Apple Color Emoji&quot;, &quot;Segoe UI Emoji&quot;; font-size: 16px;\">Készítsünk listát a rendelésekről. A lista legyen rendezve ügyfelenként (LOGIN), azon belül a rendelés dátuma szerint. A listához készítsünk sorszámozást is. A sorszám a következő formában jelenjen meg: sorszám_év_login. Pl: 1_2015_adam1</span>\n",
                "\n",
                "1. A számozás login-onként, azon belül rendelési évenként kezdődjön újra.\n",
                "2. A sorszám oszlop neve legyen Azonosító"
            ],
            "metadata": {
                "azdata_cell_guid": "9229e2b6-e200-4499-b95b-2d0222149831"
            },
            "attachments": {}
        },
        {
            "cell_type": "code",
            "source": [
                ""
            ],
            "metadata": {
                "azdata_cell_guid": "8b49ed67-28c6-4880-82a8-cd369e5bba99",
                "language": "sql"
            },
            "outputs": [],
            "execution_count": null
        },
        {
            "cell_type": "markdown",
            "source": [
                "11. <span style=\"color: rgb(36, 41, 47); font-family: -apple-system, BlinkMacSystemFont, &quot;Segoe UI&quot;, Helvetica, Arial, sans-serif, &quot;Apple Color Emoji&quot;, &quot;Segoe UI Emoji&quot;; font-size: 16px;\">Készítsünk listát a termékek adatairól listaár szerint növekvő sorrendben! A lista jelenítse meg két új oszlopban a sorrend szerint előző, illetve következő termék listaárát is a termék saját kategóriájában és raktárában!</span>\n",
                "\n",
                "1. Ahol nincs előző vagy következő érték, ott 0 jelenjen meg!\n",
                "2. Az oszlopokat nevezzük el értelemszerűen!"
            ],
            "metadata": {
                "azdata_cell_guid": "7f5fc7a7-3b6a-4d89-b292-490830afb0c6"
            },
            "attachments": {}
        },
        {
            "cell_type": "code",
            "source": [
                ""
            ],
            "metadata": {
                "azdata_cell_guid": "4a9ece40-f782-4c0d-92cd-9c21969067ed",
                "language": "sql"
            },
            "outputs": [],
            "execution_count": null
        },
        {
            "cell_type": "markdown",
            "source": [
                "12. <span style=\"color: rgb(36, 41, 47); font-family: -apple-system, BlinkMacSystemFont, &quot;Segoe UI&quot;, Helvetica, Arial, sans-serif, &quot;Apple Color Emoji&quot;, &quot;Segoe UI Emoji&quot;; font-size: 16px;\">Listázzuk a termékek kódját, nevét és listaárát listaár szerinti sorrendben!</span>\n",
                "\n",
                "1. Vegyünk fel egy új oszlopot Mozgóátlag néven, amely minden esetben az aktuális termék, az előző, és a következő termék átlagárát tartalmazza!\n",
                "2. A mozgóátlagot kerekítsük két tizedesre!"
            ],
            "metadata": {
                "azdata_cell_guid": "5a483c52-bb98-44bb-bd03-1146d4b0abfa"
            },
            "attachments": {}
        },
        {
            "cell_type": "code",
            "source": [
                "-- fizikai ablak\r\n",
                "select TERMEKKOD,\r\n",
                "       MEGNEVEZES, \r\n",
                "       LISTAAR,\r\n",
                "       -- mozgóátlag = (előző + aktuális + következő) / 3\r\n",
                "       (lag(LISTAAR) over(order by listaar) + \r\n",
                "       LISTAAR + \r\n",
                "       lead(LISTAAR) over(order by listaar)) / 3 as 'Mozgóátlag',\r\n",
                "       -- fizikai ablak: 3 soros \r\n",
                "       AVG(LISTAAR) over(order by listaar rows between 1 preceding and 1 following) as 'Mozgóátlag 2'\r\n",
                "from Termek\r\n",
                "order by LISTAAR"
            ],
            "metadata": {
                "azdata_cell_guid": "dd6e89bd-08f9-4b18-8460-03c45b503df0",
                "language": "sql"
            },
            "outputs": [],
            "execution_count": null
        },
        {
            "cell_type": "markdown",
            "source": [
                "13. <span style=\"color: rgb(36, 41, 47); font-family: -apple-system, BlinkMacSystemFont, &quot;Segoe UI&quot;, Helvetica, Arial, sans-serif, &quot;Apple Color Emoji&quot;, &quot;Segoe UI Emoji&quot;; font-size: 16px;\">Készítsünk listát, amely a rendelések sorszámát és a rendelés értékét tartalmazza. A listát egészítsük ki egy új oszloppal, amely minden rendelés esetén addigi rendelések összegét tartalmazza (az aktuálisat is beleértve)!</span>\n",
                "\n",
                "1. A listát rendezzük sorszám szerint növekvő sorrendbe.\n",
                "2. A lista ne tartalmazzon duplikált sorokat!"
            ],
            "metadata": {
                "azdata_cell_guid": "85d5cb66-96c6-42de-99cf-85ab22d08548"
            },
            "attachments": {}
        },
        {
            "cell_type": "code",
            "source": [
                "-- logikai ablak elejétől az aktuálisig\r\n",
                "select distinct SORSZAM,\r\n",
                "       -- aktuális rendelés értéke\r\n",
                "       sum(MENNYISEG * EGYSEGAR) over(partition by SORSZAM),\r\n",
                "       -- eddigi értékek összértéke\r\n",
                "       sum(MENNYISEG * EGYSEGAR) over(order by SORSZAM\r\n",
                "       range between unbounded preceding and current row)\r\n",
                "       as 'Göngyölített összeg'\r\n",
                "from Rendeles_tetel\r\n",
                "--group by SORSZAM\r\n",
                "order by SORSZAM"
            ],
            "metadata": {
                "azdata_cell_guid": "cb07d64b-0eaa-498b-b4d2-0b46971e95ce",
                "language": "sql"
            },
            "outputs": [],
            "execution_count": null
        },
        {
            "cell_type": "markdown",
            "source": [
                "14. <span style=\"color: rgb(36, 41, 47); font-family: -apple-system, BlinkMacSystemFont, &quot;Segoe UI&quot;, Helvetica, Arial, sans-serif, &quot;Apple Color Emoji&quot;, &quot;Segoe UI Emoji&quot;; font-size: 16px;\">Készítsünk listát a termékek kódjáról, nevéről, kategória azonosítójáról, raktár azonosítójáról és listaáráról, valamint a termék adott szempontok szerinti rangsorokban elfoglalt helyezéseiről. (Szempontonként külön oszlopban, a helyezéseknél növekvő sorrendet feltételezve). A szempontok a következők legyenek: listaár, kategória szerinti listaár, és raktárkód szerinti listaár.</span>\n",
                "\n",
                "1. Az oszlopokat nevezzük el értelemszerűen.\n",
                "2. A helyezések egyenlőség esetén \"sűrűn\" kövessék egymást.\n",
                "3. A lista legyen rendezett kategória azonosító, azon belül listaár szerint!"
            ],
            "metadata": {
                "azdata_cell_guid": "f95ad665-a807-4099-bf06-64ed974f866f"
            },
            "attachments": {}
        },
        {
            "cell_type": "code",
            "source": [
                "-- sorszámozás: row_mumber() (rank(), dense_rank())\r\n",
                "-- beszámozza az elemeket (pl 1-es termék a legolcsóbb stb --> row_number() - nem számít az azonos érték)\r\n",
                "-- rank egyforma számot ad azonos elemeknek, de ha pl két első van, akkor az első három sorszáma: 1, 1, 3\r\n",
                "-- dense_rank: uez, mint a rank, de a sorszámok: 1, 1, 2\r\n",
                "\r\n",
                "select -- sorszám\r\n",
                "       dense_rank() over(order by listaar) as 'Listaár szerinti sorszám',\r\n",
                "       dense_rank() over(order by KAT_ID) as 'Kategória szerinti sorszám',\r\n",
                "       dense_rank() over(order by RAKTAR_KOD) as 'Raktár szerinti sorszám',\r\n",
                "       TERMEKKOD as 'Termékkód',\r\n",
                "       MEGNEVEZES as 'Termék neve',\r\n",
                "       KAT_ID as 'Kategória',\r\n",
                "       RAKTAR_KOD as 'Raktár',\r\n",
                "       LISTAAR as 'Listaár'\r\n",
                "from Termek"
            ],
            "metadata": {
                "azdata_cell_guid": "74c7ec8a-ae4a-4d03-b1c4-e8f6bb1be12c",
                "language": "sql"
            },
            "outputs": [
                {
                    "output_type": "display_data",
                    "data": {
                        "text/html": "(551 rows affected)"
                    },
                    "metadata": {}
                },
                {
                    "output_type": "display_data",
                    "data": {
                        "text/html": "Total execution time: 00:00:00.016"
                    },
                    "metadata": {}
                },
                {
                    "output_type": "execute_result",
                    "metadata": {},
                    "execution_count": 32,
                    "data": {
                        "application/vnd.dataresource+json": {
                            "schema": {
                                "fields": [
                                    {
                                        "name": "Listaár szerinti sorszám"
                                    },
                                    {
                                        "name": "Kategória szerinti sorszám"
                                    },
                                    {
                                        "name": "Raktár szerinti sorszám"
                                    },
                                    {
                                        "name": "Termékkód"
                                    },
                                    {
                                        "name": "Termék neve"
                                    },
                                    {
                                        "name": "Kategória"
                                    },
                                    {
                                        "name": "Raktár"
                                    },
                                    {
                                        "name": "Listaár"
                                    }
                                ]
                            },
                            "data": [
                                {
                                    "Listaár szerinti sorszám": "149",
                                    "Kategória szerinti sorszám": "31",
                                    "Raktár szerinti sorszám": "1",
                                    "Termékkód": "L023-FE301",
                                    "Termék neve": "lány alsó",
                                    "Kategória": "35",
                                    "Raktár": "1",
                                    "Listaár": "390"
                                },
                                {
                                    "Listaár szerinti sorszám": "206",
                                    "Kategória szerinti sorszám": "33",
                                    "Raktár szerinti sorszám": "1",
                                    "Termékkód": "F021-IN215",
                                    "Termék neve": "férfi ing",
                                    "Kategória": "37",
                                    "Raktár": "1",
                                    "Listaár": "6490"
                                },
                                {
                                    "Listaár szerinti sorszám": "216",
                                    "Kategória szerinti sorszám": "34",
                                    "Raktár szerinti sorszám": "1",
                                    "Termékkód": "F001-KB101",
                                    "Termék neve": "férfi szövet kabát",
                                    "Kategória": "38",
                                    "Raktár": "1",
                                    "Listaár": "22000"
                                },
                                {
                                    "Listaár szerinti sorszám": "213",
                                    "Kategória szerinti sorszám": "35",
                                    "Raktár szerinti sorszám": "1",
                                    "Termékkód": "F013-NA207",
                                    "Termék neve": "férfi szövet nadrág",
                                    "Kategória": "39",
                                    "Raktár": "1",
                                    "Listaár": "11900"
                                },
                                {
                                    "Listaár szerinti sorszám": "207",
                                    "Kategória szerinti sorszám": "50",
                                    "Raktár szerinti sorszám": "1",
                                    "Termékkód": "G064-CI401",
                                    "Termék neve": "gyermek szandál (fiú)",
                                    "Kategória": "54",
                                    "Raktár": "1",
                                    "Listaár": "6900"
                                },
                                {
                                    "Listaár szerinti sorszám": "212",
                                    "Kategória szerinti sorszám": "51",
                                    "Raktár szerinti sorszám": "1",
                                    "Termékkód": "L001-KB101",
                                    "Termék neve": "gyermek kabát (lány)",
                                    "Kategória": "55",
                                    "Raktár": "1",
                                    "Listaár": "8900"
                                },
                                {
                                    "Listaár szerinti sorszám": "212",
                                    "Kategória szerinti sorszám": "51",
                                    "Raktár szerinti sorszám": "1",
                                    "Termékkód": "G001-KB101",
                                    "Termék neve": "gyermek kabát (fiú)",
                                    "Kategória": "55",
                                    "Raktár": "1",
                                    "Listaár": "8900"
                                },
                                {
                                    "Listaár szerinti sorszám": "195",
                                    "Kategória szerinti sorszám": "52",
                                    "Raktár szerinti sorszám": "1",
                                    "Termékkód": "L019-NA207",
                                    "Termék neve": "gyermek pamut nadrág (lány)",
                                    "Kategória": "56",
                                    "Raktár": "1",
                                    "Listaár": "1290"
                                },
                                {
                                    "Listaár szerinti sorszám": "210",
                                    "Kategória szerinti sorszám": "50",
                                    "Raktár szerinti sorszám": "1",
                                    "Termékkód": "L082-CI419",
                                    "Termék neve": "gyermek csizma (lány)",
                                    "Kategória": "54",
                                    "Raktár": "1",
                                    "Listaár": "8000"
                                },
                                {
                                    "Listaár szerinti sorszám": "217",
                                    "Kategória szerinti sorszám": "97",
                                    "Raktár szerinti sorszám": "1",
                                    "Termékkód": "N001-KB101",
                                    "Termék neve": "női szövet kabát",
                                    "Kategória": "107",
                                    "Raktár": "1",
                                    "Listaár": "24000"
                                },
                                {
                                    "Listaár szerinti sorszám": "201",
                                    "Kategória szerinti sorszám": "118",
                                    "Raktár szerinti sorszám": "1",
                                    "Termékkód": "U001-KI501",
                                    "Termék neve": "sál",
                                    "Kategória": "130",
                                    "Raktár": "1",
                                    "Listaár": "1990"
                                },
                                {
                                    "Listaár szerinti sorszám": "211",
                                    "Kategória szerinti sorszám": "98",
                                    "Raktár szerinti sorszám": "2",
                                    "Termékkód": "N008-NA201",
                                    "Termék neve": "női farmer nadrág",
                                    "Kategória": "108",
                                    "Raktár": "2",
                                    "Listaár": "8290"
                                },
                                {
                                    "Listaár szerinti sorszám": "220",
                                    "Kategória szerinti sorszám": "79",
                                    "Raktár szerinti sorszám": "2",
                                    "Termékkód": "N039-AL222",
                                    "Termék neve": "kosztüm (hosszú)",
                                    "Kategória": "88",
                                    "Raktár": "2",
                                    "Listaár": "46000"
                                },
                                {
                                    "Listaár szerinti sorszám": "209",
                                    "Kategória szerinti sorszám": "50",
                                    "Raktár szerinti sorszám": "2",
                                    "Termékkód": "G073-CI410",
                                    "Termék neve": "gyermek cipő (fiú)",
                                    "Kategória": "54",
                                    "Raktár": "2",
                                    "Listaár": "7900"
                                },
                                {
                                    "Listaár szerinti sorszám": "15",
                                    "Kategória szerinti sorszám": "42",
                                    "Raktár szerinti sorszám": "2",
                                    "Termékkód": "06080119T",
                                    "Termék neve": "Füzetborító mesefig.",
                                    "Kategória": "46",
                                    "Raktár": "2",
                                    "Listaár": "19"
                                },
                                {
                                    "Listaár szerinti sorszám": "176",
                                    "Kategória szerinti sorszám": "31",
                                    "Raktár szerinti sorszám": "2",
                                    "Termékkód": "N019-FE301",
                                    "Termék neve": "női alsó",
                                    "Kategória": "35",
                                    "Raktár": "2",
                                    "Listaár": "690"
                                },
                                {
                                    "Listaár szerinti sorszám": "149",
                                    "Kategória szerinti sorszám": "31",
                                    "Raktár szerinti sorszám": "3",
                                    "Termékkód": "G023-FE301",
                                    "Termék neve": "fiú alsó",
                                    "Kategória": "35",
                                    "Raktár": "3",
                                    "Listaár": "390"
                                },
                                {
                                    "Listaár szerinti sorszám": "190",
                                    "Kategória szerinti sorszám": "31",
                                    "Raktár szerinti sorszám": "3",
                                    "Termékkód": "G038-FE316",
                                    "Termék neve": "fiú harisnya",
                                    "Kategória": "35",
                                    "Raktár": "3",
                                    "Listaár": "990"
                                },
                                {
                                    "Listaár szerinti sorszám": "190",
                                    "Kategória szerinti sorszám": "31",
                                    "Raktár szerinti sorszám": "3",
                                    "Termékkód": "L033-FE311",
                                    "Termék neve": "lány harisnya",
                                    "Kategória": "35",
                                    "Raktár": "3",
                                    "Listaár": "990"
                                },
                                {
                                    "Listaár szerinti sorszám": "208",
                                    "Kategória szerinti sorszám": "35",
                                    "Raktár szerinti sorszám": "3",
                                    "Termékkód": "F007-NA201",
                                    "Termék neve": "férfi farmer nadrág",
                                    "Kategória": "39",
                                    "Raktár": "3",
                                    "Listaár": "7890"
                                },
                                {
                                    "Listaár szerinti sorszám": "215",
                                    "Kategória szerinti sorszám": "5",
                                    "Raktár szerinti sorszám": "3",
                                    "Termékkód": "L041-AL211",
                                    "Termék neve": "lány ünneplős ruha",
                                    "Kategória": "8",
                                    "Raktár": "3",
                                    "Listaár": "16900"
                                },
                                {
                                    "Listaár szerinti sorszám": "209",
                                    "Kategória szerinti sorszám": "50",
                                    "Raktár szerinti sorszám": "3",
                                    "Termékkód": "L073-CI410",
                                    "Termék neve": "gyermek cipő (lány)",
                                    "Kategória": "54",
                                    "Raktár": "3",
                                    "Listaár": "7900"
                                },
                                {
                                    "Listaár szerinti sorszám": "210",
                                    "Kategória szerinti sorszám": "50",
                                    "Raktár szerinti sorszám": "3",
                                    "Termékkód": "G082-CI419",
                                    "Termék neve": "gyermek csizma (fiú)",
                                    "Kategória": "54",
                                    "Raktár": "3",
                                    "Listaár": "8000"
                                },
                                {
                                    "Listaár szerinti sorszám": "203",
                                    "Kategória szerinti sorszám": "53",
                                    "Raktár szerinti sorszám": "3",
                                    "Termékkód": "L048-PO218",
                                    "Termék neve": "gyermek póló (lány)",
                                    "Kategória": "57",
                                    "Raktár": "3",
                                    "Listaár": "3900"
                                },
                                {
                                    "Listaár szerinti sorszám": "203",
                                    "Kategória szerinti sorszám": "53",
                                    "Raktár szerinti sorszám": "3",
                                    "Termékkód": "G048-PO218",
                                    "Termék neve": "gyermek póló (fiú)",
                                    "Kategória": "57",
                                    "Raktár": "3",
                                    "Listaár": "3900"
                                },
                                {
                                    "Listaár szerinti sorszám": "205",
                                    "Kategória szerinti sorszám": "52",
                                    "Raktár szerinti sorszám": "3",
                                    "Termékkód": "G013-NA201",
                                    "Termék neve": "gyermek farmer nadrág (fiú)",
                                    "Kategória": "56",
                                    "Raktár": "3",
                                    "Listaár": "4990"
                                },
                                {
                                    "Listaár szerinti sorszám": "205",
                                    "Kategória szerinti sorszám": "52",
                                    "Raktár szerinti sorszám": "3",
                                    "Termékkód": "L013-NA201",
                                    "Termék neve": "gyermek farmer nadrág (lány)",
                                    "Kategória": "56",
                                    "Raktár": "3",
                                    "Listaár": "4990"
                                },
                                {
                                    "Listaár szerinti sorszám": "195",
                                    "Kategória szerinti sorszám": "52",
                                    "Raktár szerinti sorszám": "3",
                                    "Termékkód": "G019-NA207",
                                    "Termék neve": "gyermek pamut nadrág (fiú)",
                                    "Kategória": "56",
                                    "Raktár": "3",
                                    "Listaár": "1290"
                                },
                                {
                                    "Listaár szerinti sorszám": "207",
                                    "Kategória szerinti sorszám": "50",
                                    "Raktár szerinti sorszám": "3",
                                    "Termékkód": "L064-CI401",
                                    "Termék neve": "gyermek szandál (lány)",
                                    "Kategória": "54",
                                    "Raktár": "3",
                                    "Listaár": "6900"
                                },
                                {
                                    "Listaár szerinti sorszám": "219",
                                    "Kategória szerinti sorszám": "79",
                                    "Raktár szerinti sorszám": "3",
                                    "Termékkód": "N035-AL218",
                                    "Termék neve": "kosztüm (rövid)",
                                    "Kategória": "88",
                                    "Raktár": "3",
                                    "Listaár": "39000"
                                },
                                {
                                    "Listaár szerinti sorszám": "218",
                                    "Kategória szerinti sorszám": "5",
                                    "Raktár szerinti sorszám": "4",
                                    "Termékkód": "N029-AL212",
                                    "Termék neve": "női koktélruha",
                                    "Kategória": "8",
                                    "Raktár": "4",
                                    "Listaár": "32000"
                                },
                                {
                                    "Listaár szerinti sorszám": "215",
                                    "Kategória szerinti sorszám": "5",
                                    "Raktár szerinti sorszám": "4",
                                    "Termékkód": "G041-AL211",
                                    "Termék neve": "fiú ünneplős ruha",
                                    "Kategória": "8",
                                    "Raktár": "4",
                                    "Listaár": "16900"
                                },
                                {
                                    "Listaár szerinti sorszám": "120",
                                    "Kategória szerinti sorszám": "31",
                                    "Raktár szerinti sorszám": "4",
                                    "Termékkód": "G029-FE307",
                                    "Termék neve": "fiú zokni",
                                    "Kategória": "35",
                                    "Raktár": "4",
                                    "Listaár": "240"
                                },
                                {
                                    "Listaár szerinti sorszám": "120",
                                    "Kategória szerinti sorszám": "31",
                                    "Raktár szerinti sorszám": "4",
                                    "Termékkód": "L029-FE307",
                                    "Termék neve": "lány zokni",
                                    "Kategória": "35",
                                    "Raktár": "4",
                                    "Listaár": "240"
                                },
                                {
                                    "Listaár szerinti sorszám": "50",
                                    "Kategória szerinti sorszám": "26",
                                    "Raktár szerinti sorszám": "5",
                                    "Termékkód": "06010085T",
                                    "Termék neve": "Ecset Lizzy 10-es",
                                    "Kategória": "30",
                                    "Raktár": "5",
                                    "Listaár": "65"
                                },
                                {
                                    "Listaár szerinti sorszám": "19",
                                    "Kategória szerinti sorszám": "27",
                                    "Raktár szerinti sorszám": "5",
                                    "Termékkód": "01040502T",
                                    "Termék neve": "Előlap spirálhoz",
                                    "Kategória": "31",
                                    "Raktár": "5",
                                    "Listaár": "25"
                                },
                                {
                                    "Listaár szerinti sorszám": "149",
                                    "Kategória szerinti sorszám": "37",
                                    "Raktár szerinti sorszám": "5",
                                    "Termékkód": "07040100T",
                                    "Termék neve": "Filctoll Marvy alkoholos",
                                    "Kategória": "41",
                                    "Raktár": "5",
                                    "Listaár": "390"
                                },
                                {
                                    "Listaár szerinti sorszám": "127",
                                    "Kategória szerinti sorszám": "37",
                                    "Raktár szerinti sorszám": "5",
                                    "Termékkód": "07030107T",
                                    "Termék neve": "Filctoll, textil Edding 4500",
                                    "Kategória": "41",
                                    "Raktár": "5",
                                    "Listaár": "276"
                                },
                                {
                                    "Listaár szerinti sorszám": "128",
                                    "Kategória szerinti sorszám": "37",
                                    "Raktár szerinti sorszám": "5",
                                    "Termékkód": "07040098T",
                                    "Termék neve": "Filctoll document pen",
                                    "Kategória": "41",
                                    "Raktár": "5",
                                    "Listaár": "278"
                                },
                                {
                                    "Listaár szerinti sorszám": "180",
                                    "Kategória szerinti sorszám": "32",
                                    "Raktár szerinti sorszám": "5",
                                    "Termékkód": "01100096T",
                                    "Termék neve": "Fénymásoló papír Qconnect",
                                    "Kategória": "36",
                                    "Raktár": "5",
                                    "Listaár": "728"
                                },
                                {
                                    "Listaár szerinti sorszám": "30",
                                    "Kategória szerinti sorszám": "16",
                                    "Raktár szerinti sorszám": "5",
                                    "Termékkód": "07040047T",
                                    "Termék neve": "Ceruza 2H-4B",
                                    "Kategória": "19",
                                    "Raktár": "5",
                                    "Listaár": "39"
                                },
                                {
                                    "Listaár szerinti sorszám": "17",
                                    "Kategória szerinti sorszám": "16",
                                    "Raktár szerinti sorszám": "5",
                                    "Termékkód": "07040053T",
                                    "Termék neve": "Ceruza HB radiros",
                                    "Kategória": "19",
                                    "Raktár": "5",
                                    "Listaár": "23"
                                },
                                {
                                    "Listaár szerinti sorszám": "87",
                                    "Kategória szerinti sorszám": "16",
                                    "Raktár szerinti sorszám": "5",
                                    "Termékkód": "07080062T",
                                    "Termék neve": "Ceruza szén",
                                    "Kategória": "19",
                                    "Raktár": "5",
                                    "Listaár": "146"
                                },
                                {
                                    "Listaár szerinti sorszám": "12",
                                    "Kategória szerinti sorszám": "18",
                                    "Raktár szerinti sorszám": "5",
                                    "Termékkód": "01100497T",
                                    "Termék neve": "Color Copy 160 g-os ",
                                    "Kategória": "21",
                                    "Raktár": "5",
                                    "Listaár": "14"
                                },
                                {
                                    "Listaár szerinti sorszám": "199",
                                    "Kategória szerinti sorszám": "18",
                                    "Raktár szerinti sorszám": "5",
                                    "Termékkód": "01100496T",
                                    "Termék neve": "Színes másoló a/4 80g",
                                    "Kategória": "21",
                                    "Raktár": "5",
                                    "Listaár": "1500"
                                },
                                {
                                    "Listaár szerinti sorszám": "43",
                                    "Kategória szerinti sorszám": "20",
                                    "Raktár szerinti sorszám": "5",
                                    "Termékkód": "03080019T",
                                    "Termék neve": "Ajándék csom. Krepp",
                                    "Kategória": "24",
                                    "Raktár": "5",
                                    "Listaár": "56"
                                },
                                {
                                    "Listaár szerinti sorszám": "78",
                                    "Kategória szerinti sorszám": "20",
                                    "Raktár szerinti sorszám": "5",
                                    "Termékkód": "03080018T",
                                    "Termék neve": "Ajándék csom. gyűrt 50x70 ",
                                    "Kategória": "24",
                                    "Raktár": "5",
                                    "Listaár": "121"
                                },
                                {
                                    "Listaár szerinti sorszám": "34",
                                    "Kategória szerinti sorszám": "21",
                                    "Raktár szerinti sorszám": "5",
                                    "Termékkód": "04030286T",
                                    "Termék neve": "Műanyag állatok",
                                    "Kategória": "25",
                                    "Raktár": "5",
                                    "Listaár": "44"
                                },
                                {
                                    "Listaár szerinti sorszám": "34",
                                    "Kategória szerinti sorszám": "23",
                                    "Raktár szerinti sorszám": "5",
                                    "Termékkód": "04050075T",
                                    "Termék neve": "Díszdoboz tollnak 2 db-os keskeny",
                                    "Kategória": "27",
                                    "Raktár": "5",
                                    "Listaár": "44"
                                },
                                {
                                    "Listaár szerinti sorszám": "141",
                                    "Kategória szerinti sorszám": "10",
                                    "Raktár szerinti sorszám": "5",
                                    "Termékkód": "02020033T",
                                    "Termék neve": "Beírókönyv A4",
                                    "Kategória": "13",
                                    "Raktár": "5",
                                    "Listaár": "328"
                                },
                                {
                                    "Listaár szerinti sorszám": "115",
                                    "Kategória szerinti sorszám": "9",
                                    "Raktár szerinti sorszám": "5",
                                    "Termékkód": "06080423T",
                                    "Termék neve": "Beíró A/5 kockás",
                                    "Kategória": "12",
                                    "Raktár": "5",
                                    "Listaár": "228"
                                },
                                {
                                    "Listaár szerinti sorszám": "13",
                                    "Kategória szerinti sorszám": "13",
                                    "Raktár szerinti sorszám": "5",
                                    "Termékkód": "02050460T",
                                    "Termék neve": "Boríték C/4-es",
                                    "Kategória": "16",
                                    "Raktár": "5",
                                    "Listaár": "15"
                                },
                                {
                                    "Listaár szerinti sorszám": "41",
                                    "Kategória szerinti sorszám": "16",
                                    "Raktár szerinti sorszám": "5",
                                    "Termékkód": "07040052T",
                                    "Termék neve": "Ceruza 2H-3B Koh-i-nor",
                                    "Kategória": "19",
                                    "Raktár": "5",
                                    "Listaár": "53"
                                },
                                {
                                    "Listaár szerinti sorszám": "140",
                                    "Kategória szerinti sorszám": "1",
                                    "Raktár szerinti sorszám": "5",
                                    "Termékkód": "08070483T",
                                    "Termék neve": "Fizikai feladatok és tévedések",
                                    "Kategória": "4",
                                    "Raktár": "5",
                                    "Listaár": "324"
                                },
                                {
                                    "Listaár szerinti sorszám": "179",
                                    "Kategória szerinti sorszám": "1",
                                    "Raktár szerinti sorszám": "5",
                                    "Termékkód": "08070493T",
                                    "Termék neve": "Érettségi felv. fel. Matematika",
                                    "Kategória": "4",
                                    "Raktár": "5",
                                    "Listaár": "720"
                                },
                                {
                                    "Listaár szerinti sorszám": "192",
                                    "Kategória szerinti sorszám": "1",
                                    "Raktár szerinti sorszám": "5",
                                    "Termékkód": "08070474T",
                                    "Termék neve": "A föld amelyen élünk - Hazánk földrajza",
                                    "Kategória": "4",
                                    "Raktár": "5",
                                    "Listaár": "1089"
                                },
                                {
                                    "Listaár szerinti sorszám": "82",
                                    "Kategória szerinti sorszám": "2",
                                    "Raktár szerinti sorszám": "5",
                                    "Termékkód": "04050267T",
                                    "Termék neve": "Logikai készlet",
                                    "Kategória": "5",
                                    "Raktár": "5",
                                    "Listaár": "129"
                                },
                                {
                                    "Listaár szerinti sorszám": "18",
                                    "Kategória szerinti sorszám": "2",
                                    "Raktár szerinti sorszám": "5",
                                    "Termékkód": "04050035T",
                                    "Termék neve": "Bérlet tok",
                                    "Kategória": "5",
                                    "Raktár": "5",
                                    "Listaár": "24"
                                },
                                {
                                    "Listaár szerinti sorszám": "23",
                                    "Kategória szerinti sorszám": "54",
                                    "Raktár szerinti sorszám": "5",
                                    "Termékkód": "02040177T",
                                    "Termék neve": "Gyorsfűző műa.",
                                    "Kategória": "58",
                                    "Raktár": "5",
                                    "Listaár": "30"
                                },
                                {
                                    "Listaár szerinti sorszám": "90",
                                    "Kategória szerinti sorszám": "55",
                                    "Raktár szerinti sorszám": "5",
                                    "Termékkód": "06080440T",
                                    "Termék neve": "Gyurma 12 szinű",
                                    "Kategória": "59",
                                    "Raktár": "5",
                                    "Listaár": "161"
                                },
                                {
                                    "Listaár szerinti sorszám": "101",
                                    "Kategória szerinti sorszám": "61",
                                    "Raktár szerinti sorszám": "5",
                                    "Termékkód": "02040195T",
                                    "Termék neve": "Hibajavító ecsetes Aqua",
                                    "Kategória": "66",
                                    "Raktár": "5",
                                    "Listaár": "185"
                                },
                                {
                                    "Listaár szerinti sorszám": "13",
                                    "Kategória szerinti sorszám": "63",
                                    "Raktár szerinti sorszám": "5",
                                    "Termékkód": "06040205T",
                                    "Termék neve": "Indigó Pelikán",
                                    "Kategória": "68",
                                    "Raktár": "5",
                                    "Listaár": "15"
                                },
                                {
                                    "Listaár szerinti sorszám": "10",
                                    "Kategória szerinti sorszám": "63",
                                    "Raktár szerinti sorszám": "5",
                                    "Termékkód": "06040206T",
                                    "Termék neve": "kék indigó",
                                    "Kategória": "68",
                                    "Raktár": "5",
                                    "Listaár": "12"
                                },
                                {
                                    "Listaár szerinti sorszám": "124",
                                    "Kategória szerinti sorszám": "65",
                                    "Raktár szerinti sorszám": "5",
                                    "Termékkód": "02080432T",
                                    "Termék neve": "Tokos iratrendező",
                                    "Kategória": "71",
                                    "Raktár": "5",
                                    "Listaár": "259"
                                },
                                {
                                    "Listaár szerinti sorszám": "45",
                                    "Kategória szerinti sorszám": "68",
                                    "Raktár szerinti sorszám": "5",
                                    "Termékkód": "02040214T",
                                    "Termék neve": "Iromány fedél feles",
                                    "Kategória": "74",
                                    "Raktár": "5",
                                    "Listaár": "59"
                                },
                                {
                                    "Listaár szerinti sorszám": "28",
                                    "Kategória szerinti sorszám": "70",
                                    "Raktár szerinti sorszám": "5",
                                    "Termékkód": "07040216T",
                                    "Termék neve": "Ironbél B 0,5",
                                    "Kategória": "76",
                                    "Raktár": "5",
                                    "Listaár": "36"
                                },
                                {
                                    "Listaár szerinti sorszám": "54",
                                    "Kategória szerinti sorszám": "71",
                                    "Raktár szerinti sorszám": "5",
                                    "Termékkód": "06050249T",
                                    "Termék neve": "Krepp papír",
                                    "Kategória": "78",
                                    "Raktár": "5",
                                    "Listaár": "73"
                                },
                                {
                                    "Listaár szerinti sorszám": "44",
                                    "Kategória szerinti sorszám": "71",
                                    "Raktár szerinti sorszám": "5",
                                    "Termékkód": "06040384T",
                                    "Termék neve": "Technika cs. I-II-III-IV",
                                    "Kategória": "78",
                                    "Raktár": "5",
                                    "Listaár": "58"
                                },
                                {
                                    "Listaár szerinti sorszám": "47",
                                    "Kategória szerinti sorszám": "71",
                                    "Raktár szerinti sorszám": "5",
                                    "Termékkód": "06010368T",
                                    "Termék neve": "Számolópálca",
                                    "Kategória": "78",
                                    "Raktár": "5",
                                    "Listaár": "61"
                                },
                                {
                                    "Listaár szerinti sorszám": "191",
                                    "Kategória szerinti sorszám": "48",
                                    "Raktár szerinti sorszám": "5",
                                    "Termékkód": "07080152T",
                                    "Termék neve": "Golyóstoll 3 funkciós ",
                                    "Kategória": "52",
                                    "Raktár": "5",
                                    "Listaár": "1019"
                                },
                                {
                                    "Listaár szerinti sorszám": "183",
                                    "Kategória szerinti sorszám": "48",
                                    "Raktár szerinti sorszám": "5",
                                    "Termékkód": "07080158T",
                                    "Termék neve": "Golyóstoll Parker tokban",
                                    "Kategória": "52",
                                    "Raktár": "5",
                                    "Listaár": "773"
                                },
                                {
                                    "Listaár szerinti sorszám": "25",
                                    "Kategória szerinti sorszám": "48",
                                    "Raktár szerinti sorszám": "5",
                                    "Termékkód": "07080155T",
                                    "Termék neve": "Golyóstoll",
                                    "Kategória": "52",
                                    "Raktár": "5",
                                    "Listaár": "33"
                                },
                                {
                                    "Listaár szerinti sorszám": "70",
                                    "Kategória szerinti sorszám": "45",
                                    "Raktár szerinti sorszám": "5",
                                    "Termékkód": "02080451T",
                                    "Termék neve": "Gémkapocs 50-es",
                                    "Kategória": "49",
                                    "Raktár": "5",
                                    "Listaár": "103"
                                },
                                {
                                    "Listaár szerinti sorszám": "116",
                                    "Kategória szerinti sorszám": "48",
                                    "Raktár szerinti sorszám": "5",
                                    "Termékkód": "07080163T",
                                    "Termék neve": "Golyóstoll UNI átlátszó",
                                    "Kategória": "52",
                                    "Raktár": "5",
                                    "Listaár": "230"
                                },
                                {
                                    "Listaár szerinti sorszám": "109",
                                    "Kategória szerinti sorszám": "41",
                                    "Raktár szerinti sorszám": "5",
                                    "Termékkód": "06040354T",
                                    "Termék neve": "Sp.Füzet A/4  perforált, lyuk.",
                                    "Kategória": "45",
                                    "Raktár": "5",
                                    "Listaár": "206"
                                },
                                {
                                    "Listaár szerinti sorszám": "74",
                                    "Kategória szerinti sorszám": "37",
                                    "Raktár szerinti sorszám": "5",
                                    "Termékkód": "07030105T",
                                    "Termék neve": "Filctoll, alkoholos Centropen",
                                    "Kategória": "41",
                                    "Raktár": "5",
                                    "Listaár": "114"
                                },
                                {
                                    "Listaár szerinti sorszám": "1",
                                    "Kategória szerinti sorszám": "37",
                                    "Raktár szerinti sorszám": "5",
                                    "Termékkód": "07030108T",
                                    "Termék neve": "Filctoll CD író",
                                    "Kategória": "41",
                                    "Raktár": "5",
                                    "Listaár": "0"
                                },
                                {
                                    "Listaár szerinti sorszám": "60",
                                    "Kategória szerinti sorszám": "77",
                                    "Raktár szerinti sorszám": "5",
                                    "Termékkód": "04110231T",
                                    "Termék neve": "Képeslap humoros borítékos",
                                    "Kategória": "85",
                                    "Raktár": "5",
                                    "Listaár": "81"
                                },
                                {
                                    "Listaár szerinti sorszám": "90",
                                    "Kategória szerinti sorszám": "80",
                                    "Raktár szerinti sorszám": "5",
                                    "Termékkód": "06040246T",
                                    "Termék neve": "Körző",
                                    "Kategória": "89",
                                    "Raktár": "5",
                                    "Listaár": "161"
                                },
                                {
                                    "Listaár szerinti sorszám": "11",
                                    "Kategória szerinti sorszám": "81",
                                    "Raktár szerinti sorszám": "5",
                                    "Termékkód": "01100510T",
                                    "Termék neve": "Kreatív A/4 120g ",
                                    "Kategória": "90",
                                    "Raktár": "5",
                                    "Listaár": "13"
                                },
                                {
                                    "Listaár szerinti sorszám": "6",
                                    "Kategória szerinti sorszám": "71",
                                    "Raktár szerinti sorszám": "5",
                                    "Termékkód": "06040353T",
                                    "Termék neve": "Sorvezető",
                                    "Kategória": "78",
                                    "Raktár": "5",
                                    "Listaár": "8"
                                },
                                {
                                    "Listaár szerinti sorszám": "37",
                                    "Kategória szerinti sorszám": "73",
                                    "Raktár szerinti sorszám": "5",
                                    "Termékkód": "04050224T",
                                    "Termék neve": "Jelzőkréta",
                                    "Kategória": "80",
                                    "Raktár": "5",
                                    "Listaár": "48"
                                },
                                {
                                    "Listaár szerinti sorszám": "54",
                                    "Kategória szerinti sorszám": "75",
                                    "Raktár szerinti sorszám": "5",
                                    "Termékkód": "01100070T",
                                    "Termék neve": "Dekorációs karton",
                                    "Kategória": "83",
                                    "Raktár": "5",
                                    "Listaár": "73"
                                },
                                {
                                    "Listaár szerinti sorszám": "9",
                                    "Kategória szerinti sorszám": "75",
                                    "Raktár szerinti sorszám": "5",
                                    "Termékkód": "01090515T",
                                    "Termék neve": "Színes A/3 160 gr IQ",
                                    "Kategória": "83",
                                    "Raktár": "5",
                                    "Listaár": "11"
                                },
                                {
                                    "Listaár szerinti sorszám": "25",
                                    "Kategória szerinti sorszám": "77",
                                    "Raktár szerinti sorszám": "5",
                                    "Termékkód": "04110229T",
                                    "Termék neve": "Képeslap \"Részvét\"",
                                    "Kategória": "85",
                                    "Raktár": "5",
                                    "Listaár": "33"
                                },
                                {
                                    "Listaár szerinti sorszám": "23",
                                    "Kategória szerinti sorszám": "77",
                                    "Raktár szerinti sorszám": "5",
                                    "Termékkód": "04030234T",
                                    "Termék neve": "Képeslap karácsonyi",
                                    "Kategória": "85",
                                    "Raktár": "5",
                                    "Listaár": "30"
                                },
                                {
                                    "Listaár szerinti sorszám": "62",
                                    "Kategória szerinti sorszám": "77",
                                    "Raktár szerinti sorszám": "5",
                                    "Termékkód": "04110233T",
                                    "Termék neve": "Képeslap humoros",
                                    "Kategória": "85",
                                    "Raktár": "5",
                                    "Listaár": "89"
                                },
                                {
                                    "Listaár szerinti sorszám": "70",
                                    "Kategória szerinti sorszám": "96",
                                    "Raktár szerinti sorszám": "5",
                                    "Termékkód": "02040294T",
                                    "Termék neve": "Notesz A/5 sima",
                                    "Kategória": "106",
                                    "Raktár": "5",
                                    "Listaár": "103"
                                },
                                {
                                    "Listaár szerinti sorszám": "204",
                                    "Kategória szerinti sorszám": "102",
                                    "Raktár szerinti sorszám": "5",
                                    "Termékkód": "01080512T",
                                    "Termék neve": "Öntapadó A/4",
                                    "Kategória": "112",
                                    "Raktár": "5",
                                    "Listaár": "4575"
                                },
                                {
                                    "Listaár szerinti sorszám": "97",
                                    "Kategória szerinti sorszám": "101",
                                    "Raktár szerinti sorszám": "5",
                                    "Termékkód": "06050302T",
                                    "Termék neve": "Olló Tagit 18 cm-es",
                                    "Kategória": "111",
                                    "Raktár": "5",
                                    "Listaár": "176"
                                },
                                {
                                    "Listaár szerinti sorszám": "45",
                                    "Kategória szerinti sorszám": "107",
                                    "Raktár szerinti sorszám": "5",
                                    "Termékkód": "07080317T",
                                    "Termék neve": "Pixiron mini ",
                                    "Kategória": "118",
                                    "Raktár": "5",
                                    "Listaár": "59"
                                },
                                {
                                    "Listaár szerinti sorszám": "81",
                                    "Kategória szerinti sorszám": "107",
                                    "Raktár szerinti sorszám": "5",
                                    "Termékkód": "07080312T",
                                    "Termék neve": "Pixiron 0,7 Handy",
                                    "Kategória": "118",
                                    "Raktár": "5",
                                    "Listaár": "125"
                                },
                                {
                                    "Listaár szerinti sorszám": "118",
                                    "Kategória szerinti sorszám": "107",
                                    "Raktár szerinti sorszám": "5",
                                    "Termékkód": "07080318T",
                                    "Termék neve": "Pixiron Penac",
                                    "Kategória": "118",
                                    "Raktár": "5",
                                    "Listaár": "235"
                                },
                                {
                                    "Listaár szerinti sorszám": "138",
                                    "Kategória szerinti sorszám": "108",
                                    "Raktár szerinti sorszám": "5",
                                    "Termékkód": "04050322T",
                                    "Termék neve": "Plüss sárkány",
                                    "Kategória": "119",
                                    "Raktár": "5",
                                    "Listaár": "314"
                                },
                                {
                                    "Listaár szerinti sorszám": "42",
                                    "Kategória szerinti sorszám": "88",
                                    "Raktár szerinti sorszám": "5",
                                    "Termékkód": "04110273T",
                                    "Termék neve": "Matrica állatos",
                                    "Kategória": "97",
                                    "Raktár": "5",
                                    "Listaár": "55"
                                },
                                {
                                    "Listaár szerinti sorszám": "43",
                                    "Kategória szerinti sorszám": "88",
                                    "Raktár szerinti sorszám": "5",
                                    "Termékkód": "04110282T",
                                    "Termék neve": "Matrica WD kicsi",
                                    "Kategória": "97",
                                    "Raktár": "5",
                                    "Listaár": "56"
                                },
                                {
                                    "Listaár szerinti sorszám": "38",
                                    "Kategória szerinti sorszám": "88",
                                    "Raktár szerinti sorszám": "5",
                                    "Termékkód": "04110274T",
                                    "Termék neve": "Matrica autóra H",
                                    "Kategória": "97",
                                    "Raktár": "5",
                                    "Listaár": "49"
                                },
                                {
                                    "Listaár szerinti sorszám": "94",
                                    "Kategória szerinti sorszám": "89",
                                    "Raktár szerinti sorszám": "5",
                                    "Termékkód": "04110284T",
                                    "Termék neve": "Meghívó borítékos",
                                    "Kategória": "98",
                                    "Raktár": "5",
                                    "Listaár": "169"
                                },
                                {
                                    "Listaár szerinti sorszám": "89",
                                    "Kategória szerinti sorszám": "89",
                                    "Raktár szerinti sorszám": "5",
                                    "Termékkód": "04110283T",
                                    "Termék neve": "Meghívó állatos",
                                    "Kategória": "98",
                                    "Raktár": "5",
                                    "Listaár": "155"
                                },
                                {
                                    "Listaár szerinti sorszám": "158",
                                    "Kategória szerinti sorszám": "91",
                                    "Raktár szerinti sorszám": "5",
                                    "Termékkód": "08070475T",
                                    "Termék neve": "A föld amelyen élünk - munkafüzet",
                                    "Kategória": "100",
                                    "Raktár": "5",
                                    "Listaár": "440"
                                },
                                {
                                    "Listaár szerinti sorszám": "104",
                                    "Kategória szerinti sorszám": "91",
                                    "Raktár szerinti sorszám": "5",
                                    "Termékkód": "08070482T",
                                    "Termék neve": "Fizika munkafüzet 14 év.",
                                    "Kategória": "100",
                                    "Raktár": "5",
                                    "Listaár": "190"
                                },
                                {
                                    "Listaár szerinti sorszám": "108",
                                    "Kategória szerinti sorszám": "117",
                                    "Raktár szerinti sorszám": "5",
                                    "Termékkód": "06040351T",
                                    "Termék neve": "Regiszteres füzet A5 Hightech",
                                    "Kategória": "129",
                                    "Raktár": "5",
                                    "Listaár": "203"
                                },
                                {
                                    "Listaár szerinti sorszám": "21",
                                    "Kategória szerinti sorszám": "115",
                                    "Raktár szerinti sorszám": "5",
                                    "Termékkód": "06040347T",
                                    "Termék neve": "Rajzlap A/4 10db ffam.",
                                    "Kategória": "127",
                                    "Raktár": "5",
                                    "Listaár": "28"
                                },
                                {
                                    "Listaár szerinti sorszám": "55",
                                    "Kategória szerinti sorszám": "111",
                                    "Raktár szerinti sorszám": "5",
                                    "Termékkód": "06080332T",
                                    "Termék neve": "Radírtoll betét ER100",
                                    "Kategória": "123",
                                    "Raktár": "5",
                                    "Listaár": "74"
                                },
                                {
                                    "Listaár szerinti sorszám": "84",
                                    "Kategória szerinti sorszám": "112",
                                    "Raktár szerinti sorszám": "5",
                                    "Termékkód": "06080334T",
                                    "Termék neve": "Ragasztó szalag KORES ",
                                    "Kategória": "124",
                                    "Raktár": "5",
                                    "Listaár": "133"
                                },
                                {
                                    "Listaár szerinti sorszám": "62",
                                    "Kategória szerinti sorszám": "112",
                                    "Raktár szerinti sorszám": "5",
                                    "Termékkód": "06080339T",
                                    "Termék neve": "Ragasztó kores",
                                    "Kategória": "124",
                                    "Raktár": "5",
                                    "Listaár": "89"
                                },
                                {
                                    "Listaár szerinti sorszám": "194",
                                    "Kategória szerinti sorszám": "122",
                                    "Raktár szerinti sorszám": "5",
                                    "Termékkód": "06040446T",
                                    "Termék neve": "Számológép tudományos",
                                    "Kategória": "134",
                                    "Raktár": "5",
                                    "Listaár": "1173"
                                },
                                {
                                    "Listaár szerinti sorszám": "99",
                                    "Kategória szerinti sorszám": "121",
                                    "Raktár szerinti sorszám": "5",
                                    "Termékkód": "04110362T",
                                    "Termék neve": "Szalvéta gyűjtőknek",
                                    "Kategória": "133",
                                    "Raktár": "5",
                                    "Listaár": "183"
                                },
                                {
                                    "Listaár szerinti sorszám": "57",
                                    "Kategória szerinti sorszám": "126",
                                    "Raktár szerinti sorszám": "5",
                                    "Termékkód": "06040380T",
                                    "Termék neve": "Szövegkiemelő",
                                    "Kategória": "138",
                                    "Raktár": "5",
                                    "Listaár": "78"
                                },
                                {
                                    "Listaár szerinti sorszám": "55",
                                    "Kategória szerinti sorszám": "132",
                                    "Raktár szerinti sorszám": "5",
                                    "Termékkód": "07010244T",
                                    "Termék neve": "Kerámiatoll",
                                    "Kategória": "144",
                                    "Raktár": "5",
                                    "Listaár": "74"
                                },
                                {
                                    "Listaár szerinti sorszám": "17",
                                    "Kategória szerinti sorszám": "133",
                                    "Raktár szerinti sorszám": "5",
                                    "Termékkód": "07010140T",
                                    "Termék neve": "G.toll betét Stabilo",
                                    "Kategória": "145",
                                    "Raktár": "5",
                                    "Listaár": "23"
                                },
                                {
                                    "Listaár szerinti sorszám": "30",
                                    "Kategória szerinti sorszám": "133",
                                    "Raktár szerinti sorszám": "5",
                                    "Termékkód": "07040133T",
                                    "Termék neve": "G.toll betét görbe hegyű",
                                    "Kategória": "145",
                                    "Raktár": "5",
                                    "Listaár": "39"
                                },
                                {
                                    "Listaár szerinti sorszám": "115",
                                    "Kategória szerinti sorszám": "133",
                                    "Raktár szerinti sorszám": "5",
                                    "Termékkód": "07010142T",
                                    "Termék neve": "G.toll betét Zebra F-0.7",
                                    "Kategória": "145",
                                    "Raktár": "5",
                                    "Listaár": "228"
                                },
                                {
                                    "Listaár szerinti sorszám": "23",
                                    "Kategória szerinti sorszám": "133",
                                    "Raktár szerinti sorszám": "5",
                                    "Termékkód": "07040129T",
                                    "Termék neve": "G. toll betét réz",
                                    "Kategória": "145",
                                    "Raktár": "5",
                                    "Listaár": "30"
                                },
                                {
                                    "Listaár szerinti sorszám": "154",
                                    "Kategória szerinti sorszám": "134",
                                    "Raktár szerinti sorszám": "5",
                                    "Termékkód": "06040398T",
                                    "Termék neve": "Tolltartó hengeres ",
                                    "Kategória": "146",
                                    "Raktár": "5",
                                    "Listaár": "411"
                                },
                                {
                                    "Listaár szerinti sorszám": "140",
                                    "Kategória szerinti sorszám": "134",
                                    "Raktár szerinti sorszám": "5",
                                    "Termékkód": "06040394T",
                                    "Termék neve": "Tolltartó zipzáras",
                                    "Kategória": "146",
                                    "Raktár": "5",
                                    "Listaár": "324"
                                },
                                {
                                    "Listaár szerinti sorszám": "163",
                                    "Kategória szerinti sorszám": "136",
                                    "Raktár szerinti sorszám": "5",
                                    "Termékkód": "07050462T",
                                    "Termék neve": "Töltőtoll tinta ",
                                    "Kategória": "148",
                                    "Raktár": "5",
                                    "Listaár": "493"
                                },
                                {
                                    "Listaár szerinti sorszám": "129",
                                    "Kategória szerinti sorszám": "137",
                                    "Raktár szerinti sorszám": "5",
                                    "Termékkód": "02040402T",
                                    "Termék neve": "Tűzőgép Boxer ",
                                    "Kategória": "149",
                                    "Raktár": "5",
                                    "Listaár": "286"
                                },
                                {
                                    "Listaár szerinti sorszám": "196",
                                    "Kategória szerinti sorszám": "137",
                                    "Raktár szerinti sorszám": "5",
                                    "Termékkód": "02040403T",
                                    "Termék neve": "Tűzőgép SAX 239",
                                    "Kategória": "149",
                                    "Raktár": "5",
                                    "Listaár": "1351"
                                },
                                {
                                    "Listaár szerinti sorszám": "16",
                                    "Kategória szerinti sorszám": "141",
                                    "Raktár szerinti sorszám": "5",
                                    "Termékkód": "06080417T",
                                    "Termék neve": "Zászló papír",
                                    "Kategória": "153",
                                    "Raktár": "5",
                                    "Listaár": "20"
                                },
                                {
                                    "Listaár szerinti sorszám": "202",
                                    "Kategória szerinti sorszám": "137",
                                    "Raktár szerinti sorszám": "6",
                                    "Termékkód": "02040002T",
                                    "Termék neve": "irodai tűzőgép",
                                    "Kategória": "149",
                                    "Raktár": "6",
                                    "Listaár": "2100"
                                },
                                {
                                    "Listaár szerinti sorszám": "98",
                                    "Kategória szerinti sorszám": "139",
                                    "Raktár szerinti sorszám": "6",
                                    "Termékkód": "06080409T",
                                    "Termék neve": "Vízfesték 12 színű kerek",
                                    "Kategória": "151",
                                    "Raktár": "6",
                                    "Listaár": "180"
                                },
                                {
                                    "Listaár szerinti sorszám": "97",
                                    "Kategória szerinti sorszám": "139",
                                    "Raktár szerinti sorszám": "6",
                                    "Termékkód": "06080410T",
                                    "Termék neve": "Vízfesték 12db-os kínai",
                                    "Kategória": "151",
                                    "Raktár": "6",
                                    "Listaár": "176"
                                },
                                {
                                    "Listaár szerinti sorszám": "25",
                                    "Kategória szerinti sorszám": "140",
                                    "Raktár szerinti sorszám": "6",
                                    "Termékkód": "06080416T",
                                    "Termék neve": "Vonalzó 60 fokos",
                                    "Kategória": "152",
                                    "Raktár": "6",
                                    "Listaár": "33"
                                },
                                {
                                    "Listaár szerinti sorszám": "157",
                                    "Kategória szerinti sorszám": "137",
                                    "Raktár szerinti sorszám": "6",
                                    "Termékkód": "02080452T",
                                    "Termék neve": "Tűzőgép mini",
                                    "Kategória": "149",
                                    "Raktár": "6",
                                    "Listaár": "438"
                                },
                                {
                                    "Listaár szerinti sorszám": "174",
                                    "Kategória szerinti sorszám": "133",
                                    "Raktár szerinti sorszám": "6",
                                    "Termékkód": "07040135T",
                                    "Termék neve": "G.toll betét Parker ",
                                    "Kategória": "145",
                                    "Raktár": "6",
                                    "Listaár": "684"
                                },
                                {
                                    "Listaár szerinti sorszám": "79",
                                    "Kategória szerinti sorszám": "133",
                                    "Raktár szerinti sorszám": "6",
                                    "Termékkód": "07010136T",
                                    "Termék neve": "G.toll betét PAX",
                                    "Kategória": "145",
                                    "Raktár": "6",
                                    "Listaár": "123"
                                },
                                {
                                    "Listaár szerinti sorszám": "70",
                                    "Kategória szerinti sorszám": "130",
                                    "Raktár szerinti sorszám": "6",
                                    "Termékkód": "02080449T",
                                    "Termék neve": "Térképtű színes",
                                    "Kategória": "142",
                                    "Raktár": "6",
                                    "Listaár": "103"
                                },
                                {
                                    "Listaár szerinti sorszám": "59",
                                    "Kategória szerinti sorszám": "133",
                                    "Raktár szerinti sorszám": "6",
                                    "Termékkód": "07040130T",
                                    "Termék neve": "G. toll betét S7S",
                                    "Kategória": "145",
                                    "Raktár": "6",
                                    "Listaár": "80"
                                },
                                {
                                    "Listaár szerinti sorszám": "63",
                                    "Kategória szerinti sorszám": "133",
                                    "Raktár szerinti sorszám": "6",
                                    "Termékkód": "07010139T",
                                    "Termék neve": "G.toll betét S7L ",
                                    "Kategória": "145",
                                    "Raktár": "6",
                                    "Listaár": "91"
                                },
                                {
                                    "Listaár szerinti sorszám": "42",
                                    "Kategória szerinti sorszám": "133",
                                    "Raktár szerinti sorszám": "6",
                                    "Termékkód": "07040128T",
                                    "Termék neve": "G. toll betét mini fém",
                                    "Kategória": "145",
                                    "Raktár": "6",
                                    "Listaár": "55"
                                },
                                {
                                    "Listaár szerinti sorszám": "37",
                                    "Kategória szerinti sorszám": "133",
                                    "Raktár szerinti sorszám": "6",
                                    "Termékkód": "07010137T",
                                    "Termék neve": "G.toll betét PAX tip.",
                                    "Kategória": "145",
                                    "Raktár": "6",
                                    "Listaár": "48"
                                },
                                {
                                    "Listaár szerinti sorszám": "31",
                                    "Kategória szerinti sorszám": "128",
                                    "Raktár szerinti sorszám": "6",
                                    "Termékkód": "05050465T",
                                    "Termék neve": "Tapétavágó kés",
                                    "Kategória": "140",
                                    "Raktár": "6",
                                    "Listaár": "40"
                                },
                                {
                                    "Listaár szerinti sorszám": "9",
                                    "Kategória szerinti sorszám": "125",
                                    "Raktár szerinti sorszám": "6",
                                    "Termékkód": "06010376T",
                                    "Termék neve": "Szögmérő papír",
                                    "Kategória": "137",
                                    "Raktár": "6",
                                    "Listaár": "11"
                                },
                                {
                                    "Listaár szerinti sorszám": "70",
                                    "Kategória szerinti sorszám": "126",
                                    "Raktár szerinti sorszám": "6",
                                    "Termékkód": "06040381T",
                                    "Termék neve": "Szövegkiemelő Videotip",
                                    "Kategória": "138",
                                    "Raktár": "6",
                                    "Listaár": "103"
                                },
                                {
                                    "Listaár szerinti sorszám": "164",
                                    "Kategória szerinti sorszám": "122",
                                    "Raktár szerinti sorszám": "6",
                                    "Termékkód": "06010366T",
                                    "Termék neve": "Számológép Roxin",
                                    "Kategória": "134",
                                    "Raktár": "6",
                                    "Listaár": "508"
                                },
                                {
                                    "Listaár szerinti sorszám": "76",
                                    "Kategória szerinti sorszám": "121",
                                    "Raktár szerinti sorszám": "6",
                                    "Termékkód": "05110360T",
                                    "Termék neve": "Szalvéta egyszínű",
                                    "Kategória": "133",
                                    "Raktár": "6",
                                    "Listaár": "118"
                                },
                                {
                                    "Listaár szerinti sorszám": "18",
                                    "Kategória szerinti sorszám": "125",
                                    "Raktár szerinti sorszám": "6",
                                    "Termékkód": "06010375T",
                                    "Termék neve": "Szögmérő 180 fokos műa.",
                                    "Kategória": "137",
                                    "Raktár": "6",
                                    "Listaár": "24"
                                },
                                {
                                    "Listaár szerinti sorszám": "86",
                                    "Kategória szerinti sorszám": "112",
                                    "Raktár szerinti sorszám": "6",
                                    "Termékkód": "05080341T",
                                    "Termék neve": "Ragasztó, Technokol 35g piros",
                                    "Kategória": "124",
                                    "Raktár": "6",
                                    "Listaár": "144"
                                },
                                {
                                    "Listaár szerinti sorszám": "34",
                                    "Kategória szerinti sorszám": "110",
                                    "Raktár szerinti sorszám": "6",
                                    "Termékkód": "06040329T",
                                    "Termék neve": "Radír stabilo",
                                    "Kategória": "122",
                                    "Raktár": "6",
                                    "Listaár": "44"
                                },
                                {
                                    "Listaár szerinti sorszám": "155",
                                    "Kategória szerinti sorszám": "112",
                                    "Raktár szerinti sorszám": "6",
                                    "Termékkód": "06010343T",
                                    "Termék neve": "Ragasztószalag 19 mm-es SCOTCH+ tépő",
                                    "Kategória": "124",
                                    "Raktár": "6",
                                    "Listaár": "426"
                                },
                                {
                                    "Listaár szerinti sorszám": "48",
                                    "Kategória szerinti sorszám": "116",
                                    "Raktár szerinti sorszám": "6",
                                    "Termékkód": "05040349T",
                                    "Termék neve": "Rajzszeg",
                                    "Kategória": "128",
                                    "Raktár": "6",
                                    "Listaár": "63"
                                },
                                {
                                    "Listaár szerinti sorszám": "92",
                                    "Kategória szerinti sorszám": "113",
                                    "Raktár szerinti sorszám": "6",
                                    "Termékkód": "03010345T",
                                    "Termék neve": "Ragasztószalag széles barna",
                                    "Kategória": "125",
                                    "Raktár": "6",
                                    "Listaár": "166"
                                },
                                {
                                    "Listaár szerinti sorszám": "6",
                                    "Kategória szerinti sorszám": "90",
                                    "Raktár szerinti sorszám": "6",
                                    "Termékkód": "06080425T",
                                    "Termék neve": "Miliméterpapír",
                                    "Kategória": "99",
                                    "Raktár": "6",
                                    "Listaár": "8"
                                },
                                {
                                    "Listaár szerinti sorszám": "145",
                                    "Kategória szerinti sorszám": "91",
                                    "Raktár szerinti sorszám": "6",
                                    "Termékkód": "08070477T",
                                    "Termék neve": "Anyanyelvi gyakorló 3",
                                    "Kategória": "100",
                                    "Raktár": "6",
                                    "Listaár": "353"
                                },
                                {
                                    "Listaár szerinti sorszám": "151",
                                    "Kategória szerinti sorszám": "91",
                                    "Raktár szerinti sorszám": "6",
                                    "Termékkód": "08070486T",
                                    "Termék neve": "Matematika gyakorló 2",
                                    "Kategória": "100",
                                    "Raktár": "6",
                                    "Listaár": "403"
                                },
                                {
                                    "Listaár szerinti sorszám": "151",
                                    "Kategória szerinti sorszám": "91",
                                    "Raktár szerinti sorszám": "6",
                                    "Termékkód": "08070487T",
                                    "Termék neve": "Matematika gyakorló 3",
                                    "Kategória": "100",
                                    "Raktár": "6",
                                    "Listaár": "403"
                                },
                                {
                                    "Listaár szerinti sorszám": "64",
                                    "Kategória szerinti sorszám": "88",
                                    "Raktár szerinti sorszám": "6",
                                    "Termékkód": "04110277T",
                                    "Termék neve": "Matrica Stickers szíves",
                                    "Kategória": "97",
                                    "Raktár": "6",
                                    "Listaár": "93"
                                },
                                {
                                    "Listaár szerinti sorszám": "48",
                                    "Kategória szerinti sorszám": "89",
                                    "Raktár szerinti sorszám": "6",
                                    "Termékkód": "06080429T",
                                    "Termék neve": "Meghívó ballagási",
                                    "Kategória": "98",
                                    "Raktár": "6",
                                    "Listaár": "63"
                                },
                                {
                                    "Listaár szerinti sorszám": "88",
                                    "Kategória szerinti sorszám": "87",
                                    "Raktár szerinti sorszám": "6",
                                    "Termékkód": "06040174T",
                                    "Termék neve": "Gumis mappa ",
                                    "Kategória": "96",
                                    "Raktár": "6",
                                    "Listaár": "148"
                                },
                                {
                                    "Listaár szerinti sorszám": "86",
                                    "Kategória szerinti sorszám": "105",
                                    "Raktár szerinti sorszám": "6",
                                    "Termékkód": "02020037T",
                                    "Termék neve": "Bevételi pénztárbizonylat 3×25",
                                    "Kategória": "116",
                                    "Raktár": "6",
                                    "Listaár": "144"
                                },
                                {
                                    "Listaár szerinti sorszám": "64",
                                    "Kategória szerinti sorszám": "106",
                                    "Raktár szerinti sorszám": "6",
                                    "Termékkód": "02040309T",
                                    "Termék neve": "Pénztárgépszalag 2pl SC 57.5/60",
                                    "Kategória": "117",
                                    "Raktár": "6",
                                    "Listaár": "93"
                                },
                                {
                                    "Listaár szerinti sorszám": "132",
                                    "Kategória szerinti sorszám": "91",
                                    "Raktár szerinti sorszám": "6",
                                    "Termékkód": "08070476T",
                                    "Termék neve": "Anyanyelvi gyakorló 2",
                                    "Kategória": "100",
                                    "Raktár": "6",
                                    "Listaár": "293"
                                },
                                {
                                    "Listaár szerinti sorszám": "43",
                                    "Kategória szerinti sorszám": "96",
                                    "Raktár szerinti sorszám": "6",
                                    "Termékkód": "02040296T",
                                    "Termék neve": "Notesz A/6 College",
                                    "Kategória": "106",
                                    "Raktár": "6",
                                    "Listaár": "56"
                                },
                                {
                                    "Listaár szerinti sorszám": "34",
                                    "Kategória szerinti sorszám": "96",
                                    "Raktár szerinti sorszám": "6",
                                    "Termékkód": "02040298T",
                                    "Termék neve": "Notesz mintás",
                                    "Kategória": "106",
                                    "Raktár": "6",
                                    "Listaár": "44"
                                },
                                {
                                    "Listaár szerinti sorszám": "31",
                                    "Kategória szerinti sorszám": "75",
                                    "Raktár szerinti sorszám": "6",
                                    "Termékkód": "01100509T",
                                    "Termék neve": "Márványos A/4",
                                    "Kategória": "83",
                                    "Raktár": "6",
                                    "Listaár": "40"
                                },
                                {
                                    "Listaár szerinti sorszám": "13",
                                    "Kategória szerinti sorszám": "77",
                                    "Raktár szerinti sorszám": "6",
                                    "Termékkód": "04030236T",
                                    "Termék neve": "Képeslap karácsonyi WD",
                                    "Kategória": "85",
                                    "Raktár": "6",
                                    "Listaár": "15"
                                },
                                {
                                    "Listaár szerinti sorszám": "83",
                                    "Kategória szerinti sorszám": "76",
                                    "Raktár szerinti sorszám": "6",
                                    "Termékkód": "04050225T",
                                    "Termék neve": "Kártya mini Magyar",
                                    "Kategória": "84",
                                    "Raktár": "6",
                                    "Listaár": "131"
                                },
                                {
                                    "Listaár szerinti sorszám": "27",
                                    "Kategória szerinti sorszám": "71",
                                    "Raktár szerinti sorszám": "6",
                                    "Termékkód": "06010367T",
                                    "Termék neve": "Számolókorong",
                                    "Kategória": "78",
                                    "Raktár": "6",
                                    "Listaár": "35"
                                },
                                {
                                    "Listaár szerinti sorszám": "28",
                                    "Kategória szerinti sorszám": "71",
                                    "Raktár szerinti sorszám": "6",
                                    "Termékkód": "06010201T",
                                    "Termék neve": "Hőmérő, műa.",
                                    "Kategória": "78",
                                    "Raktár": "6",
                                    "Listaár": "36"
                                },
                                {
                                    "Listaár szerinti sorszám": "90",
                                    "Kategória szerinti sorszám": "71",
                                    "Raktár szerinti sorszám": "6",
                                    "Termékkód": "06080259T",
                                    "Termék neve": "Leckefüzet",
                                    "Kategória": "78",
                                    "Raktár": "6",
                                    "Listaár": "161"
                                },
                                {
                                    "Listaár szerinti sorszám": "121",
                                    "Kategória szerinti sorszám": "80",
                                    "Raktár szerinti sorszám": "6",
                                    "Termékkód": "06040248T",
                                    "Termék neve": "Körző maped",
                                    "Kategória": "89",
                                    "Raktár": "6",
                                    "Listaár": "243"
                                },
                                {
                                    "Listaár szerinti sorszám": "25",
                                    "Kategória szerinti sorszám": "77",
                                    "Raktár szerinti sorszám": "6",
                                    "Termékkód": "04110227T",
                                    "Termék neve": "Képeslap  borítékos",
                                    "Kategória": "85",
                                    "Raktár": "6",
                                    "Listaár": "33"
                                },
                                {
                                    "Listaár szerinti sorszám": "42",
                                    "Kategória szerinti sorszám": "77",
                                    "Raktár szerinti sorszám": "6",
                                    "Termékkód": "04110230T",
                                    "Termék neve": "Képeslap humoros ",
                                    "Kategória": "85",
                                    "Raktár": "6",
                                    "Listaár": "55"
                                },
                                {
                                    "Listaár szerinti sorszám": "43",
                                    "Kategória szerinti sorszám": "84",
                                    "Raktár szerinti sorszám": "6",
                                    "Termékkód": "04030262T",
                                    "Termék neve": "Levélpapír sima",
                                    "Kategória": "93",
                                    "Raktár": "6",
                                    "Listaár": "56"
                                },
                                {
                                    "Listaár szerinti sorszám": "13",
                                    "Kategória szerinti sorszám": "84",
                                    "Raktár szerinti sorszám": "6",
                                    "Termékkód": "04030260T",
                                    "Termék neve": "Levélpapír A/4",
                                    "Kategória": "93",
                                    "Raktár": "6",
                                    "Listaár": "15"
                                },
                                {
                                    "Listaár szerinti sorszám": "70",
                                    "Kategória szerinti sorszám": "84",
                                    "Raktár szerinti sorszám": "6",
                                    "Termékkód": "04030265T",
                                    "Termék neve": "Levélpapír szett natur, mintás",
                                    "Kategória": "93",
                                    "Raktár": "6",
                                    "Listaár": "103"
                                },
                                {
                                    "Listaár szerinti sorszám": "85",
                                    "Kategória szerinti sorszám": "84",
                                    "Raktár szerinti sorszám": "6",
                                    "Termékkód": "04030261T",
                                    "Termék neve": "Levélpapír állatos",
                                    "Kategória": "93",
                                    "Raktár": "6",
                                    "Listaár": "140"
                                },
                                {
                                    "Listaár szerinti sorszám": "55",
                                    "Kategória szerinti sorszám": "84",
                                    "Raktár szerinti sorszám": "6",
                                    "Termékkód": "04030264T",
                                    "Termék neve": "Levélpapír szett ",
                                    "Kategória": "93",
                                    "Raktár": "6",
                                    "Listaár": "74"
                                },
                                {
                                    "Listaár szerinti sorszám": "9",
                                    "Kategória szerinti sorszám": "85",
                                    "Raktár szerinti sorszám": "6",
                                    "Termékkód": "04050269T",
                                    "Termék neve": "Lufi hullámos",
                                    "Kategória": "94",
                                    "Raktár": "6",
                                    "Listaár": "11"
                                },
                                {
                                    "Listaár szerinti sorszám": "200",
                                    "Kategória szerinti sorszám": "87",
                                    "Raktár szerinti sorszám": "6",
                                    "Termékkód": "04080270T",
                                    "Termék neve": "Mappa bőr A5",
                                    "Kategória": "96",
                                    "Raktár": "6",
                                    "Listaár": "1765"
                                },
                                {
                                    "Listaár szerinti sorszám": "169",
                                    "Kategória szerinti sorszám": "36",
                                    "Raktár szerinti sorszám": "6",
                                    "Termékkód": "02080455T",
                                    "Termék neve": "Festékpatron BCI-3BK",
                                    "Kategória": "40",
                                    "Raktár": "6",
                                    "Listaár": "625"
                                },
                                {
                                    "Listaár szerinti sorszám": "23",
                                    "Kategória szerinti sorszám": "41",
                                    "Raktár szerinti sorszám": "6",
                                    "Termékkód": "06010114T",
                                    "Termék neve": "Füzet A/5 hangjegy 36/16",
                                    "Kategória": "45",
                                    "Raktár": "6",
                                    "Listaár": "30"
                                },
                                {
                                    "Listaár szerinti sorszám": "164",
                                    "Kategória szerinti sorszám": "43",
                                    "Raktár szerinti sorszám": "6",
                                    "Termékkód": "06080124T",
                                    "Termék neve": "Füzettartó A/4 keménytáblás",
                                    "Kategória": "47",
                                    "Raktár": "6",
                                    "Listaár": "508"
                                },
                                {
                                    "Listaár szerinti sorszám": "167",
                                    "Kategória szerinti sorszám": "43",
                                    "Raktár szerinti sorszám": "6",
                                    "Termékkód": "06080123T",
                                    "Termék neve": "Füzettartó A/4 keménytáblás",
                                    "Kategória": "47",
                                    "Raktár": "6",
                                    "Listaár": "551"
                                },
                                {
                                    "Listaár szerinti sorszám": "62",
                                    "Kategória szerinti sorszám": "41",
                                    "Raktár szerinti sorszám": "6",
                                    "Termékkód": "06040357T",
                                    "Termék neve": "Sp.Füzet A/5 70-es",
                                    "Kategória": "45",
                                    "Raktár": "6",
                                    "Listaár": "89"
                                },
                                {
                                    "Listaár szerinti sorszám": "6",
                                    "Kategória szerinti sorszám": "42",
                                    "Raktár szerinti sorszám": "6",
                                    "Termékkód": "06080118T",
                                    "Termék neve": "Füzetborító átlátszó A5",
                                    "Kategória": "46",
                                    "Raktár": "6",
                                    "Listaár": "8"
                                },
                                {
                                    "Listaár szerinti sorszám": "8",
                                    "Kategória szerinti sorszám": "42",
                                    "Raktár szerinti sorszám": "6",
                                    "Termékkód": "06080117T",
                                    "Termék neve": "Füzetborító A/4 átlátszó",
                                    "Kategória": "46",
                                    "Raktár": "6",
                                    "Listaár": "10"
                                },
                                {
                                    "Listaár szerinti sorszám": "117",
                                    "Kategória szerinti sorszám": "48",
                                    "Raktár szerinti sorszám": "6",
                                    "Termékkód": "07080164T",
                                    "Termék neve": "Golyóstoll UNI gumis",
                                    "Kategória": "52",
                                    "Raktár": "6",
                                    "Listaár": "231"
                                },
                                {
                                    "Listaár szerinti sorszám": "73",
                                    "Kategória szerinti sorszám": "48",
                                    "Raktár szerinti sorszám": "6",
                                    "Termékkód": "07080468T",
                                    "Termék neve": "Golyóstoll háromfunkciós",
                                    "Kategória": "52",
                                    "Raktár": "6",
                                    "Listaár": "110"
                                },
                                {
                                    "Listaár szerinti sorszám": "150",
                                    "Kategória szerinti sorszám": "48",
                                    "Raktár szerinti sorszám": "6",
                                    "Termékkód": "07080154T",
                                    "Termék neve": "Golyóstoll INOXCROM",
                                    "Kategória": "52",
                                    "Raktár": "6",
                                    "Listaár": "401"
                                },
                                {
                                    "Listaár szerinti sorszám": "40",
                                    "Kategória szerinti sorszám": "48",
                                    "Raktár szerinti sorszám": "6",
                                    "Termékkód": "07080150T",
                                    "Termék neve": "Golyóstoll",
                                    "Kategória": "52",
                                    "Raktár": "6",
                                    "Listaár": "51"
                                },
                                {
                                    "Listaár szerinti sorszám": "69",
                                    "Kategória szerinti sorszám": "48",
                                    "Raktár szerinti sorszám": "6",
                                    "Termékkód": "07080162T",
                                    "Termék neve": "Golyóstoll Stabilo piros",
                                    "Kategória": "52",
                                    "Raktár": "6",
                                    "Listaár": "101"
                                },
                                {
                                    "Listaár szerinti sorszám": "15",
                                    "Kategória szerinti sorszám": "71",
                                    "Raktár szerinti sorszám": "6",
                                    "Termékkód": "06040383T",
                                    "Termék neve": "Taffet papír",
                                    "Kategória": "78",
                                    "Raktár": "6",
                                    "Listaár": "19"
                                },
                                {
                                    "Listaár szerinti sorszám": "17",
                                    "Kategória szerinti sorszám": "71",
                                    "Raktár szerinti sorszám": "6",
                                    "Termékkód": "06010202T",
                                    "Termék neve": "Hurkapálca 10 db-os",
                                    "Kategória": "78",
                                    "Raktár": "6",
                                    "Listaár": "23"
                                },
                                {
                                    "Listaár szerinti sorszám": "7",
                                    "Kategória szerinti sorszám": "71",
                                    "Raktár szerinti sorszám": "6",
                                    "Termékkód": "06010305T",
                                    "Termék neve": "Papírcenti 100 cm-es",
                                    "Kategória": "78",
                                    "Raktár": "6",
                                    "Listaár": "9"
                                },
                                {
                                    "Listaár szerinti sorszám": "6",
                                    "Kategória szerinti sorszám": "71",
                                    "Raktár szerinti sorszám": "6",
                                    "Termékkód": "06040181T",
                                    "Termék neve": "Gyűjtőlap A/4",
                                    "Kategória": "78",
                                    "Raktár": "6",
                                    "Listaár": "8"
                                },
                                {
                                    "Listaár szerinti sorszám": "70",
                                    "Kategória szerinti sorszám": "71",
                                    "Raktár szerinti sorszám": "6",
                                    "Termékkód": "06040352T",
                                    "Termék neve": "Rovatolt papír 20 íves",
                                    "Kategória": "78",
                                    "Raktár": "6",
                                    "Listaár": "103"
                                },
                                {
                                    "Listaár szerinti sorszám": "17",
                                    "Kategória szerinti sorszám": "70",
                                    "Raktár szerinti sorszám": "6",
                                    "Termékkód": "07040218T",
                                    "Termék neve": "Ironbél HB 0,5",
                                    "Kategória": "76",
                                    "Raktár": "6",
                                    "Listaár": "23"
                                },
                                {
                                    "Listaár szerinti sorszám": "45",
                                    "Kategória szerinti sorszám": "70",
                                    "Raktár szerinti sorszám": "6",
                                    "Termékkód": "07040217T",
                                    "Termék neve": "Ironbél H 0,5",
                                    "Kategória": "76",
                                    "Raktár": "6",
                                    "Listaár": "59"
                                },
                                {
                                    "Listaár szerinti sorszám": "57",
                                    "Kategória szerinti sorszám": "70",
                                    "Raktár szerinti sorszám": "6",
                                    "Termékkód": "07040219T",
                                    "Termék neve": "Ironbél HI-POLIMER HB 0,7",
                                    "Kategória": "76",
                                    "Raktár": "6",
                                    "Listaár": "78"
                                },
                                {
                                    "Listaár szerinti sorszám": "62",
                                    "Kategória szerinti sorszám": "66",
                                    "Raktár szerinti sorszám": "6",
                                    "Termékkód": "02040210T",
                                    "Termék neve": "Iratsín kék",
                                    "Kategória": "72",
                                    "Raktár": "6",
                                    "Listaár": "89"
                                },
                                {
                                    "Listaár szerinti sorszám": "15",
                                    "Kategória szerinti sorszám": "64",
                                    "Raktár szerinti sorszám": "6",
                                    "Termékkód": "02040207T",
                                    "Termék neve": "Iratgyűjtő ESSELTE ablakos",
                                    "Kategória": "70",
                                    "Raktár": "6",
                                    "Listaár": "19"
                                },
                                {
                                    "Listaár szerinti sorszám": "98",
                                    "Kategória szerinti sorszám": "55",
                                    "Raktár szerinti sorszám": "6",
                                    "Termékkód": "06040179T",
                                    "Termék neve": "Gyurma színes 200 g-os",
                                    "Kategória": "59",
                                    "Raktár": "6",
                                    "Listaár": "180"
                                },
                                {
                                    "Listaár szerinti sorszám": "178",
                                    "Kategória szerinti sorszám": "56",
                                    "Raktár szerinti sorszám": "6",
                                    "Termékkód": "06040186T",
                                    "Termék neve": "Gyűrűskönyv színes",
                                    "Kategória": "60",
                                    "Raktár": "6",
                                    "Listaár": "699"
                                },
                                {
                                    "Listaár szerinti sorszám": "23",
                                    "Kategória szerinti sorszám": "59",
                                    "Raktár szerinti sorszám": "6",
                                    "Termékkód": "06080189T",
                                    "Termék neve": "Hegyező műanyag dupla",
                                    "Kategória": "64",
                                    "Raktár": "6",
                                    "Listaár": "30"
                                },
                                {
                                    "Listaár szerinti sorszám": "17",
                                    "Kategória szerinti sorszám": "59",
                                    "Raktár szerinti sorszám": "6",
                                    "Termékkód": "06080190T",
                                    "Termék neve": "Hegyező műanyag egyes",
                                    "Kategória": "64",
                                    "Raktár": "6",
                                    "Listaár": "23"
                                },
                                {
                                    "Listaár szerinti sorszám": "128",
                                    "Kategória szerinti sorszám": "61",
                                    "Raktár szerinti sorszám": "6",
                                    "Termékkód": "02040200T",
                                    "Termék neve": "Hibajavító Kores mini pen",
                                    "Kategória": "66",
                                    "Raktár": "6",
                                    "Listaár": "278"
                                },
                                {
                                    "Listaár szerinti sorszám": "131",
                                    "Kategória szerinti sorszám": "1",
                                    "Raktár szerinti sorszám": "6",
                                    "Termékkód": "08070485T",
                                    "Termék neve": "Jól felkészültem-e - Fizika",
                                    "Kategória": "4",
                                    "Raktár": "6",
                                    "Listaár": "291"
                                },
                                {
                                    "Listaár szerinti sorszám": "158",
                                    "Kategória szerinti sorszám": "1",
                                    "Raktár szerinti sorszám": "6",
                                    "Termékkód": "08070494T",
                                    "Termék neve": "Érettségi felv. fel. Fizika",
                                    "Kategória": "4",
                                    "Raktár": "6",
                                    "Listaár": "440"
                                },
                                {
                                    "Listaár szerinti sorszám": "192",
                                    "Kategória szerinti sorszám": "1",
                                    "Raktár szerinti sorszám": "6",
                                    "Termékkód": "08070473T",
                                    "Termék neve": "A föld amelyen élünk - Távoli földrészek",
                                    "Kategória": "4",
                                    "Raktár": "6",
                                    "Listaár": "1089"
                                },
                                {
                                    "Listaár szerinti sorszám": "49",
                                    "Kategória szerinti sorszám": "3",
                                    "Raktár szerinti sorszám": "6",
                                    "Termékkód": "03080013T",
                                    "Termék neve": "Ajándék csom. 50x70 húsvéti",
                                    "Kategória": "6",
                                    "Raktár": "6",
                                    "Listaár": "64"
                                },
                                {
                                    "Listaár szerinti sorszám": "20",
                                    "Kategória szerinti sorszám": "3",
                                    "Raktár szerinti sorszám": "6",
                                    "Termékkód": "03050457T",
                                    "Termék neve": "Ajándék cs. tasak kicsi",
                                    "Kategória": "6",
                                    "Raktár": "6",
                                    "Listaár": "26"
                                },
                                {
                                    "Listaár szerinti sorszám": "15",
                                    "Kategória szerinti sorszám": "3",
                                    "Raktár szerinti sorszám": "6",
                                    "Termékkód": "03080004T",
                                    "Termék neve": "Ajándék cs. tasak italos, fólia",
                                    "Kategória": "6",
                                    "Raktár": "6",
                                    "Listaár": "19"
                                },
                                {
                                    "Listaár szerinti sorszám": "88",
                                    "Kategória szerinti sorszám": "3",
                                    "Raktár szerinti sorszám": "6",
                                    "Termékkód": "03080011T",
                                    "Termék neve": "Ajándék cs. tasak közepes",
                                    "Kategória": "6",
                                    "Raktár": "6",
                                    "Listaár": "148"
                                },
                                {
                                    "Listaár szerinti sorszám": "101",
                                    "Kategória szerinti sorszám": "3",
                                    "Raktár szerinti sorszám": "6",
                                    "Termékkód": "03080003T",
                                    "Termék neve": "Ajándék cs. tasak italos",
                                    "Kategória": "6",
                                    "Raktár": "6",
                                    "Listaár": "185"
                                },
                                {
                                    "Listaár szerinti sorszám": "42",
                                    "Kategória szerinti sorszám": "16",
                                    "Raktár szerinti sorszám": "6",
                                    "Termékkód": "07040048T",
                                    "Termék neve": "Ceruza arany, ezüst",
                                    "Kategória": "19",
                                    "Raktár": "6",
                                    "Listaár": "55"
                                },
                                {
                                    "Listaár szerinti sorszám": "2",
                                    "Kategória szerinti sorszám": "13",
                                    "Raktár szerinti sorszám": "6",
                                    "Termékkód": "02030042T",
                                    "Termék neve": "Boríték LC 6",
                                    "Kategória": "16",
                                    "Raktár": "6",
                                    "Listaár": "3"
                                },
                                {
                                    "Listaár szerinti sorszám": "5",
                                    "Kategória szerinti sorszám": "13",
                                    "Raktár szerinti sorszám": "6",
                                    "Termékkód": "02030040T",
                                    "Termék neve": "Boríték LA 4 francia",
                                    "Kategória": "16",
                                    "Raktár": "6",
                                    "Listaár": "6"
                                },
                                {
                                    "Listaár szerinti sorszám": "197",
                                    "Kategória szerinti sorszám": "11",
                                    "Raktár szerinti sorszám": "6",
                                    "Termékkód": "02060447T",
                                    "Termék neve": "Bélyegző pocket",
                                    "Kategória": "14",
                                    "Raktár": "6",
                                    "Listaár": "1377"
                                },
                                {
                                    "Listaár szerinti sorszám": "171",
                                    "Kategória szerinti sorszám": "11",
                                    "Raktár szerinti sorszám": "6",
                                    "Termékkód": "02060039T",
                                    "Termék neve": "Bélyegző párna",
                                    "Kategória": "14",
                                    "Raktár": "6",
                                    "Listaár": "650"
                                },
                                {
                                    "Listaár szerinti sorszám": "112",
                                    "Kategória szerinti sorszám": "6",
                                    "Raktár szerinti sorszám": "6",
                                    "Termékkód": "05010027T",
                                    "Termék neve": "Alufólia 20 m-es",
                                    "Kategória": "9",
                                    "Raktár": "6",
                                    "Listaár": "214"
                                },
                                {
                                    "Listaár szerinti sorszám": "13",
                                    "Kategória szerinti sorszám": "21",
                                    "Raktár szerinti sorszám": "6",
                                    "Termékkód": "04030289T",
                                    "Termék neve": "Műanyag pohár 5 cl-es",
                                    "Kategória": "25",
                                    "Raktár": "6",
                                    "Listaár": "15"
                                },
                                {
                                    "Listaár szerinti sorszám": "71",
                                    "Kategória szerinti sorszám": "20",
                                    "Raktár szerinti sorszám": "6",
                                    "Termékkód": "03080031T",
                                    "Termék neve": "Ajándék cs. húsvéti",
                                    "Kategória": "24",
                                    "Raktár": "6",
                                    "Listaár": "106"
                                },
                                {
                                    "Listaár szerinti sorszám": "13",
                                    "Kategória szerinti sorszám": "13",
                                    "Raktár szerinti sorszám": "6",
                                    "Termékkód": "02030044T",
                                    "Termék neve": "Boríték mintás",
                                    "Kategória": "16",
                                    "Raktár": "6",
                                    "Listaár": "15"
                                },
                                {
                                    "Listaár szerinti sorszám": "13",
                                    "Kategória szerinti sorszám": "18",
                                    "Raktár szerinti sorszám": "6",
                                    "Termékkód": "01090499T",
                                    "Termék neve": "Color Copy A/4 250 g",
                                    "Kategória": "21",
                                    "Raktár": "6",
                                    "Listaár": "15"
                                },
                                {
                                    "Listaár szerinti sorszám": "8",
                                    "Kategória szerinti sorszám": "18",
                                    "Raktár szerinti sorszám": "6",
                                    "Termékkód": "01100503T",
                                    "Termék neve": "Color Copy A4 120 g",
                                    "Kategória": "21",
                                    "Raktár": "6",
                                    "Listaár": "10"
                                },
                                {
                                    "Listaár szerinti sorszám": "31",
                                    "Kategória szerinti sorszám": "16",
                                    "Raktár szerinti sorszám": "6",
                                    "Termékkód": "07080064T",
                                    "Termék neve": "Ceruza zöld színű",
                                    "Kategória": "19",
                                    "Raktár": "6",
                                    "Listaár": "40"
                                },
                                {
                                    "Listaár szerinti sorszám": "23",
                                    "Kategória szerinti sorszám": "16",
                                    "Raktár szerinti sorszám": "6",
                                    "Termékkód": "07040050T",
                                    "Termék neve": "Ceruza Cseh",
                                    "Kategória": "19",
                                    "Raktár": "6",
                                    "Listaár": "30"
                                },
                                {
                                    "Listaár szerinti sorszám": "30",
                                    "Kategória szerinti sorszám": "16",
                                    "Raktár szerinti sorszám": "6",
                                    "Termékkód": "07040051T",
                                    "Termék neve": "Ceruza háromszög ",
                                    "Kategória": "19",
                                    "Raktár": "6",
                                    "Listaár": "39"
                                },
                                {
                                    "Listaár szerinti sorszám": "28",
                                    "Kategória szerinti sorszám": "16",
                                    "Raktár szerinti sorszám": "6",
                                    "Termékkód": "07040060T",
                                    "Termék neve": "Ceruza stabilo swano",
                                    "Kategória": "19",
                                    "Raktár": "6",
                                    "Listaár": "36"
                                },
                                {
                                    "Listaár szerinti sorszám": "198",
                                    "Kategória szerinti sorszám": "32",
                                    "Raktár szerinti sorszám": "6",
                                    "Termékkód": "01100504T",
                                    "Termék neve": "Fehér másoló A/3",
                                    "Kategória": "36",
                                    "Raktár": "6",
                                    "Listaár": "1488"
                                },
                                {
                                    "Listaár szerinti sorszám": "175",
                                    "Kategória szerinti sorszám": "32",
                                    "Raktár szerinti sorszám": "6",
                                    "Termékkód": "01100505T",
                                    "Termék neve": "Fehér másoló A/4",
                                    "Kategória": "36",
                                    "Raktár": "6",
                                    "Listaár": "686"
                                },
                                {
                                    "Listaár szerinti sorszám": "166",
                                    "Kategória szerinti sorszám": "28",
                                    "Raktár szerinti sorszám": "6",
                                    "Termékkód": "04040090T",
                                    "Termék neve": "Emlékkönyv",
                                    "Kategória": "32",
                                    "Raktár": "6",
                                    "Listaár": "526"
                                },
                                {
                                    "Listaár szerinti sorszám": "60",
                                    "Kategória szerinti sorszám": "24",
                                    "Raktár szerinti sorszám": "6",
                                    "Termékkód": "03050080T",
                                    "Termék neve": "Diszkötöző széles szalag",
                                    "Kategória": "28",
                                    "Raktár": "6",
                                    "Listaár": "81"
                                },
                                {
                                    "Listaár szerinti sorszám": "25",
                                    "Kategória szerinti sorszám": "26",
                                    "Raktár szerinti sorszám": "6",
                                    "Termékkód": "06010083T",
                                    "Termék neve": "Ecset Centrum 7,8,9",
                                    "Kategória": "30",
                                    "Raktár": "6",
                                    "Listaár": "33"
                                },
                                {
                                    "Listaár szerinti sorszám": "58",
                                    "Kategória szerinti sorszám": "26",
                                    "Raktár szerinti sorszám": "7",
                                    "Termékkód": "06040087T",
                                    "Termék neve": "Ecset Nebuló 10-es",
                                    "Kategória": "30",
                                    "Raktár": "7",
                                    "Listaár": "79"
                                },
                                {
                                    "Listaár szerinti sorszám": "20",
                                    "Kategória szerinti sorszám": "29",
                                    "Raktár szerinti sorszám": "7",
                                    "Termékkód": "01030091T",
                                    "Termék neve": "Emléklap A/5",
                                    "Kategória": "33",
                                    "Raktár": "7",
                                    "Listaár": "26"
                                },
                                {
                                    "Listaár szerinti sorszám": "139",
                                    "Kategória szerinti sorszám": "28",
                                    "Raktár szerinti sorszám": "7",
                                    "Termékkód": "04080442T",
                                    "Termék neve": "Emlékkönyv",
                                    "Kategória": "32",
                                    "Raktár": "7",
                                    "Listaár": "316"
                                },
                                {
                                    "Listaár szerinti sorszám": "159",
                                    "Kategória szerinti sorszám": "28",
                                    "Raktár szerinti sorszám": "7",
                                    "Termékkód": "04080443T",
                                    "Termék neve": "Emlékkönyv lakatos",
                                    "Kategória": "32",
                                    "Raktár": "7",
                                    "Listaár": "449"
                                },
                                {
                                    "Listaár szerinti sorszám": "9",
                                    "Kategória szerinti sorszám": "16",
                                    "Raktár szerinti sorszám": "7",
                                    "Termékkód": "07040058T",
                                    "Termék neve": "Ceruza radíros kínai",
                                    "Kategória": "19",
                                    "Raktár": "7",
                                    "Listaár": "11"
                                },
                                {
                                    "Listaár szerinti sorszám": "31",
                                    "Kategória szerinti sorszám": "16",
                                    "Raktár szerinti sorszám": "7",
                                    "Termékkód": "07040056T",
                                    "Termék neve": "Ceruza piros-kék vékony",
                                    "Kategória": "19",
                                    "Raktár": "7",
                                    "Listaár": "40"
                                },
                                {
                                    "Listaár szerinti sorszám": "27",
                                    "Kategória szerinti sorszám": "16",
                                    "Raktár szerinti sorszám": "7",
                                    "Termékkód": "07080063T",
                                    "Termék neve": "Ceruza szorzótáblás",
                                    "Kategória": "19",
                                    "Raktár": "7",
                                    "Listaár": "35"
                                },
                                {
                                    "Listaár szerinti sorszám": "20",
                                    "Kategória szerinti sorszám": "17",
                                    "Raktár szerinti sorszám": "7",
                                    "Termékkód": "04110066T",
                                    "Termék neve": "Címke 8 db-os",
                                    "Kategória": "20",
                                    "Raktár": "7",
                                    "Listaár": "26"
                                },
                                {
                                    "Listaár szerinti sorszám": "24",
                                    "Kategória szerinti sorszám": "17",
                                    "Raktár szerinti sorszám": "7",
                                    "Termékkód": "04110067T",
                                    "Termék neve": "Címke WD. állat",
                                    "Kategória": "20",
                                    "Raktár": "7",
                                    "Listaár": "31"
                                },
                                {
                                    "Listaár szerinti sorszám": "71",
                                    "Kategória szerinti sorszám": "16",
                                    "Raktár szerinti sorszám": "7",
                                    "Termékkód": "07040057T",
                                    "Termék neve": "Ceruza Progresso",
                                    "Kategória": "19",
                                    "Raktár": "7",
                                    "Listaár": "106"
                                },
                                {
                                    "Listaár szerinti sorszám": "62",
                                    "Kategória szerinti sorszám": "19",
                                    "Raktár szerinti sorszám": "7",
                                    "Termékkód": "05010370T",
                                    "Termék neve": "Szilvia csomagoló",
                                    "Kategória": "22",
                                    "Raktár": "7",
                                    "Listaár": "89"
                                },
                                {
                                    "Listaár szerinti sorszám": "17",
                                    "Kategória szerinti sorszám": "20",
                                    "Raktár szerinti sorszám": "7",
                                    "Termékkód": "03080021T",
                                    "Termék neve": "Ajándék csom. vékony",
                                    "Kategória": "24",
                                    "Raktár": "7",
                                    "Listaár": "23"
                                },
                                {
                                    "Listaár szerinti sorszám": "114",
                                    "Kategória szerinti sorszám": "20",
                                    "Raktár szerinti sorszám": "7",
                                    "Termékkód": "03080030T",
                                    "Termék neve": "Ajándék cs. húsvéti 200x70",
                                    "Kategória": "24",
                                    "Raktár": "7",
                                    "Listaár": "220"
                                },
                                {
                                    "Listaár szerinti sorszám": "2",
                                    "Kategória szerinti sorszám": "21",
                                    "Raktár szerinti sorszám": "7",
                                    "Termékkód": "04030288T",
                                    "Termék neve": "Műanyag pohár 1 dl-es",
                                    "Kategória": "25",
                                    "Raktár": "7",
                                    "Listaár": "3"
                                },
                                {
                                    "Listaár szerinti sorszám": "51",
                                    "Kategória szerinti sorszám": "23",
                                    "Raktár szerinti sorszám": "7",
                                    "Termékkód": "04050074T",
                                    "Termék neve": "Díszdoboz tollnak 2 db-os",
                                    "Kategória": "27",
                                    "Raktár": "7",
                                    "Listaár": "66"
                                },
                                {
                                    "Listaár szerinti sorszám": "193",
                                    "Kategória szerinti sorszám": "11",
                                    "Raktár szerinti sorszám": "7",
                                    "Termékkód": "02060448T",
                                    "Termék neve": "Bélyegző RP 18-47",
                                    "Kategória": "14",
                                    "Raktár": "7",
                                    "Listaár": "1147"
                                },
                                {
                                    "Listaár szerinti sorszám": "86",
                                    "Kategória szerinti sorszám": "4",
                                    "Raktár szerinti sorszám": "7",
                                    "Termékkód": "04050024T",
                                    "Termék neve": "Álarc szemüveg",
                                    "Kategória": "7",
                                    "Raktár": "7",
                                    "Listaár": "144"
                                },
                                {
                                    "Listaár szerinti sorszám": "88",
                                    "Kategória szerinti sorszám": "3",
                                    "Raktár szerinti sorszám": "7",
                                    "Termékkód": "03050458T",
                                    "Termék neve": "Ajándék cs. 2×100×70",
                                    "Kategória": "6",
                                    "Raktár": "7",
                                    "Listaár": "148"
                                },
                                {
                                    "Listaár szerinti sorszám": "112",
                                    "Kategória szerinti sorszám": "3",
                                    "Raktár szerinti sorszám": "7",
                                    "Termékkód": "03080438T",
                                    "Termék neve": "Ajándék csomagoló tasak lézeres",
                                    "Kategória": "6",
                                    "Raktár": "7",
                                    "Listaár": "214"
                                },
                                {
                                    "Listaár szerinti sorszám": "101",
                                    "Kategória szerinti sorszám": "3",
                                    "Raktár szerinti sorszám": "7",
                                    "Termékkód": "03080437T",
                                    "Termék neve": "Ajándék csomagoló tasak",
                                    "Kategória": "6",
                                    "Raktár": "7",
                                    "Listaár": "185"
                                },
                                {
                                    "Listaár szerinti sorszám": "42",
                                    "Kategória szerinti sorszám": "16",
                                    "Raktár szerinti sorszám": "7",
                                    "Termékkód": "07040054T",
                                    "Termék neve": "Ceruza kártyás",
                                    "Kategória": "19",
                                    "Raktár": "7",
                                    "Listaár": "55"
                                },
                                {
                                    "Listaár szerinti sorszám": "30",
                                    "Kategória szerinti sorszám": "13",
                                    "Raktár szerinti sorszám": "7",
                                    "Termékkód": "02030043T",
                                    "Termék neve": "Boríték légp. kicsi",
                                    "Kategória": "16",
                                    "Raktár": "7",
                                    "Listaár": "39"
                                },
                                {
                                    "Listaár szerinti sorszám": "70",
                                    "Kategória szerinti sorszám": "3",
                                    "Raktár szerinti sorszám": "7",
                                    "Termékkód": "03080008T",
                                    "Termék neve": "Ajándék cs. tasak kicsi",
                                    "Kategória": "6",
                                    "Raktár": "7",
                                    "Listaár": "103"
                                },
                                {
                                    "Listaár szerinti sorszám": "173",
                                    "Kategória szerinti sorszám": "1",
                                    "Raktár szerinti sorszám": "7",
                                    "Termékkód": "08070479T",
                                    "Termék neve": "Fizika",
                                    "Kategória": "4",
                                    "Raktár": "7",
                                    "Listaár": "674"
                                },
                                {
                                    "Listaár szerinti sorszám": "129",
                                    "Kategória szerinti sorszám": "61",
                                    "Raktár szerinti sorszám": "7",
                                    "Termékkód": "02040199T",
                                    "Termék neve": "Hibajavító roller Pax",
                                    "Kategória": "66",
                                    "Raktár": "7",
                                    "Listaár": "286"
                                },
                                {
                                    "Listaár szerinti sorszám": "126",
                                    "Kategória szerinti sorszám": "61",
                                    "Raktár szerinti sorszám": "7",
                                    "Termékkód": "02040196T",
                                    "Termék neve": "Hibajavító készlet Blanco",
                                    "Kategória": "66",
                                    "Raktár": "7",
                                    "Listaár": "273"
                                },
                                {
                                    "Listaár szerinti sorszám": "100",
                                    "Kategória szerinti sorszám": "56",
                                    "Raktár szerinti sorszám": "7",
                                    "Termékkód": "06040182T",
                                    "Termék neve": "Gyűrűskönyv bet. A/4",
                                    "Kategória": "60",
                                    "Raktár": "7",
                                    "Listaár": "184"
                                },
                                {
                                    "Listaár szerinti sorszám": "14",
                                    "Kategória szerinti sorszám": "54",
                                    "Raktár szerinti sorszám": "7",
                                    "Termékkód": "02040176T",
                                    "Termék neve": "Gyorsfűző dosszié fehér",
                                    "Kategória": "58",
                                    "Raktár": "7",
                                    "Listaár": "18"
                                },
                                {
                                    "Listaár szerinti sorszám": "84",
                                    "Kategória szerinti sorszám": "61",
                                    "Raktár szerinti sorszám": "7",
                                    "Termékkód": "02040198T",
                                    "Termék neve": "Hibajavító roller 5 mm",
                                    "Kategória": "66",
                                    "Raktár": "7",
                                    "Listaár": "133"
                                },
                                {
                                    "Listaár szerinti sorszám": "18",
                                    "Kategória szerinti sorszám": "62",
                                    "Raktár szerinti sorszám": "7",
                                    "Termékkód": "04050203T",
                                    "Termék neve": "Hűtőmágnes",
                                    "Kategória": "67",
                                    "Raktár": "7",
                                    "Listaár": "24"
                                },
                                {
                                    "Listaár szerinti sorszám": "34",
                                    "Kategória szerinti sorszám": "66",
                                    "Raktár szerinti sorszám": "7",
                                    "Termékkód": "02040209T",
                                    "Termék neve": "Iratsín fehér",
                                    "Kategória": "72",
                                    "Raktár": "7",
                                    "Listaár": "44"
                                },
                                {
                                    "Listaár szerinti sorszám": "51",
                                    "Kategória szerinti sorszám": "67",
                                    "Raktár szerinti sorszám": "7",
                                    "Termékkód": "02080436T",
                                    "Termék neve": "Irattartó müa. boríték A/4",
                                    "Kategória": "73",
                                    "Raktár": "7",
                                    "Listaár": "66"
                                },
                                {
                                    "Listaár szerinti sorszám": "55",
                                    "Kategória szerinti sorszám": "70",
                                    "Raktár szerinti sorszám": "7",
                                    "Termékkód": "07040215T",
                                    "Termék neve": "Ironbél  2B ICO",
                                    "Kategória": "76",
                                    "Raktár": "7",
                                    "Listaár": "74"
                                },
                                {
                                    "Listaár szerinti sorszám": "98",
                                    "Kategória szerinti sorszám": "60",
                                    "Raktár szerinti sorszám": "7",
                                    "Termékkód": "06080193T",
                                    "Termék neve": "Hegyző fém 2 lyukú",
                                    "Kategória": "65",
                                    "Raktár": "7",
                                    "Listaár": "180"
                                },
                                {
                                    "Listaár szerinti sorszám": "55",
                                    "Kategória szerinti sorszám": "71",
                                    "Raktár szerinti sorszám": "7",
                                    "Termékkód": "06080430T",
                                    "Termék neve": "Öntapadős betűk",
                                    "Kategória": "78",
                                    "Raktár": "7",
                                    "Listaár": "74"
                                },
                                {
                                    "Listaár szerinti sorszám": "133",
                                    "Kategória szerinti sorszám": "48",
                                    "Raktár szerinti sorszám": "7",
                                    "Termékkód": "07080471T",
                                    "Termék neve": "Golyóstoll levélbontós",
                                    "Kategória": "52",
                                    "Raktár": "7",
                                    "Listaár": "294"
                                },
                                {
                                    "Listaár szerinti sorszám": "64",
                                    "Kategória szerinti sorszám": "48",
                                    "Raktár szerinti sorszám": "7",
                                    "Termékkód": "07080157T",
                                    "Termék neve": "Golyóstoll Montex Hytone",
                                    "Kategória": "52",
                                    "Raktár": "7",
                                    "Listaár": "93"
                                },
                                {
                                    "Listaár szerinti sorszám": "37",
                                    "Kategória szerinti sorszám": "44",
                                    "Raktár szerinti sorszám": "7",
                                    "Termékkód": "02040146T",
                                    "Termék neve": "Gemkapocs ICO",
                                    "Kategória": "48",
                                    "Raktár": "7",
                                    "Listaár": "48"
                                },
                                {
                                    "Listaár szerinti sorszám": "62",
                                    "Kategória szerinti sorszám": "46",
                                    "Raktár szerinti sorszám": "7",
                                    "Termékkód": "02080456T",
                                    "Termék neve": "Genoterm HERLITZ 10-es",
                                    "Kategória": "50",
                                    "Raktár": "7",
                                    "Listaár": "89"
                                },
                                {
                                    "Listaár szerinti sorszám": "119",
                                    "Kategória szerinti sorszám": "48",
                                    "Raktár szerinti sorszám": "7",
                                    "Termékkód": "07080160T",
                                    "Termék neve": "Golyóstoll penac",
                                    "Kategória": "52",
                                    "Raktár": "7",
                                    "Listaár": "239"
                                },
                                {
                                    "Listaár szerinti sorszám": "102",
                                    "Kategória szerinti sorszám": "48",
                                    "Raktár szerinti sorszám": "7",
                                    "Termékkód": "07080470T",
                                    "Termék neve": "Golyóstoll háromszög",
                                    "Kategória": "52",
                                    "Raktár": "7",
                                    "Listaár": "188"
                                },
                                {
                                    "Listaár szerinti sorszám": "73",
                                    "Kategória szerinti sorszám": "47",
                                    "Raktár szerinti sorszám": "7",
                                    "Termékkód": "02040149T",
                                    "Termék neve": "Genotherm A4 10db-os",
                                    "Kategória": "51",
                                    "Raktár": "7",
                                    "Listaár": "110"
                                },
                                {
                                    "Listaár szerinti sorszám": "90",
                                    "Kategória szerinti sorszám": "41",
                                    "Raktár szerinti sorszám": "7",
                                    "Termékkód": "06080426T",
                                    "Termék neve": "Szótárfüzet Lizzy",
                                    "Kategória": "45",
                                    "Raktár": "7",
                                    "Listaár": "161"
                                },
                                {
                                    "Listaár szerinti sorszám": "15",
                                    "Kategória szerinti sorszám": "42",
                                    "Raktár szerinti sorszám": "7",
                                    "Termékkód": "06080122T",
                                    "Termék neve": "Füzetborító öntapadós nagy",
                                    "Kategória": "46",
                                    "Raktár": "7",
                                    "Listaár": "19"
                                },
                                {
                                    "Listaár szerinti sorszám": "154",
                                    "Kategória szerinti sorszám": "43",
                                    "Raktár szerinti sorszám": "7",
                                    "Termékkód": "06080125T",
                                    "Termék neve": "Füzettartó A/5 vastag",
                                    "Kategória": "47",
                                    "Raktár": "7",
                                    "Listaár": "411"
                                },
                                {
                                    "Listaár szerinti sorszám": "106",
                                    "Kategória szerinti sorszám": "42",
                                    "Raktár szerinti sorszám": "7",
                                    "Termékkód": "06080121T",
                                    "Termék neve": "Füzetborító öntapadó tekercses",
                                    "Kategória": "46",
                                    "Raktár": "7",
                                    "Listaár": "195"
                                },
                                {
                                    "Listaár szerinti sorszám": "26",
                                    "Kategória szerinti sorszám": "41",
                                    "Raktár szerinti sorszám": "7",
                                    "Termékkód": "06080116T",
                                    "Termék neve": "Füzet A5 1-8 osz.-ig",
                                    "Kategória": "45",
                                    "Raktár": "7",
                                    "Listaár": "34"
                                },
                                {
                                    "Listaár szerinti sorszám": "40",
                                    "Kategória szerinti sorszám": "38",
                                    "Raktár szerinti sorszám": "7",
                                    "Termékkód": "02080109T",
                                    "Termék neve": "Floppy lemez",
                                    "Kategória": "42",
                                    "Raktár": "7",
                                    "Listaár": "51"
                                },
                                {
                                    "Listaár szerinti sorszám": "36",
                                    "Kategória szerinti sorszám": "37",
                                    "Raktár szerinti sorszám": "7",
                                    "Termékkód": "07040102T",
                                    "Termék neve": "Filctoll supra fine",
                                    "Kategória": "41",
                                    "Raktár": "7",
                                    "Listaár": "46"
                                },
                                {
                                    "Listaár szerinti sorszám": "106",
                                    "Kategória szerinti sorszám": "87",
                                    "Raktár szerinti sorszám": "7",
                                    "Termékkód": "06040172T",
                                    "Termék neve": "Gumis mappa csomagolt",
                                    "Kategória": "96",
                                    "Raktár": "7",
                                    "Listaár": "195"
                                },
                                {
                                    "Listaár szerinti sorszám": "166",
                                    "Kategória szerinti sorszám": "86",
                                    "Raktár szerinti sorszám": "7",
                                    "Termékkód": "02080453T",
                                    "Termék neve": "Lyukasztó EAGLE",
                                    "Kategória": "95",
                                    "Raktár": "7",
                                    "Listaár": "526"
                                },
                                {
                                    "Listaár szerinti sorszám": "62",
                                    "Kategória szerinti sorszám": "84",
                                    "Raktár szerinti sorszám": "7",
                                    "Termékkód": "04030263T",
                                    "Termék neve": "Levélpapír szett",
                                    "Kategória": "93",
                                    "Raktár": "7",
                                    "Listaár": "89"
                                },
                                {
                                    "Listaár szerinti sorszám": "94",
                                    "Kategória szerinti sorszám": "84",
                                    "Raktár szerinti sorszám": "7",
                                    "Termékkód": "04030266T",
                                    "Termék neve": "Levélpapír szett virágos",
                                    "Kategória": "93",
                                    "Raktár": "7",
                                    "Listaár": "169"
                                },
                                {
                                    "Listaár szerinti sorszám": "13",
                                    "Kategória szerinti sorszám": "85",
                                    "Raktár szerinti sorszám": "7",
                                    "Termékkód": "04050268T",
                                    "Termék neve": "Lufi formázható",
                                    "Kategória": "94",
                                    "Raktár": "7",
                                    "Listaár": "15"
                                },
                                {
                                    "Listaár szerinti sorszám": "73",
                                    "Kategória szerinti sorszám": "83",
                                    "Raktár szerinti sorszám": "7",
                                    "Termékkód": "04050171T",
                                    "Termék neve": "Gumilabda közepes",
                                    "Kategória": "92",
                                    "Raktár": "7",
                                    "Listaár": "110"
                                },
                                {
                                    "Listaár szerinti sorszám": "106",
                                    "Kategória szerinti sorszám": "78",
                                    "Raktár szerinti sorszám": "7",
                                    "Termékkód": "04030243T",
                                    "Termék neve": "Képkirakó Dirib-darab",
                                    "Kategória": "86",
                                    "Raktár": "7",
                                    "Listaár": "195"
                                },
                                {
                                    "Listaár szerinti sorszám": "25",
                                    "Kategória szerinti sorszám": "71",
                                    "Raktár szerinti sorszám": "7",
                                    "Termékkód": "06010036T",
                                    "Termék neve": "Betűtartó sin",
                                    "Kategória": "78",
                                    "Raktár": "7",
                                    "Listaár": "33"
                                },
                                {
                                    "Listaár szerinti sorszám": "4",
                                    "Kategória szerinti sorszám": "71",
                                    "Raktár szerinti sorszám": "7",
                                    "Termékkód": "06040089T",
                                    "Termék neve": "Ellenőrzőborító",
                                    "Kategória": "78",
                                    "Raktár": "7",
                                    "Listaár": "5"
                                },
                                {
                                    "Listaár szerinti sorszám": "81",
                                    "Kategória szerinti sorszám": "71",
                                    "Raktár szerinti sorszám": "7",
                                    "Termékkód": "06040399T",
                                    "Termék neve": "Tombola tömb",
                                    "Kategória": "78",
                                    "Raktár": "7",
                                    "Listaár": "125"
                                },
                                {
                                    "Listaár szerinti sorszám": "140",
                                    "Kategória szerinti sorszám": "71",
                                    "Raktár szerinti sorszám": "7",
                                    "Termékkód": "06080422T",
                                    "Termék neve": "Füzettartó A/4",
                                    "Kategória": "78",
                                    "Raktár": "7",
                                    "Listaár": "324"
                                },
                                {
                                    "Listaár szerinti sorszám": "84",
                                    "Kategória szerinti sorszám": "72",
                                    "Raktár szerinti sorszám": "7",
                                    "Termékkód": "04050221T",
                                    "Termék neve": "Játékautó Blisteres",
                                    "Kategória": "79",
                                    "Raktár": "7",
                                    "Listaár": "133"
                                },
                                {
                                    "Listaár szerinti sorszám": "91",
                                    "Kategória szerinti sorszám": "72",
                                    "Raktár szerinti sorszám": "7",
                                    "Termékkód": "04050222T",
                                    "Termék neve": "Játékautó elemes",
                                    "Kategória": "79",
                                    "Raktár": "7",
                                    "Listaár": "165"
                                },
                                {
                                    "Listaár szerinti sorszám": "50",
                                    "Kategória szerinti sorszám": "72",
                                    "Raktár szerinti sorszám": "7",
                                    "Termékkód": "04050220T",
                                    "Termék neve": "Játék autó",
                                    "Kategória": "79",
                                    "Raktár": "7",
                                    "Listaár": "65"
                                },
                                {
                                    "Listaár szerinti sorszám": "54",
                                    "Kategória szerinti sorszám": "72",
                                    "Raktár szerinti sorszám": "7",
                                    "Termékkód": "04050223T",
                                    "Termék neve": "Játékautó mini",
                                    "Kategória": "79",
                                    "Raktár": "7",
                                    "Listaár": "73"
                                },
                                {
                                    "Listaár szerinti sorszám": "62",
                                    "Kategória szerinti sorszám": "75",
                                    "Raktár szerinti sorszám": "7",
                                    "Termékkód": "01100071T",
                                    "Termék neve": "Dekorációs karton arany, ezüst",
                                    "Kategória": "83",
                                    "Raktár": "7",
                                    "Listaár": "89"
                                },
                                {
                                    "Listaár szerinti sorszám": "40",
                                    "Kategória szerinti sorszám": "71",
                                    "Raktár szerinti sorszám": "7",
                                    "Termékkód": "06040088T",
                                    "Termék neve": "Egészségügyi könyv",
                                    "Kategória": "78",
                                    "Raktár": "7",
                                    "Listaár": "51"
                                },
                                {
                                    "Listaár szerinti sorszám": "12",
                                    "Kategória szerinti sorszám": "77",
                                    "Raktár szerinti sorszám": "7",
                                    "Termékkód": "04030240T",
                                    "Termék neve": "Képeslap virágos",
                                    "Kategória": "85",
                                    "Raktár": "7",
                                    "Listaár": "14"
                                },
                                {
                                    "Listaár szerinti sorszám": "54",
                                    "Kategória szerinti sorszám": "77",
                                    "Raktár szerinti sorszám": "7",
                                    "Termékkód": "04030235T",
                                    "Termék neve": "Képeslap karácsonyi borítékos",
                                    "Kategória": "85",
                                    "Raktár": "7",
                                    "Listaár": "73"
                                },
                                {
                                    "Listaár szerinti sorszám": "3",
                                    "Kategória szerinti sorszám": "99",
                                    "Raktár szerinti sorszám": "7",
                                    "Termékkód": "01090517T",
                                    "Termék neve": "Színes ofszet B/4",
                                    "Kategória": "109",
                                    "Raktár": "7",
                                    "Listaár": "4"
                                },
                                {
                                    "Listaár szerinti sorszám": "70",
                                    "Kategória szerinti sorszám": "105",
                                    "Raktár szerinti sorszám": "7",
                                    "Termékkód": "02020245T",
                                    "Termék neve": "Kiadási pénztárbizonylat 2×25",
                                    "Kategória": "116",
                                    "Raktár": "7",
                                    "Listaár": "103"
                                },
                                {
                                    "Listaár szerinti sorszám": "90",
                                    "Kategória szerinti sorszám": "101",
                                    "Raktár szerinti sorszám": "7",
                                    "Termékkód": "06050303T",
                                    "Termék neve": "Olló, iskolai",
                                    "Kategória": "111",
                                    "Raktár": "7",
                                    "Listaár": "161"
                                },
                                {
                                    "Listaár szerinti sorszám": "90",
                                    "Kategória szerinti sorszám": "108",
                                    "Raktár szerinti sorszám": "7",
                                    "Termékkód": "04050321T",
                                    "Termék neve": "Plüss kicsi",
                                    "Kategória": "119",
                                    "Raktár": "7",
                                    "Listaár": "161"
                                },
                                {
                                    "Listaár szerinti sorszám": "135",
                                    "Kategória szerinti sorszám": "107",
                                    "Raktár szerinti sorszám": "7",
                                    "Termékkód": "07080319T",
                                    "Termék neve": "Pixiron Pentel színes",
                                    "Kategória": "118",
                                    "Raktár": "7",
                                    "Listaár": "299"
                                },
                                {
                                    "Listaár szerinti sorszám": "62",
                                    "Kategória szerinti sorszám": "109",
                                    "Raktár szerinti sorszám": "7",
                                    "Termékkód": "06040324T",
                                    "Termék neve": "Post-it 75×75 100 lapos",
                                    "Kategória": "121",
                                    "Raktár": "7",
                                    "Listaár": "89"
                                },
                                {
                                    "Listaár szerinti sorszám": "93",
                                    "Kategória szerinti sorszám": "88",
                                    "Raktár szerinti sorszám": "7",
                                    "Termékkód": "04110279T",
                                    "Termék neve": "Matrica tetoválás",
                                    "Kategória": "97",
                                    "Raktár": "7",
                                    "Listaár": "168"
                                },
                                {
                                    "Listaár szerinti sorszám": "111",
                                    "Kategória szerinti sorszám": "87",
                                    "Raktár szerinti sorszám": "7",
                                    "Termékkód": "06040173T",
                                    "Termék neve": "Gumis mappa fóliázott állatos",
                                    "Kategória": "96",
                                    "Raktár": "7",
                                    "Listaár": "211"
                                },
                                {
                                    "Listaár szerinti sorszám": "107",
                                    "Kategória szerinti sorszám": "91",
                                    "Raktár szerinti sorszám": "7",
                                    "Termékkód": "08070481T",
                                    "Termék neve": "Fizika munkafüzet 13 év.",
                                    "Kategória": "100",
                                    "Raktár": "7",
                                    "Listaár": "198"
                                },
                                {
                                    "Listaár szerinti sorszám": "48",
                                    "Kategória szerinti sorszám": "113",
                                    "Raktár szerinti sorszám": "7",
                                    "Termékkód": "03010344T",
                                    "Termék neve": "Ragasztószalag nagy 12 mm",
                                    "Kategória": "125",
                                    "Raktár": "7",
                                    "Listaár": "63"
                                },
                                {
                                    "Listaár szerinti sorszám": "96",
                                    "Kategória szerinti sorszám": "121",
                                    "Raktár szerinti sorszám": "7",
                                    "Termékkód": "05110361T",
                                    "Termék neve": "Szalvéta Goma húsvéti",
                                    "Kategória": "133",
                                    "Raktár": "7",
                                    "Listaár": "175"
                                },
                                {
                                    "Listaár szerinti sorszám": "132",
                                    "Kategória szerinti sorszám": "112",
                                    "Raktár szerinti sorszám": "7",
                                    "Termékkód": "06080337T",
                                    "Termék neve": "Ragasztó Gyurma",
                                    "Kategória": "124",
                                    "Raktár": "7",
                                    "Listaár": "293"
                                },
                                {
                                    "Listaár szerinti sorszám": "77",
                                    "Kategória szerinti sorszám": "111",
                                    "Raktár szerinti sorszám": "7",
                                    "Termékkód": "06080333T",
                                    "Termék neve": "Radírtoll betét vastag",
                                    "Kategória": "123",
                                    "Raktár": "7",
                                    "Listaár": "119"
                                },
                                {
                                    "Listaár szerinti sorszám": "39",
                                    "Kategória szerinti sorszám": "110",
                                    "Raktár szerinti sorszám": "7",
                                    "Termékkód": "06040330T",
                                    "Termék neve": "Radír Tikky 30 ",
                                    "Kategória": "122",
                                    "Raktár": "7",
                                    "Listaár": "50"
                                },
                                {
                                    "Listaár szerinti sorszám": "82",
                                    "Kategória szerinti sorszám": "123",
                                    "Raktár szerinti sorszám": "7",
                                    "Termékkód": "05010369T",
                                    "Termék neve": "Szemetes zsák 60 literes",
                                    "Kategória": "135",
                                    "Raktár": "7",
                                    "Listaár": "129"
                                },
                                {
                                    "Listaár szerinti sorszám": "90",
                                    "Kategória szerinti sorszám": "124",
                                    "Raktár szerinti sorszám": "7",
                                    "Termékkód": "07010372T",
                                    "Termék neve": "Színes ceruza 12 szín",
                                    "Kategória": "136",
                                    "Raktár": "7",
                                    "Listaár": "161"
                                },
                                {
                                    "Listaár szerinti sorszám": "85",
                                    "Kategória szerinti sorszám": "126",
                                    "Raktár szerinti sorszám": "7",
                                    "Termékkód": "07050464T",
                                    "Termék neve": "Szövegkiemelő Staedtler",
                                    "Kategória": "138",
                                    "Raktár": "7",
                                    "Listaár": "140"
                                },
                                {
                                    "Listaár szerinti sorszám": "34",
                                    "Kategória szerinti sorszám": "133",
                                    "Raktár szerinti sorszám": "7",
                                    "Termékkód": "07040134T",
                                    "Termék neve": "G.toll betét illatos",
                                    "Kategória": "145",
                                    "Raktár": "7",
                                    "Listaár": "44"
                                },
                                {
                                    "Listaár szerinti sorszám": "13",
                                    "Kategória szerinti sorszám": "133",
                                    "Raktár szerinti sorszám": "7",
                                    "Termékkód": "07010141T",
                                    "Termék neve": "G.toll betét X20",
                                    "Kategória": "145",
                                    "Raktár": "7",
                                    "Listaár": "15"
                                },
                                {
                                    "Listaár szerinti sorszám": "57",
                                    "Kategória szerinti sorszám": "133",
                                    "Raktár szerinti sorszám": "7",
                                    "Termékkód": "07010143T",
                                    "Termék neve": "G.toll betét Zebra H-0,7",
                                    "Kategória": "145",
                                    "Raktár": "7",
                                    "Listaár": "78"
                                },
                                {
                                    "Listaár szerinti sorszám": "7",
                                    "Kategória szerinti sorszám": "131",
                                    "Raktár szerinti sorszám": "7",
                                    "Termékkód": "07040388T",
                                    "Termék neve": "Tintapatron /kék/",
                                    "Kategória": "143",
                                    "Raktár": "7",
                                    "Listaár": "9"
                                },
                                {
                                    "Listaár szerinti sorszám": "147",
                                    "Kategória szerinti sorszám": "131",
                                    "Raktár szerinti sorszám": "7",
                                    "Termékkód": "07040389T",
                                    "Termék neve": "Tintapatron 30 db-os kék",
                                    "Kategória": "143",
                                    "Raktár": "7",
                                    "Listaár": "360"
                                },
                                {
                                    "Listaár szerinti sorszám": "153",
                                    "Kategória szerinti sorszám": "134",
                                    "Raktár szerinti sorszám": "7",
                                    "Termékkód": "06040396T",
                                    "Termék neve": "Tolltartó Garfield",
                                    "Kategória": "146",
                                    "Raktár": "7",
                                    "Listaár": "410"
                                },
                                {
                                    "Listaár szerinti sorszám": "180",
                                    "Kategória szerinti sorszám": "134",
                                    "Raktár szerinti sorszám": "7",
                                    "Termékkód": "06040395T",
                                    "Termék neve": "Tolltartó 2 zipzáros töltött",
                                    "Kategória": "146",
                                    "Raktár": "7",
                                    "Listaár": "728"
                                },
                                {
                                    "Listaár szerinti sorszám": "180",
                                    "Kategória szerinti sorszám": "134",
                                    "Raktár szerinti sorszám": "7",
                                    "Termékkód": "06040392T",
                                    "Termék neve": "Tolltartó 1 zipzáros",
                                    "Kategória": "146",
                                    "Raktár": "7",
                                    "Listaár": "728"
                                },
                                {
                                    "Listaár szerinti sorszám": "23",
                                    "Kategória szerinti sorszám": "140",
                                    "Raktár szerinti sorszám": "7",
                                    "Termékkód": "06080412T",
                                    "Termék neve": "Vonalzó 16 cm-es LIZZY",
                                    "Kategória": "152",
                                    "Raktár": "7",
                                    "Listaár": "30"
                                },
                                {
                                    "Listaár szerinti sorszám": "66",
                                    "Kategória szerinti sorszám": "142",
                                    "Raktár szerinti sorszám": "7",
                                    "Termékkód": "07080418T",
                                    "Termék neve": "Zselés toll ",
                                    "Kategória": "154",
                                    "Raktár": "7",
                                    "Listaár": "95"
                                },
                                {
                                    "Listaár szerinti sorszám": "115",
                                    "Kategória szerinti sorszám": "142",
                                    "Raktár szerinti sorszám": "7",
                                    "Termékkód": "07080421T",
                                    "Termék neve": "Zseléstoll Lizzy Card",
                                    "Kategória": "154",
                                    "Raktár": "7",
                                    "Listaár": "228"
                                },
                                {
                                    "Listaár szerinti sorszám": "90",
                                    "Kategória szerinti sorszám": "142",
                                    "Raktár szerinti sorszám": "7",
                                    "Termékkód": "07080420T",
                                    "Termék neve": "Zselés toll Muhnwa",
                                    "Kategória": "154",
                                    "Raktár": "7",
                                    "Listaár": "161"
                                },
                                {
                                    "Listaár szerinti sorszám": "34",
                                    "Kategória szerinti sorszám": "138",
                                    "Raktár szerinti sorszám": "7",
                                    "Termékkód": "02040405T",
                                    "Termék neve": "Tűzőkapocs 10-es",
                                    "Kategória": "150",
                                    "Raktár": "7",
                                    "Listaár": "44"
                                },
                                {
                                    "Listaár szerinti sorszám": "122",
                                    "Kategória szerinti sorszám": "139",
                                    "Raktár szerinti sorszám": "7",
                                    "Termékkód": "06080407T",
                                    "Termék neve": "Vízfesték  12 színű nagy",
                                    "Kategória": "151",
                                    "Raktár": "7",
                                    "Listaár": "249"
                                },
                                {
                                    "Listaár szerinti sorszám": "110",
                                    "Kategória szerinti sorszám": "139",
                                    "Raktár szerinti sorszám": "7",
                                    "Termékkód": "06080408T",
                                    "Termék neve": "Vízfesték 12 db-os ",
                                    "Kategória": "151",
                                    "Raktár": "7",
                                    "Listaár": "210"
                                },
                                {
                                    "Listaár szerinti sorszám": "44",
                                    "Kategória szerinti sorszám": "140",
                                    "Raktár szerinti sorszám": "8",
                                    "Termékkód": "06080411T",
                                    "Termék neve": "Vonalzó 15 cm-es ESSELTE",
                                    "Kategória": "152",
                                    "Raktár": "8",
                                    "Listaár": "58"
                                },
                                {
                                    "Listaár szerinti sorszám": "142",
                                    "Kategória szerinti sorszám": "137",
                                    "Raktár szerinti sorszám": "8",
                                    "Termékkód": "02040401T",
                                    "Termék neve": "Tűzőgép Boxer 10",
                                    "Kategória": "149",
                                    "Raktár": "8",
                                    "Listaár": "339"
                                },
                                {
                                    "Listaár szerinti sorszám": "152",
                                    "Kategória szerinti sorszám": "137",
                                    "Raktár szerinti sorszám": "8",
                                    "Termékkód": "02040404T",
                                    "Termék neve": "Tűzőgép EAGLE",
                                    "Kategória": "149",
                                    "Raktár": "8",
                                    "Listaár": "405"
                                },
                                {
                                    "Listaár szerinti sorszám": "60",
                                    "Kategória szerinti sorszám": "143",
                                    "Raktár szerinti sorszám": "8",
                                    "Termékkód": "02040206T",
                                    "Termék neve": "Írásvetítő fólia",
                                    "Kategória": "155",
                                    "Raktár": "8",
                                    "Listaár": "81"
                                },
                                {
                                    "Listaár szerinti sorszám": "23",
                                    "Kategória szerinti sorszám": "140",
                                    "Raktár szerinti sorszám": "8",
                                    "Termékkód": "06080413T",
                                    "Termék neve": "Vonalzó 30 cm",
                                    "Kategória": "152",
                                    "Raktár": "8",
                                    "Listaár": "30"
                                },
                                {
                                    "Listaár szerinti sorszám": "23",
                                    "Kategória szerinti sorszám": "140",
                                    "Raktár szerinti sorszám": "8",
                                    "Termékkód": "06080414T",
                                    "Termék neve": "Vonalzó 20 cm-es ",
                                    "Kategória": "152",
                                    "Raktár": "8",
                                    "Listaár": "30"
                                },
                                {
                                    "Listaár szerinti sorszám": "172",
                                    "Kategória szerinti sorszám": "134",
                                    "Raktár szerinti sorszám": "8",
                                    "Termékkód": "06040397T",
                                    "Termék neve": "Tolltartó asztali",
                                    "Kategória": "146",
                                    "Raktár": "8",
                                    "Listaár": "655"
                                },
                                {
                                    "Listaár szerinti sorszám": "25",
                                    "Kategória szerinti sorszám": "133",
                                    "Raktár szerinti sorszám": "8",
                                    "Termékkód": "07010138T",
                                    "Termék neve": "G.toll betét jumbo",
                                    "Kategória": "145",
                                    "Raktár": "8",
                                    "Listaár": "33"
                                },
                                {
                                    "Listaár szerinti sorszám": "214",
                                    "Kategória szerinti sorszám": "135",
                                    "Raktár szerinti sorszám": "8",
                                    "Termékkód": "02080511T",
                                    "Termék neve": "Oki toner C",
                                    "Kategória": "147",
                                    "Raktár": "8",
                                    "Listaár": "14250"
                                },
                                {
                                    "Listaár szerinti sorszám": "42",
                                    "Kategória szerinti sorszám": "133",
                                    "Raktár szerinti sorszám": "8",
                                    "Termékkód": "07040132T",
                                    "Termék neve": "G.toll betét csavaros",
                                    "Kategória": "145",
                                    "Raktár": "8",
                                    "Listaár": "55"
                                },
                                {
                                    "Listaár szerinti sorszám": "67",
                                    "Kategória szerinti sorszám": "129",
                                    "Raktár szerinti sorszám": "8",
                                    "Termékkód": "06040385T",
                                    "Termék neve": "Tempera szóló ezüst",
                                    "Kategória": "141",
                                    "Raktár": "8",
                                    "Listaár": "96"
                                },
                                {
                                    "Listaár szerinti sorszám": "37",
                                    "Kategória szerinti sorszám": "129",
                                    "Raktár szerinti sorszám": "8",
                                    "Termékkód": "06040386T",
                                    "Termék neve": "Tempera szóló színes",
                                    "Kategória": "141",
                                    "Raktár": "8",
                                    "Listaár": "48"
                                },
                                {
                                    "Listaár szerinti sorszám": "62",
                                    "Kategória szerinti sorszám": "126",
                                    "Raktár szerinti sorszám": "8",
                                    "Termékkód": "06040378T",
                                    "Termék neve": "Szövegkiemelő vékony",
                                    "Kategória": "138",
                                    "Raktár": "8",
                                    "Listaár": "89"
                                },
                                {
                                    "Listaár szerinti sorszám": "68",
                                    "Kategória szerinti sorszám": "124",
                                    "Raktár szerinti sorszám": "8",
                                    "Termékkód": "07010371T",
                                    "Termék neve": "Színes ceruza 6-os",
                                    "Kategória": "136",
                                    "Raktár": "8",
                                    "Listaár": "99"
                                },
                                {
                                    "Listaár szerinti sorszám": "34",
                                    "Kategória szerinti sorszám": "110",
                                    "Raktár szerinti sorszám": "8",
                                    "Termékkód": "06040328T",
                                    "Termék neve": "Radír Maped",
                                    "Kategória": "122",
                                    "Raktár": "8",
                                    "Listaár": "44"
                                },
                                {
                                    "Listaár szerinti sorszám": "15",
                                    "Kategória szerinti sorszám": "110",
                                    "Raktár szerinti sorszám": "8",
                                    "Termékkód": "06040326T",
                                    "Termék neve": "Radír KOH-I-NOR 80",
                                    "Kategória": "122",
                                    "Raktár": "8",
                                    "Listaár": "19"
                                },
                                {
                                    "Listaár szerinti sorszám": "38",
                                    "Kategória szerinti sorszám": "110",
                                    "Raktár szerinti sorszám": "8",
                                    "Termékkód": "06040331T",
                                    "Termék neve": "Radír Tikky 40 ",
                                    "Kategória": "122",
                                    "Raktár": "8",
                                    "Listaár": "49"
                                },
                                {
                                    "Listaár szerinti sorszám": "86",
                                    "Kategória szerinti sorszám": "112",
                                    "Raktár szerinti sorszám": "8",
                                    "Termékkód": "05080340T",
                                    "Termék neve": "Ragasztó, Technokol 35g kék",
                                    "Kategória": "124",
                                    "Raktár": "8",
                                    "Listaár": "144"
                                },
                                {
                                    "Listaár szerinti sorszám": "70",
                                    "Kategória szerinti sorszám": "112",
                                    "Raktár szerinti sorszám": "8",
                                    "Termékkód": "05040310T",
                                    "Termék neve": "Pill.ragasztó",
                                    "Kategória": "124",
                                    "Raktár": "8",
                                    "Listaár": "103"
                                },
                                {
                                    "Listaár szerinti sorszám": "69",
                                    "Kategória szerinti sorszám": "112",
                                    "Raktár szerinti sorszám": "8",
                                    "Termékkód": "06080338T",
                                    "Termék neve": "Ragasztó kenőfejes Nebuló",
                                    "Kategória": "124",
                                    "Raktár": "8",
                                    "Listaár": "101"
                                },
                                {
                                    "Listaár szerinti sorszám": "97",
                                    "Kategória szerinti sorszám": "121",
                                    "Raktár szerinti sorszám": "8",
                                    "Termékkód": "05110359T",
                                    "Termék neve": "Szalvéta ",
                                    "Kategória": "133",
                                    "Raktár": "8",
                                    "Listaár": "176"
                                },
                                {
                                    "Listaár szerinti sorszám": "146",
                                    "Kategória szerinti sorszám": "120",
                                    "Raktár szerinti sorszám": "8",
                                    "Termékkód": "04050358T",
                                    "Termék neve": "Strandlabda ",
                                    "Kategória": "132",
                                    "Raktár": "8",
                                    "Listaár": "356"
                                },
                                {
                                    "Listaár szerinti sorszám": "90",
                                    "Kategória szerinti sorszám": "121",
                                    "Raktár szerinti sorszám": "8",
                                    "Termékkód": "05110364T",
                                    "Termék neve": "Szalvéta kicsi virágos",
                                    "Kategória": "133",
                                    "Raktár": "8",
                                    "Listaár": "161"
                                },
                                {
                                    "Listaár szerinti sorszám": "71",
                                    "Kategória szerinti sorszám": "116",
                                    "Raktár szerinti sorszám": "8",
                                    "Termékkód": "05040348T",
                                    "Termék neve": "Rajzszeg színes",
                                    "Kategória": "128",
                                    "Raktár": "8",
                                    "Listaár": "106"
                                },
                                {
                                    "Listaár szerinti sorszám": "185",
                                    "Kategória szerinti sorszám": "91",
                                    "Raktár szerinti sorszám": "8",
                                    "Termékkód": "08070478T",
                                    "Termék neve": "Összefoglaló feladatgyüjtemény számtech.",
                                    "Kategória": "100",
                                    "Raktár": "8",
                                    "Listaár": "785"
                                },
                                {
                                    "Listaár szerinti sorszám": "13",
                                    "Kategória szerinti sorszám": "94",
                                    "Raktár szerinti sorszám": "8",
                                    "Termékkód": "02040291T",
                                    "Termék neve": "Naptárhát kicsi",
                                    "Kategória": "104",
                                    "Raktár": "8",
                                    "Listaár": "15"
                                },
                                {
                                    "Listaár szerinti sorszám": "2",
                                    "Kategória szerinti sorszám": "92",
                                    "Raktár szerinti sorszám": "8",
                                    "Termékkód": "01090498T",
                                    "Termék neve": "Műnyomó 300g 17,5*20",
                                    "Kategória": "101",
                                    "Raktár": "8",
                                    "Listaár": "3"
                                },
                                {
                                    "Listaár szerinti sorszám": "62",
                                    "Kategória szerinti sorszám": "93",
                                    "Raktár szerinti sorszám": "8",
                                    "Termékkód": "02040290T",
                                    "Termék neve": "Naptár 24-es",
                                    "Kategória": "103",
                                    "Raktár": "8",
                                    "Listaár": "89"
                                },
                                {
                                    "Listaár szerinti sorszám": "110",
                                    "Kategória szerinti sorszám": "87",
                                    "Raktár szerinti sorszám": "8",
                                    "Termékkód": "02080434T",
                                    "Termék neve": "Mappa müa A/4",
                                    "Kategória": "96",
                                    "Raktár": "8",
                                    "Listaár": "210"
                                },
                                {
                                    "Listaár szerinti sorszám": "125",
                                    "Kategória szerinti sorszám": "87",
                                    "Raktár szerinti sorszám": "8",
                                    "Termékkód": "04080271T",
                                    "Termék neve": "Mappa PVC villámzáras",
                                    "Kategória": "96",
                                    "Raktár": "8",
                                    "Listaár": "264"
                                },
                                {
                                    "Listaár szerinti sorszám": "105",
                                    "Kategória szerinti sorszám": "87",
                                    "Raktár szerinti sorszám": "8",
                                    "Termékkód": "06040175T",
                                    "Termék neve": "Gumis mappa Köbüki",
                                    "Kategória": "96",
                                    "Raktár": "8",
                                    "Listaár": "191"
                                },
                                {
                                    "Listaár szerinti sorszám": "90",
                                    "Kategória szerinti sorszám": "88",
                                    "Raktár szerinti sorszám": "8",
                                    "Termékkód": "04110278T",
                                    "Termék neve": "Matrica Test ékszer tattoo",
                                    "Kategória": "97",
                                    "Raktár": "8",
                                    "Listaár": "161"
                                },
                                {
                                    "Listaár szerinti sorszám": "80",
                                    "Kategória szerinti sorszám": "82",
                                    "Raktár szerinti sorszám": "8",
                                    "Termékkód": "04050252T",
                                    "Termék neve": "Kulcstartó Csőrikés",
                                    "Kategória": "91",
                                    "Raktár": "8",
                                    "Listaár": "124"
                                },
                                {
                                    "Listaár szerinti sorszám": "28",
                                    "Kategória szerinti sorszám": "109",
                                    "Raktár szerinti sorszám": "8",
                                    "Termékkód": "06040323T",
                                    "Termék neve": "Post-it 51×38 100 lapos",
                                    "Kategória": "121",
                                    "Raktár": "8",
                                    "Listaár": "36"
                                },
                                {
                                    "Listaár szerinti sorszám": "162",
                                    "Kategória szerinti sorszám": "107",
                                    "Raktár szerinti sorszám": "8",
                                    "Termékkód": "07080316T",
                                    "Termék neve": "Pixiron KOH-I-NOOR",
                                    "Kategória": "118",
                                    "Raktár": "8",
                                    "Listaár": "468"
                                },
                                {
                                    "Listaár szerinti sorszám": "65",
                                    "Kategória szerinti sorszám": "107",
                                    "Raktár szerinti sorszám": "8",
                                    "Termékkód": "07080315T",
                                    "Termék neve": "Pixiron Handy műanyag",
                                    "Kategória": "118",
                                    "Raktár": "8",
                                    "Listaár": "94"
                                },
                                {
                                    "Listaár szerinti sorszám": "127",
                                    "Kategória szerinti sorszám": "107",
                                    "Raktár szerinti sorszám": "8",
                                    "Termékkód": "07080311T",
                                    "Termék neve": "Pixiron  UNI",
                                    "Kategória": "118",
                                    "Raktár": "8",
                                    "Listaár": "276"
                                },
                                {
                                    "Listaár szerinti sorszám": "84",
                                    "Kategória szerinti sorszám": "107",
                                    "Raktár szerinti sorszám": "8",
                                    "Termékkód": "07080314T",
                                    "Termék neve": "Pixiron Handy fém",
                                    "Kategória": "118",
                                    "Raktár": "8",
                                    "Listaár": "133"
                                },
                                {
                                    "Listaár szerinti sorszám": "84",
                                    "Kategória szerinti sorszám": "101",
                                    "Raktár szerinti sorszám": "8",
                                    "Termékkód": "06050301T",
                                    "Termék neve": "Olló gyerek ",
                                    "Kategória": "111",
                                    "Raktár": "8",
                                    "Listaár": "133"
                                },
                                {
                                    "Listaár szerinti sorszám": "45",
                                    "Kategória szerinti sorszám": "102",
                                    "Raktár szerinti sorszám": "8",
                                    "Termékkód": "01010304T",
                                    "Termék neve": "Öntapadós hologramos papír A/4",
                                    "Kategória": "112",
                                    "Raktár": "8",
                                    "Listaár": "59"
                                },
                                {
                                    "Listaár szerinti sorszám": "16",
                                    "Kategória szerinti sorszám": "103",
                                    "Raktár szerinti sorszám": "8",
                                    "Termékkód": "05010306T",
                                    "Termék neve": "Papízsebkendő,10db Szindy",
                                    "Kategória": "114",
                                    "Raktár": "8",
                                    "Listaár": "20"
                                },
                                {
                                    "Listaár szerinti sorszám": "13",
                                    "Kategória szerinti sorszám": "104",
                                    "Raktár szerinti sorszám": "8",
                                    "Termékkód": "01040307T",
                                    "Termék neve": "Pausz papír A/4",
                                    "Kategória": "115",
                                    "Raktár": "8",
                                    "Listaár": "15"
                                },
                                {
                                    "Listaár szerinti sorszám": "29",
                                    "Kategória szerinti sorszám": "75",
                                    "Raktár szerinti sorszám": "8",
                                    "Termékkód": "01080513T",
                                    "Termék neve": "Selyemfényű karton A/4",
                                    "Kategória": "83",
                                    "Raktár": "8",
                                    "Listaár": "38"
                                },
                                {
                                    "Listaár szerinti sorszám": "76",
                                    "Kategória szerinti sorszám": "77",
                                    "Raktár szerinti sorszám": "8",
                                    "Termékkód": "04030242T",
                                    "Termék neve": "Képeslap WD +boríték",
                                    "Kategória": "85",
                                    "Raktár": "8",
                                    "Listaár": "118"
                                },
                                {
                                    "Listaár szerinti sorszám": "165",
                                    "Kategória szerinti sorszám": "71",
                                    "Raktár szerinti sorszám": "8",
                                    "Termékkód": "06040400T",
                                    "Termék neve": "Tornazsák",
                                    "Kategória": "78",
                                    "Raktár": "8",
                                    "Listaár": "511"
                                },
                                {
                                    "Listaár szerinti sorszám": "71",
                                    "Kategória szerinti sorszám": "74",
                                    "Raktár szerinti sorszám": "8",
                                    "Termékkód": "02080226T",
                                    "Termék neve": "Kapocskiszedő",
                                    "Kategória": "82",
                                    "Raktár": "8",
                                    "Listaár": "106"
                                },
                                {
                                    "Listaár szerinti sorszám": "28",
                                    "Kategória szerinti sorszám": "71",
                                    "Raktár szerinti sorszám": "8",
                                    "Termékkód": "07050463T",
                                    "Termék neve": "Ceruzafogó",
                                    "Kategória": "78",
                                    "Raktár": "8",
                                    "Listaár": "36"
                                },
                                {
                                    "Listaár szerinti sorszám": "28",
                                    "Kategória szerinti sorszám": "71",
                                    "Raktár szerinti sorszám": "8",
                                    "Termékkód": "06010365T",
                                    "Termék neve": "Számegyenes",
                                    "Kategória": "78",
                                    "Raktár": "8",
                                    "Listaár": "36"
                                },
                                {
                                    "Listaár szerinti sorszám": "34",
                                    "Kategória szerinti sorszám": "77",
                                    "Raktár szerinti sorszám": "8",
                                    "Termékkód": "04030241T",
                                    "Termék neve": "Képeslap virágos +boríték",
                                    "Kategória": "85",
                                    "Raktár": "8",
                                    "Listaár": "44"
                                },
                                {
                                    "Listaár szerinti sorszám": "40",
                                    "Kategória szerinti sorszám": "77",
                                    "Raktár szerinti sorszám": "8",
                                    "Termékkód": "04110232T",
                                    "Termék neve": "Képeslap humoros kaparós",
                                    "Kategória": "85",
                                    "Raktár": "8",
                                    "Listaár": "51"
                                },
                                {
                                    "Listaár szerinti sorszám": "23",
                                    "Kategória szerinti sorszám": "80",
                                    "Raktár szerinti sorszám": "8",
                                    "Termékkód": "06040247T",
                                    "Termék neve": "Körzőhegy grafit",
                                    "Kategória": "89",
                                    "Raktár": "8",
                                    "Listaár": "30"
                                },
                                {
                                    "Listaár szerinti sorszám": "3",
                                    "Kategória szerinti sorszám": "81",
                                    "Raktár szerinti sorszám": "8",
                                    "Termékkód": "01090501T",
                                    "Termék neve": "Kreatív A/4 300g ",
                                    "Kategória": "90",
                                    "Raktár": "8",
                                    "Listaár": "4"
                                },
                                {
                                    "Listaár szerinti sorszám": "88",
                                    "Kategória szerinti sorszám": "82",
                                    "Raktár szerinti sorszám": "8",
                                    "Termékkód": "04050251T",
                                    "Termék neve": "Kulcstartó billiárd golyós",
                                    "Kategória": "91",
                                    "Raktár": "8",
                                    "Listaár": "148"
                                },
                                {
                                    "Listaár szerinti sorszám": "60",
                                    "Kategória szerinti sorszám": "83",
                                    "Raktár szerinti sorszám": "8",
                                    "Termékkód": "04040387T",
                                    "Termék neve": "Tenisz labda",
                                    "Kategória": "92",
                                    "Raktár": "8",
                                    "Listaár": "81"
                                },
                                {
                                    "Listaár szerinti sorszám": "75",
                                    "Kategória szerinti sorszám": "82",
                                    "Raktár szerinti sorszám": "8",
                                    "Termékkód": "04050250T",
                                    "Termék neve": "Kulcstartó autós",
                                    "Kategória": "91",
                                    "Raktár": "8",
                                    "Listaár": "115"
                                },
                                {
                                    "Listaár szerinti sorszám": "70",
                                    "Kategória szerinti sorszám": "82",
                                    "Raktár szerinti sorszám": "8",
                                    "Termékkód": "04050253T",
                                    "Termék neve": "Kulcstartó figurás",
                                    "Kategória": "91",
                                    "Raktár": "8",
                                    "Listaár": "103"
                                },
                                {
                                    "Listaár szerinti sorszám": "56",
                                    "Kategória szerinti sorszám": "37",
                                    "Raktár szerinti sorszám": "8",
                                    "Termékkód": "07030104T",
                                    "Termék neve": "Filctoll vastag ARTIP",
                                    "Kategória": "41",
                                    "Raktár": "8",
                                    "Listaár": "76"
                                },
                                {
                                    "Listaár szerinti sorszám": "41",
                                    "Kategória szerinti sorszám": "37",
                                    "Raktár szerinti sorszám": "8",
                                    "Termékkód": "07030103T",
                                    "Termék neve": "Filctoll TINTEN PEN",
                                    "Kategória": "41",
                                    "Raktár": "8",
                                    "Listaár": "53"
                                },
                                {
                                    "Listaár szerinti sorszám": "20",
                                    "Kategória szerinti sorszám": "37",
                                    "Raktár szerinti sorszám": "8",
                                    "Termékkód": "07040097T",
                                    "Termék neve": "Filctoll ",
                                    "Kategória": "41",
                                    "Raktár": "8",
                                    "Listaár": "26"
                                },
                                {
                                    "Listaár szerinti sorszám": "34",
                                    "Kategória szerinti sorszám": "39",
                                    "Raktár szerinti sorszám": "8",
                                    "Termékkód": "02040508T",
                                    "Termék neve": "Fólia tasakos A4100 mik.",
                                    "Kategória": "43",
                                    "Raktár": "8",
                                    "Listaár": "44"
                                },
                                {
                                    "Listaár szerinti sorszám": "31",
                                    "Kategória szerinti sorszám": "39",
                                    "Raktár szerinti sorszám": "8",
                                    "Termékkód": "02040507T",
                                    "Termék neve": "Fólia tasakos A4 80 mik.",
                                    "Kategória": "43",
                                    "Raktár": "8",
                                    "Listaár": "40"
                                },
                                {
                                    "Listaár szerinti sorszám": "26",
                                    "Kategória szerinti sorszám": "41",
                                    "Raktár szerinti sorszám": "8",
                                    "Termékkód": "06010113T",
                                    "Termék neve": "Füzet 31-32 szótár",
                                    "Kategória": "45",
                                    "Raktár": "8",
                                    "Listaár": "34"
                                },
                                {
                                    "Listaár szerinti sorszám": "23",
                                    "Kategória szerinti sorszám": "44",
                                    "Raktár szerinti sorszám": "8",
                                    "Termékkód": "02040145T",
                                    "Termék neve": "Gemkapocs 28 mm",
                                    "Kategória": "48",
                                    "Raktár": "8",
                                    "Listaár": "30"
                                },
                                {
                                    "Listaár szerinti sorszám": "156",
                                    "Kategória szerinti sorszám": "37",
                                    "Raktár szerinti sorszám": "8",
                                    "Termékkód": "07040257T",
                                    "Termék neve": "Lakk filc Edding 750",
                                    "Kategória": "41",
                                    "Raktár": "8",
                                    "Listaár": "434"
                                },
                                {
                                    "Listaár szerinti sorszám": "86",
                                    "Kategória szerinti sorszám": "41",
                                    "Raktár szerinti sorszám": "8",
                                    "Termékkód": "06040356T",
                                    "Termék neve": "Sp.Füzet A/4  70es",
                                    "Kategória": "45",
                                    "Raktár": "8",
                                    "Listaár": "144"
                                },
                                {
                                    "Listaár szerinti sorszám": "89",
                                    "Kategória szerinti sorszám": "41",
                                    "Raktár szerinti sorszám": "8",
                                    "Termékkód": "06040355T",
                                    "Termék neve": "Sp.Füzet A/4 70-as",
                                    "Kategória": "45",
                                    "Raktár": "8",
                                    "Listaár": "155"
                                },
                                {
                                    "Listaár szerinti sorszám": "160",
                                    "Kategória szerinti sorszám": "48",
                                    "Raktár szerinti sorszám": "8",
                                    "Termékkód": "07040166T",
                                    "Termék neve": "Golyóstoll Zebra 301",
                                    "Kategória": "52",
                                    "Raktár": "8",
                                    "Listaár": "455"
                                },
                                {
                                    "Listaár szerinti sorszám": "103",
                                    "Kategória szerinti sorszám": "48",
                                    "Raktár szerinti sorszám": "8",
                                    "Termékkód": "07040168T",
                                    "Termék neve": "Golyóstoll Zebra new hard",
                                    "Kategória": "52",
                                    "Raktár": "8",
                                    "Listaár": "189"
                                },
                                {
                                    "Listaár szerinti sorszám": "126",
                                    "Kategória szerinti sorszám": "48",
                                    "Raktár szerinti sorszám": "8",
                                    "Termékkód": "07080467T",
                                    "Termék neve": "Golyóstoll kétfunkciós ICO",
                                    "Kategória": "52",
                                    "Raktár": "8",
                                    "Listaár": "273"
                                },
                                {
                                    "Listaár szerinti sorszám": "34",
                                    "Kategória szerinti sorszám": "45",
                                    "Raktár szerinti sorszám": "8",
                                    "Termékkód": "02080450T",
                                    "Termék neve": "Gémkapocs 28-as színes",
                                    "Kategória": "49",
                                    "Raktár": "8",
                                    "Listaár": "44"
                                },
                                {
                                    "Listaár szerinti sorszám": "6",
                                    "Kategória szerinti sorszám": "47",
                                    "Raktár szerinti sorszám": "8",
                                    "Termékkód": "02040147T",
                                    "Termék neve": "Genotherm lefűzhető A/5",
                                    "Kategória": "51",
                                    "Raktár": "8",
                                    "Listaár": "8"
                                },
                                {
                                    "Listaár szerinti sorszám": "65",
                                    "Kategória szerinti sorszám": "48",
                                    "Raktár szerinti sorszám": "8",
                                    "Termékkód": "07040169T",
                                    "Termék neve": "Golyóstoll Zodiák",
                                    "Kategória": "52",
                                    "Raktár": "8",
                                    "Listaár": "94"
                                },
                                {
                                    "Listaár szerinti sorszám": "32",
                                    "Kategória szerinti sorszám": "48",
                                    "Raktár szerinti sorszám": "8",
                                    "Termékkód": "07080153T",
                                    "Termék neve": "Golyóstoll illatos ICO",
                                    "Kategória": "52",
                                    "Raktár": "8",
                                    "Listaár": "41"
                                },
                                {
                                    "Listaár szerinti sorszám": "148",
                                    "Kategória szerinti sorszám": "48",
                                    "Raktár szerinti sorszám": "8",
                                    "Termékkód": "07080469T",
                                    "Termék neve": "Golyóstoll UNIBALL 07",
                                    "Kategória": "52",
                                    "Raktár": "8",
                                    "Listaár": "364"
                                },
                                {
                                    "Listaár szerinti sorszám": "17",
                                    "Kategória szerinti sorszám": "48",
                                    "Raktár szerinti sorszám": "8",
                                    "Termékkód": "07080156T",
                                    "Termék neve": "Golyóstoll kupakos piros",
                                    "Kategória": "52",
                                    "Raktár": "8",
                                    "Listaár": "23"
                                },
                                {
                                    "Listaár szerinti sorszám": "48",
                                    "Kategória szerinti sorszám": "48",
                                    "Raktár szerinti sorszám": "8",
                                    "Termékkód": "07080159T",
                                    "Termék neve": "Golyóstoll Pax tip.",
                                    "Kategória": "52",
                                    "Raktár": "8",
                                    "Listaár": "63"
                                },
                                {
                                    "Listaár szerinti sorszám": "33",
                                    "Kategória szerinti sorszám": "71",
                                    "Raktár szerinti sorszám": "8",
                                    "Termékkód": "06010373T",
                                    "Termék neve": "Színes papír I.II-IV.V-VIII-ig",
                                    "Kategória": "78",
                                    "Raktár": "8",
                                    "Listaár": "43"
                                },
                                {
                                    "Listaár szerinti sorszám": "35",
                                    "Kategória szerinti sorszám": "71",
                                    "Raktár szerinti sorszám": "8",
                                    "Termékkód": "06010374T",
                                    "Termék neve": "Szorzótábla műanyag",
                                    "Kategória": "78",
                                    "Raktár": "8",
                                    "Listaár": "45"
                                },
                                {
                                    "Listaár szerinti sorszám": "112",
                                    "Kategória szerinti sorszám": "67",
                                    "Raktár szerinti sorszám": "8",
                                    "Termékkód": "02080431T",
                                    "Termék neve": "Álló irattartó",
                                    "Kategória": "73",
                                    "Raktár": "8",
                                    "Listaár": "214"
                                },
                                {
                                    "Listaár szerinti sorszám": "22",
                                    "Kategória szerinti sorszám": "69",
                                    "Raktár szerinti sorszám": "8",
                                    "Termékkód": "06040212T",
                                    "Termék neve": "Írólap 10-50 ffam.",
                                    "Kategória": "75",
                                    "Raktár": "8",
                                    "Listaár": "29"
                                },
                                {
                                    "Listaár szerinti sorszám": "26",
                                    "Kategória szerinti sorszám": "69",
                                    "Raktár szerinti sorszám": "8",
                                    "Termékkód": "06040213T",
                                    "Termék neve": "Írólap 20-50 ",
                                    "Kategória": "75",
                                    "Raktár": "8",
                                    "Listaár": "34"
                                },
                                {
                                    "Listaár szerinti sorszám": "94",
                                    "Kategória szerinti sorszám": "62",
                                    "Raktár szerinti sorszám": "8",
                                    "Termékkód": "04050204T",
                                    "Termék neve": "Hűtőmágnes WD",
                                    "Kategória": "67",
                                    "Raktár": "8",
                                    "Listaár": "169"
                                },
                                {
                                    "Listaár szerinti sorszám": "186",
                                    "Kategória szerinti sorszám": "61",
                                    "Raktár szerinti sorszám": "8",
                                    "Termékkód": "02040194T",
                                    "Termék neve": "Hibajav.roll.Pritt 4,2mm",
                                    "Kategória": "66",
                                    "Raktár": "8",
                                    "Listaár": "794"
                                },
                                {
                                    "Listaár szerinti sorszám": "15",
                                    "Kategória szerinti sorszám": "64",
                                    "Raktár szerinti sorszám": "8",
                                    "Termékkód": "02040208T",
                                    "Termék neve": "Iratgyűjtő fehér",
                                    "Kategória": "70",
                                    "Raktár": "8",
                                    "Listaár": "19"
                                },
                                {
                                    "Listaár szerinti sorszám": "84",
                                    "Kategória szerinti sorszám": "64",
                                    "Raktár szerinti sorszám": "8",
                                    "Termékkód": "02040025T",
                                    "Termék neve": "Álló irattartó karton",
                                    "Kategória": "70",
                                    "Raktár": "8",
                                    "Listaár": "133"
                                },
                                {
                                    "Listaár szerinti sorszám": "115",
                                    "Kategória szerinti sorszám": "55",
                                    "Raktár szerinti sorszám": "8",
                                    "Termékkód": "06040180T",
                                    "Termék neve": "Gyurma színes natúr",
                                    "Kategória": "59",
                                    "Raktár": "8",
                                    "Listaár": "228"
                                },
                                {
                                    "Listaár szerinti sorszám": "27",
                                    "Kategória szerinti sorszám": "54",
                                    "Raktár szerinti sorszám": "8",
                                    "Termékkód": "02040178T",
                                    "Termék neve": "Gyorsfűző műa.",
                                    "Kategória": "58",
                                    "Raktár": "8",
                                    "Listaár": "35"
                                },
                                {
                                    "Listaár szerinti sorszám": "189",
                                    "Kategória szerinti sorszám": "59",
                                    "Raktár szerinti sorszám": "8",
                                    "Termékkód": "06080188T",
                                    "Termék neve": "Hegyező gép",
                                    "Kategória": "64",
                                    "Raktár": "8",
                                    "Listaár": "875"
                                },
                                {
                                    "Listaár szerinti sorszám": "51",
                                    "Kategória szerinti sorszám": "57",
                                    "Raktár szerinti sorszám": "8",
                                    "Termékkód": "04050187T",
                                    "Termék neve": "Hajgumi macis",
                                    "Kategória": "61",
                                    "Raktár": "8",
                                    "Listaár": "66"
                                },
                                {
                                    "Listaár szerinti sorszám": "23",
                                    "Kategória szerinti sorszám": "59",
                                    "Raktár szerinti sorszám": "8",
                                    "Termékkód": "06080191T",
                                    "Termék neve": "Hegyező tartályos egyes",
                                    "Kategória": "64",
                                    "Raktár": "8",
                                    "Listaár": "30"
                                },
                                {
                                    "Listaár szerinti sorszám": "177",
                                    "Kategória szerinti sorszám": "1",
                                    "Raktár szerinti sorszám": "8",
                                    "Termékkód": "08070490T",
                                    "Termék neve": "Szövegszerkesztés",
                                    "Kategória": "4",
                                    "Raktár": "8",
                                    "Listaár": "691"
                                },
                                {
                                    "Listaár szerinti sorszám": "136",
                                    "Kategória szerinti sorszám": "1",
                                    "Raktár szerinti sorszám": "8",
                                    "Termékkód": "08070480T",
                                    "Termék neve": "Fizika 13 éveseknek",
                                    "Kategória": "4",
                                    "Raktár": "8",
                                    "Listaár": "308"
                                },
                                {
                                    "Listaár szerinti sorszám": "144",
                                    "Kategória szerinti sorszám": "1",
                                    "Raktár szerinti sorszám": "8",
                                    "Termékkód": "08070484T",
                                    "Termék neve": "Fogalmazás lépésről lépésre",
                                    "Kategória": "4",
                                    "Raktár": "8",
                                    "Listaár": "345"
                                },
                                {
                                    "Listaár szerinti sorszám": "188",
                                    "Kategória szerinti sorszám": "1",
                                    "Raktár szerinti sorszám": "8",
                                    "Termékkód": "08070489T",
                                    "Termék neve": "RAMba zárt világ",
                                    "Kategória": "4",
                                    "Raktár": "8",
                                    "Listaár": "868"
                                },
                                {
                                    "Listaár szerinti sorszám": "192",
                                    "Kategória szerinti sorszám": "1",
                                    "Raktár szerinti sorszám": "8",
                                    "Termékkód": "08070472T",
                                    "Termék neve": "A föld amelyen élünk - Európa földrajza",
                                    "Kategória": "4",
                                    "Raktár": "8",
                                    "Listaár": "1089"
                                },
                                {
                                    "Listaár szerinti sorszám": "60",
                                    "Kategória szerinti sorszám": "3",
                                    "Raktár szerinti sorszám": "8",
                                    "Termékkód": "03080014T",
                                    "Termék neve": "Ajándék csom. 70x50 metál",
                                    "Kategória": "6",
                                    "Raktár": "8",
                                    "Listaár": "81"
                                },
                                {
                                    "Listaár szerinti sorszám": "112",
                                    "Kategória szerinti sorszám": "1",
                                    "Raktár szerinti sorszám": "8",
                                    "Termékkód": "08070491T",
                                    "Termék neve": "Szám.tech. kicsiknek",
                                    "Kategória": "4",
                                    "Raktár": "8",
                                    "Listaár": "214"
                                },
                                {
                                    "Listaár szerinti sorszám": "31",
                                    "Kategória szerinti sorszám": "3",
                                    "Raktár szerinti sorszám": "8",
                                    "Termékkód": "03050459T",
                                    "Termék neve": "Talpas tasak",
                                    "Kategória": "6",
                                    "Raktár": "8",
                                    "Listaár": "40"
                                },
                                {
                                    "Listaár szerinti sorszám": "9",
                                    "Kategória szerinti sorszám": "3",
                                    "Raktár szerinti sorszám": "8",
                                    "Termékkód": "04030285T",
                                    "Termék neve": "Mikulás zacskó",
                                    "Kategória": "6",
                                    "Raktár": "8",
                                    "Listaár": "11"
                                },
                                {
                                    "Listaár szerinti sorszám": "20",
                                    "Kategória szerinti sorszám": "3",
                                    "Raktár szerinti sorszám": "8",
                                    "Termékkód": "03080006T",
                                    "Termék neve": "Ajándék cs. tasak mintás kicsi",
                                    "Kategória": "6",
                                    "Raktár": "8",
                                    "Listaár": "26"
                                },
                                {
                                    "Listaár szerinti sorszám": "88",
                                    "Kategória szerinti sorszám": "3",
                                    "Raktár szerinti sorszám": "8",
                                    "Termékkód": "03080009T",
                                    "Termék neve": "Ajándék csom. 100x70 metál",
                                    "Kategória": "6",
                                    "Raktár": "8",
                                    "Listaár": "148"
                                },
                                {
                                    "Listaár szerinti sorszám": "81",
                                    "Kategória szerinti sorszám": "3",
                                    "Raktár szerinti sorszám": "8",
                                    "Termékkód": "03080012T",
                                    "Termék neve": "Ajándék csom. 200x70",
                                    "Kategória": "6",
                                    "Raktár": "8",
                                    "Listaár": "125"
                                },
                                {
                                    "Listaár szerinti sorszám": "74",
                                    "Kategória szerinti sorszám": "3",
                                    "Raktár szerinti sorszám": "8",
                                    "Termékkód": "03080439T",
                                    "Termék neve": "Italtartó doboz",
                                    "Kategória": "6",
                                    "Raktár": "8",
                                    "Listaár": "114"
                                },
                                {
                                    "Listaár szerinti sorszám": "23",
                                    "Kategória szerinti sorszám": "14",
                                    "Raktár szerinti sorszám": "8",
                                    "Termékkód": "02080069T",
                                    "Termék neve": "CD tartó tok",
                                    "Kategória": "17",
                                    "Raktár": "8",
                                    "Listaár": "30"
                                },
                                {
                                    "Listaár szerinti sorszám": "54",
                                    "Kategória szerinti sorszám": "15",
                                    "Raktár szerinti sorszám": "8",
                                    "Termékkód": "05050046T",
                                    "Termék neve": "Celofán 50 db-os",
                                    "Kategória": "18",
                                    "Raktár": "8",
                                    "Listaár": "73"
                                },
                                {
                                    "Listaár szerinti sorszám": "36",
                                    "Kategória szerinti sorszám": "15",
                                    "Raktár szerinti sorszám": "8",
                                    "Termékkód": "05050045T",
                                    "Termék neve": "Celofán",
                                    "Kategória": "18",
                                    "Raktár": "8",
                                    "Listaár": "46"
                                },
                                {
                                    "Listaár szerinti sorszám": "84",
                                    "Kategória szerinti sorszám": "10",
                                    "Raktár szerinti sorszám": "8",
                                    "Termékkód": "02020032T",
                                    "Termék neve": "Beírókönyv A5 ",
                                    "Kategória": "13",
                                    "Raktár": "8",
                                    "Listaár": "133"
                                },
                                {
                                    "Listaár szerinti sorszám": "14",
                                    "Kategória szerinti sorszám": "13",
                                    "Raktár szerinti sorszám": "8",
                                    "Termékkód": "02050461T",
                                    "Termék neve": "Boríték B/4-es",
                                    "Kategória": "16",
                                    "Raktár": "8",
                                    "Listaár": "18"
                                },
                                {
                                    "Listaár szerinti sorszám": "130",
                                    "Kategória szerinti sorszám": "3",
                                    "Raktár szerinti sorszám": "8",
                                    "Termékkód": "03080005T",
                                    "Termék neve": "Ajándék cs. tasak virágos nagy",
                                    "Kategória": "6",
                                    "Raktár": "8",
                                    "Listaár": "290"
                                },
                                {
                                    "Listaár szerinti sorszám": "86",
                                    "Kategória szerinti sorszám": "4",
                                    "Raktár szerinti sorszám": "8",
                                    "Termékkód": "04050023T",
                                    "Termék neve": "Álarc fejdísz",
                                    "Kategória": "7",
                                    "Raktár": "8",
                                    "Listaár": "144"
                                },
                                {
                                    "Listaár szerinti sorszám": "62",
                                    "Kategória szerinti sorszám": "4",
                                    "Raktár szerinti sorszám": "8",
                                    "Termékkód": "04050022T",
                                    "Termék neve": "Álarc",
                                    "Kategória": "7",
                                    "Raktár": "8",
                                    "Listaár": "89"
                                },
                                {
                                    "Listaár szerinti sorszám": "184",
                                    "Kategória szerinti sorszám": "11",
                                    "Raktár szerinti sorszám": "8",
                                    "Termékkód": "02060038T",
                                    "Termék neve": "Bélyegző IDEAL 50",
                                    "Kategória": "14",
                                    "Raktár": "8",
                                    "Listaár": "780"
                                },
                                {
                                    "Listaár szerinti sorszám": "75",
                                    "Kategória szerinti sorszám": "8",
                                    "Raktár szerinti sorszám": "8",
                                    "Termékkód": "02020029T",
                                    "Termék neve": "Átírótömb A/6",
                                    "Kategória": "11",
                                    "Raktár": "8",
                                    "Listaár": "115"
                                },
                                {
                                    "Listaár szerinti sorszám": "17",
                                    "Kategória szerinti sorszám": "21",
                                    "Raktár szerinti sorszám": "8",
                                    "Termékkód": "04030287T",
                                    "Termék neve": "Műanyag foszforeszkáló állat",
                                    "Kategória": "25",
                                    "Raktár": "8",
                                    "Listaár": "23"
                                },
                                {
                                    "Listaár szerinti sorszám": "73",
                                    "Kategória szerinti sorszám": "19",
                                    "Raktár szerinti sorszám": "8",
                                    "Termékkód": "03080016T",
                                    "Termék neve": "házt.csom.  5 ív",
                                    "Kategória": "22",
                                    "Raktár": "8",
                                    "Listaár": "110"
                                },
                                {
                                    "Listaár szerinti sorszám": "9",
                                    "Kategória szerinti sorszám": "16",
                                    "Raktár szerinti sorszám": "8",
                                    "Termékkód": "07080065T",
                                    "Termék neve": "Ceruza kínai",
                                    "Kategória": "19",
                                    "Raktár": "8",
                                    "Listaár": "11"
                                },
                                {
                                    "Listaár szerinti sorszám": "31",
                                    "Kategória szerinti sorszám": "26",
                                    "Raktár szerinti sorszám": "8",
                                    "Termékkód": "06010082T",
                                    "Termék neve": "Ecset Centrum 10,11,12",
                                    "Kategória": "30",
                                    "Raktár": "8",
                                    "Listaár": "40"
                                },
                                {
                                    "Listaár szerinti sorszám": "28",
                                    "Kategória szerinti sorszám": "26",
                                    "Raktár szerinti sorszám": "8",
                                    "Termékkód": "06010086T",
                                    "Termék neve": "Ecset Nebulo 4-es",
                                    "Kategória": "30",
                                    "Raktár": "8",
                                    "Listaár": "36"
                                },
                                {
                                    "Listaár szerinti sorszám": "34",
                                    "Kategória szerinti sorszám": "24",
                                    "Raktár szerinti sorszám": "8",
                                    "Termékkód": "03050077T",
                                    "Termék neve": "Diszkötöző szalag arany",
                                    "Kategória": "28",
                                    "Raktár": "8",
                                    "Listaár": "44"
                                },
                                {
                                    "Listaár szerinti sorszám": "20",
                                    "Kategória szerinti sorszám": "24",
                                    "Raktár szerinti sorszám": "8",
                                    "Termékkód": "03050076T",
                                    "Termék neve": "Díszkötöző szalag metál nagy",
                                    "Kategória": "28",
                                    "Raktár": "8",
                                    "Listaár": "26"
                                },
                                {
                                    "Listaár szerinti sorszám": "13",
                                    "Kategória szerinti sorszám": "24",
                                    "Raktár szerinti sorszám": "8",
                                    "Termékkód": "03050078T",
                                    "Termék neve": "Díszkötöző szalag metál kicsi",
                                    "Kategória": "28",
                                    "Raktár": "8",
                                    "Listaár": "15"
                                },
                                {
                                    "Listaár szerinti sorszám": "13",
                                    "Kategória szerinti sorszám": "24",
                                    "Raktár szerinti sorszám": "8",
                                    "Termékkód": "03050079T",
                                    "Termék neve": "Díszkötöző szalag vékony",
                                    "Kategória": "28",
                                    "Raktár": "8",
                                    "Listaár": "15"
                                },
                                {
                                    "Listaár szerinti sorszám": "98",
                                    "Kategória szerinti sorszám": "26",
                                    "Raktár szerinti sorszám": "8",
                                    "Termékkód": "06080428T",
                                    "Termék neve": "Ecsetkészlet",
                                    "Kategória": "30",
                                    "Raktár": "8",
                                    "Listaár": "180"
                                },
                                {
                                    "Listaár szerinti sorszám": "85",
                                    "Kategória szerinti sorszám": "37",
                                    "Raktár szerinti sorszám": "9",
                                    "Termékkód": "07040101T",
                                    "Termék neve": "Filctoll permanent vastag",
                                    "Kategória": "41",
                                    "Raktár": "9",
                                    "Listaár": "140"
                                },
                                {
                                    "Listaár szerinti sorszám": "180",
                                    "Kategória szerinti sorszám": "32",
                                    "Raktár szerinti sorszám": "9",
                                    "Termékkód": "01100095T",
                                    "Termék neve": "Fénymásoló papír GetCopy",
                                    "Kategória": "36",
                                    "Raktár": "9",
                                    "Listaár": "728"
                                },
                                {
                                    "Listaár szerinti sorszám": "187",
                                    "Kategória szerinti sorszám": "32",
                                    "Raktár szerinti sorszám": "9",
                                    "Termékkód": "01100094T",
                                    "Termék neve": "Fénymásoló papír DataCopy",
                                    "Kategória": "36",
                                    "Raktár": "9",
                                    "Listaár": "845"
                                },
                                {
                                    "Listaár szerinti sorszám": "84",
                                    "Kategória szerinti sorszám": "25",
                                    "Raktár szerinti sorszám": "9",
                                    "Termékkód": "02080081T",
                                    "Termék neve": "Dvd",
                                    "Kategória": "29",
                                    "Raktár": "9",
                                    "Listaár": "133"
                                },
                                {
                                    "Listaár szerinti sorszám": "46",
                                    "Kategória szerinti sorszám": "26",
                                    "Raktár szerinti sorszám": "9",
                                    "Termékkód": "06010084T",
                                    "Termék neve": "Ecset Deák 2-es",
                                    "Kategória": "30",
                                    "Raktár": "9",
                                    "Listaár": "60"
                                },
                                {
                                    "Listaár szerinti sorszám": "90",
                                    "Kategória szerinti sorszám": "30",
                                    "Raktár szerinti sorszám": "9",
                                    "Termékkód": "01080093T",
                                    "Termék neve": "Fax papír 15 m",
                                    "Kategória": "34",
                                    "Raktár": "9",
                                    "Listaár": "161"
                                },
                                {
                                    "Listaár szerinti sorszám": "31",
                                    "Kategória szerinti sorszám": "16",
                                    "Raktár szerinti sorszám": "9",
                                    "Termékkód": "07040049T",
                                    "Termék neve": "Ceruza Conté zöld",
                                    "Kategória": "19",
                                    "Raktár": "9",
                                    "Listaár": "40"
                                },
                                {
                                    "Listaár szerinti sorszám": "16",
                                    "Kategória szerinti sorszám": "17",
                                    "Raktár szerinti sorszám": "9",
                                    "Termékkód": "04110068T",
                                    "Termék neve": "Címke egyszínű",
                                    "Kategória": "20",
                                    "Raktár": "9",
                                    "Listaár": "20"
                                },
                                {
                                    "Listaár szerinti sorszám": "12",
                                    "Kategória szerinti sorszám": "18",
                                    "Raktár szerinti sorszám": "9",
                                    "Termékkód": "01090500T",
                                    "Termék neve": "Color Copy A4 200 g",
                                    "Kategória": "21",
                                    "Raktár": "9",
                                    "Listaár": "14"
                                },
                                {
                                    "Listaár szerinti sorszám": "34",
                                    "Kategória szerinti sorszám": "20",
                                    "Raktár szerinti sorszám": "9",
                                    "Termékkód": "03080020T",
                                    "Termék neve": "Ajándék csom. nagy  ",
                                    "Kategória": "24",
                                    "Raktár": "9",
                                    "Listaár": "44"
                                },
                                {
                                    "Listaár szerinti sorszám": "88",
                                    "Kategória szerinti sorszám": "20",
                                    "Raktár szerinti sorszám": "9",
                                    "Termékkód": "03080017T",
                                    "Termék neve": "iskolai csomagoló papír",
                                    "Kategória": "24",
                                    "Raktár": "9",
                                    "Listaár": "148"
                                },
                                {
                                    "Listaár szerinti sorszám": "47",
                                    "Kategória szerinti sorszám": "23",
                                    "Raktár szerinti sorszám": "9",
                                    "Termékkód": "04050073T",
                                    "Termék neve": "Díszdoboz kar.",
                                    "Kategória": "27",
                                    "Raktár": "9",
                                    "Listaár": "61"
                                },
                                {
                                    "Listaár szerinti sorszám": "7",
                                    "Kategória szerinti sorszám": "22",
                                    "Raktár szerinti sorszám": "9",
                                    "Termékkód": "01100072T",
                                    "Termék neve": "Dipa A/4 keretezett",
                                    "Kategória": "26",
                                    "Raktár": "9",
                                    "Listaár": "9"
                                },
                                {
                                    "Listaár szerinti sorszám": "71",
                                    "Kategória szerinti sorszám": "7",
                                    "Raktár szerinti sorszám": "9",
                                    "Termékkód": "02010028T",
                                    "Termék neve": "Árazószalag ",
                                    "Kategória": "10",
                                    "Raktár": "9",
                                    "Listaár": "106"
                                },
                                {
                                    "Listaár szerinti sorszám": "76",
                                    "Kategória szerinti sorszám": "6",
                                    "Raktár szerinti sorszám": "9",
                                    "Termékkód": "05010026T",
                                    "Termék neve": "Alufólia 10 m-es",
                                    "Kategória": "9",
                                    "Raktár": "9",
                                    "Listaár": "118"
                                },
                                {
                                    "Listaár szerinti sorszám": "5",
                                    "Kategória szerinti sorszám": "13",
                                    "Raktár szerinti sorszám": "9",
                                    "Termékkód": "02030041T",
                                    "Termék neve": "Boríték LC 5",
                                    "Kategória": "16",
                                    "Raktár": "9",
                                    "Listaár": "6"
                                },
                                {
                                    "Listaár szerinti sorszám": "134",
                                    "Kategória szerinti sorszám": "12",
                                    "Raktár szerinti sorszám": "9",
                                    "Termékkód": "02060034T",
                                    "Termék neve": "Bélyegzőfesték ",
                                    "Kategória": "15",
                                    "Raktár": "9",
                                    "Listaár": "297"
                                },
                                {
                                    "Listaár szerinti sorszám": "34",
                                    "Kategória szerinti sorszám": "16",
                                    "Raktár szerinti sorszám": "9",
                                    "Termékkód": "07040061T",
                                    "Termék neve": "Ceruza stabilo opera",
                                    "Kategória": "19",
                                    "Raktár": "9",
                                    "Listaár": "44"
                                },
                                {
                                    "Listaár szerinti sorszám": "44",
                                    "Kategória szerinti sorszám": "16",
                                    "Raktár szerinti sorszám": "9",
                                    "Termékkód": "07040059T",
                                    "Termék neve": "Ceruza smaragd",
                                    "Kategória": "19",
                                    "Raktár": "9",
                                    "Listaár": "58"
                                },
                                {
                                    "Listaár szerinti sorszám": "45",
                                    "Kategória szerinti sorszám": "16",
                                    "Raktár szerinti sorszám": "9",
                                    "Termékkód": "07040055T",
                                    "Termék neve": "Ceruza piros-kék",
                                    "Kategória": "19",
                                    "Raktár": "9",
                                    "Listaár": "59"
                                },
                                {
                                    "Listaár szerinti sorszám": "109",
                                    "Kategória szerinti sorszám": "3",
                                    "Raktár szerinti sorszám": "9",
                                    "Termékkód": "03080007T",
                                    "Termék neve": "Ajándék cs. tasak mintás nagy",
                                    "Kategória": "6",
                                    "Raktár": "9",
                                    "Listaár": "206"
                                },
                                {
                                    "Listaár szerinti sorszám": "109",
                                    "Kategória szerinti sorszám": "3",
                                    "Raktár szerinti sorszám": "9",
                                    "Termékkód": "03080010T",
                                    "Termék neve": "Ajándék csom. 150x70",
                                    "Kategória": "6",
                                    "Raktár": "9",
                                    "Listaár": "206"
                                },
                                {
                                    "Listaár szerinti sorszám": "94",
                                    "Kategória szerinti sorszám": "3",
                                    "Raktár szerinti sorszám": "9",
                                    "Termékkód": "03080015T",
                                    "Termék neve": "Ajándék csom. gyűrt",
                                    "Kategória": "6",
                                    "Raktár": "9",
                                    "Listaár": "169"
                                },
                                {
                                    "Listaár szerinti sorszám": "181",
                                    "Kategória szerinti sorszám": "1",
                                    "Raktár szerinti sorszám": "9",
                                    "Termékkód": "08070492T",
                                    "Termék neve": "Informatika",
                                    "Kategória": "4",
                                    "Raktár": "9",
                                    "Listaár": "735"
                                },
                                {
                                    "Listaár szerinti sorszám": "54",
                                    "Kategória szerinti sorszám": "2",
                                    "Raktár szerinti sorszám": "9",
                                    "Termékkód": "04110258T",
                                    "Termék neve": "Lampion",
                                    "Kategória": "5",
                                    "Raktár": "9",
                                    "Listaár": "73"
                                },
                                {
                                    "Listaár szerinti sorszám": "158",
                                    "Kategória szerinti sorszám": "1",
                                    "Raktár szerinti sorszám": "9",
                                    "Termékkód": "08070495T",
                                    "Termék neve": "Érettségi felv. fel. Biológia",
                                    "Kategória": "4",
                                    "Raktár": "9",
                                    "Listaár": "440"
                                },
                                {
                                    "Listaár szerinti sorszám": "53",
                                    "Kategória szerinti sorszám": "60",
                                    "Raktár szerinti sorszám": "9",
                                    "Termékkód": "06080192T",
                                    "Termék neve": "Hegyző fém 1 lyukú",
                                    "Kategória": "65",
                                    "Raktár": "9",
                                    "Listaár": "70"
                                },
                                {
                                    "Listaár szerinti sorszám": "60",
                                    "Kategória szerinti sorszám": "61",
                                    "Raktár szerinti sorszám": "9",
                                    "Termékkód": "02040197T",
                                    "Termék neve": "Hibajavító lap ",
                                    "Kategória": "66",
                                    "Raktár": "9",
                                    "Listaár": "81"
                                },
                                {
                                    "Listaár szerinti sorszám": "161",
                                    "Kategória szerinti sorszám": "58",
                                    "Raktár szerinti sorszám": "9",
                                    "Termékkód": "02020444T",
                                    "Termék neve": "Határidő napló A/6",
                                    "Kategória": "62",
                                    "Raktár": "9",
                                    "Listaár": "464"
                                },
                                {
                                    "Listaár szerinti sorszám": "180",
                                    "Kategória szerinti sorszám": "58",
                                    "Raktár szerinti sorszám": "9",
                                    "Termékkód": "04020445T",
                                    "Termék neve": "Határidő napló 2010-s",
                                    "Kategória": "62",
                                    "Raktár": "9",
                                    "Listaár": "728"
                                },
                                {
                                    "Listaár szerinti sorszám": "168",
                                    "Kategória szerinti sorszám": "56",
                                    "Raktár szerinti sorszám": "9",
                                    "Termékkód": "06040185T",
                                    "Termék neve": "Gyűrűskönyv",
                                    "Kategória": "60",
                                    "Raktár": "9",
                                    "Listaár": "581"
                                },
                                {
                                    "Listaár szerinti sorszám": "66",
                                    "Kategória szerinti sorszám": "56",
                                    "Raktár szerinti sorszám": "9",
                                    "Termékkód": "06040183T",
                                    "Termék neve": "Gyűrűskönyv bet. A/5",
                                    "Kategória": "60",
                                    "Raktár": "9",
                                    "Listaár": "95"
                                },
                                {
                                    "Listaár szerinti sorszám": "78",
                                    "Kategória szerinti sorszám": "55",
                                    "Raktár szerinti sorszám": "9",
                                    "Termékkód": "06080441T",
                                    "Termék neve": "Gyurmakés",
                                    "Kategória": "59",
                                    "Raktár": "9",
                                    "Listaár": "121"
                                },
                                {
                                    "Listaár szerinti sorszám": "113",
                                    "Kategória szerinti sorszám": "56",
                                    "Raktár szerinti sorszám": "9",
                                    "Termékkód": "06040184T",
                                    "Termék neve": "Gyűrűskönyv betét A/5",
                                    "Kategória": "60",
                                    "Raktár": "9",
                                    "Listaár": "218"
                                },
                                {
                                    "Listaár szerinti sorszám": "121",
                                    "Kategória szerinti sorszám": "65",
                                    "Raktár szerinti sorszám": "9",
                                    "Termékkód": "02040211T",
                                    "Termék neve": "Iratrendező ESSELTE",
                                    "Kategória": "71",
                                    "Raktár": "9",
                                    "Listaár": "243"
                                },
                                {
                                    "Listaár szerinti sorszám": "149",
                                    "Kategória szerinti sorszám": "48",
                                    "Raktár szerinti sorszám": "9",
                                    "Termékkód": "07080151T",
                                    "Termék neve": "Golyóstoll + ceruza Twister 2in1",
                                    "Kategória": "52",
                                    "Raktár": "9",
                                    "Listaár": "390"
                                },
                                {
                                    "Listaár szerinti sorszám": "34",
                                    "Kategória szerinti sorszám": "48",
                                    "Raktár szerinti sorszám": "9",
                                    "Termékkód": "07080161T",
                                    "Termék neve": "Golyóstoll kétszínű",
                                    "Kategória": "52",
                                    "Raktár": "9",
                                    "Listaár": "44"
                                },
                                {
                                    "Listaár szerinti sorszám": "60",
                                    "Kategória szerinti sorszám": "48",
                                    "Raktár szerinti sorszám": "9",
                                    "Termékkód": "07080466T",
                                    "Termék neve": "Golyóstoll Stabiló 308",
                                    "Kategória": "52",
                                    "Raktár": "9",
                                    "Listaár": "81"
                                },
                                {
                                    "Listaár szerinti sorszám": "15",
                                    "Kategória szerinti sorszám": "49",
                                    "Raktár szerinti sorszám": "9",
                                    "Termékkód": "05050170T",
                                    "Termék neve": "Gumigyűrű",
                                    "Kategória": "53",
                                    "Raktár": "9",
                                    "Listaár": "19"
                                },
                                {
                                    "Listaár szerinti sorszám": "113",
                                    "Kategória szerinti sorszám": "48",
                                    "Raktár szerinti sorszám": "9",
                                    "Termékkód": "07040165T",
                                    "Termék neve": "Golyóstoll UNI laknock",
                                    "Kategória": "52",
                                    "Raktár": "9",
                                    "Listaár": "218"
                                },
                                {
                                    "Listaár szerinti sorszám": "48",
                                    "Kategória szerinti sorszám": "47",
                                    "Raktár szerinti sorszám": "9",
                                    "Termékkód": "02040148T",
                                    "Termék neve": "Genotherm lefűzhető A4 10db-os",
                                    "Kategória": "51",
                                    "Raktár": "9",
                                    "Listaár": "63"
                                },
                                {
                                    "Listaár szerinti sorszám": "172",
                                    "Kategória szerinti sorszám": "48",
                                    "Raktár szerinti sorszám": "9",
                                    "Termékkód": "07040167T",
                                    "Termék neve": "Golyóstoll Zebra mini",
                                    "Kategória": "52",
                                    "Raktár": "9",
                                    "Listaár": "655"
                                },
                                {
                                    "Listaár szerinti sorszám": "17",
                                    "Kategória szerinti sorszám": "42",
                                    "Raktár szerinti sorszám": "9",
                                    "Termékkód": "06080120T",
                                    "Termék neve": "Füzetborító öntapadó kicsi",
                                    "Kategória": "46",
                                    "Raktár": "9",
                                    "Listaár": "23"
                                },
                                {
                                    "Listaár szerinti sorszám": "18",
                                    "Kategória szerinti sorszám": "42",
                                    "Raktár szerinti sorszám": "9",
                                    "Termékkód": "06080424T",
                                    "Termék neve": "Füzetborító A/4 mintás",
                                    "Kategória": "46",
                                    "Raktár": "9",
                                    "Listaár": "24"
                                },
                                {
                                    "Listaár szerinti sorszám": "108",
                                    "Kategória szerinti sorszám": "43",
                                    "Raktár szerinti sorszám": "9",
                                    "Termékkód": "06080126T",
                                    "Termék neve": "Füzettartó A/5  ",
                                    "Kategória": "47",
                                    "Raktár": "9",
                                    "Listaár": "203"
                                },
                                {
                                    "Listaár szerinti sorszám": "37",
                                    "Kategória szerinti sorszám": "41",
                                    "Raktár szerinti sorszám": "9",
                                    "Termékkód": "06010115T",
                                    "Termék neve": "Füzet A/5, mintás",
                                    "Kategória": "45",
                                    "Raktár": "9",
                                    "Listaár": "48"
                                },
                                {
                                    "Listaár szerinti sorszám": "57",
                                    "Kategória szerinti sorszám": "41",
                                    "Raktár szerinti sorszám": "9",
                                    "Termékkód": "06010112T",
                                    "Termék neve": "Füzet  A4 mintás",
                                    "Kategória": "45",
                                    "Raktár": "9",
                                    "Listaár": "78"
                                },
                                {
                                    "Listaár szerinti sorszám": "52",
                                    "Kategória szerinti sorszám": "41",
                                    "Raktár szerinti sorszám": "9",
                                    "Termékkód": "06010111T",
                                    "Termék neve": "Füzet  A/4 ",
                                    "Kategória": "45",
                                    "Raktár": "9",
                                    "Listaár": "68"
                                },
                                {
                                    "Listaár szerinti sorszám": "23",
                                    "Kategória szerinti sorszám": "40",
                                    "Raktár szerinti sorszám": "9",
                                    "Termékkód": "01010110T",
                                    "Termék neve": "Fotópapír A/4 fényes",
                                    "Kategória": "44",
                                    "Raktár": "9",
                                    "Listaár": "30"
                                },
                                {
                                    "Listaár szerinti sorszám": "34",
                                    "Kategória szerinti sorszám": "39",
                                    "Raktár szerinti sorszám": "9",
                                    "Termékkód": "02040506T",
                                    "Termék neve": "Fólia tasakos A4 125 mik.",
                                    "Kategória": "43",
                                    "Raktár": "9",
                                    "Listaár": "44"
                                },
                                {
                                    "Listaár szerinti sorszám": "156",
                                    "Kategória szerinti sorszám": "37",
                                    "Raktár szerinti sorszám": "9",
                                    "Termékkód": "07040099T",
                                    "Termék neve": "Filctoll Edding 750",
                                    "Kategória": "41",
                                    "Raktár": "9",
                                    "Listaár": "434"
                                },
                                {
                                    "Listaár szerinti sorszám": "70",
                                    "Kategória szerinti sorszám": "37",
                                    "Raktár szerinti sorszám": "9",
                                    "Termékkód": "07030106T",
                                    "Termék neve": "Filctoll, alkoholosOHP F-M-C",
                                    "Kategória": "41",
                                    "Raktár": "9",
                                    "Listaár": "103"
                                },
                                {
                                    "Listaár szerinti sorszám": "82",
                                    "Kategória szerinti sorszám": "82",
                                    "Raktár szerinti sorszám": "9",
                                    "Termékkód": "04050256T",
                                    "Termék neve": "Kulcstartó nagyítós",
                                    "Kategória": "91",
                                    "Raktár": "9",
                                    "Listaár": "129"
                                },
                                {
                                    "Listaár szerinti sorszám": "182",
                                    "Kategória szerinti sorszám": "86",
                                    "Raktár szerinti sorszám": "9",
                                    "Termékkód": "02080454T",
                                    "Termék neve": "Lyukasztó BOXER",
                                    "Kategória": "95",
                                    "Raktár": "9",
                                    "Listaár": "765"
                                },
                                {
                                    "Listaár szerinti sorszám": "147",
                                    "Kategória szerinti sorszám": "87",
                                    "Raktár szerinti sorszám": "9",
                                    "Termékkód": "04080272T",
                                    "Termék neve": "Mappa PVC villámzáras  képes",
                                    "Kategória": "96",
                                    "Raktár": "9",
                                    "Listaár": "360"
                                },
                                {
                                    "Listaár szerinti sorszám": "100",
                                    "Kategória szerinti sorszám": "87",
                                    "Raktár szerinti sorszám": "9",
                                    "Termékkód": "02080435T",
                                    "Termék neve": "Mappa bemutató",
                                    "Kategória": "96",
                                    "Raktár": "9",
                                    "Listaár": "184"
                                },
                                {
                                    "Listaár szerinti sorszám": "89",
                                    "Kategória szerinti sorszám": "82",
                                    "Raktár szerinti sorszám": "9",
                                    "Termékkód": "04050254T",
                                    "Termék neve": "Kulcstartó intarziás állatos",
                                    "Kategória": "91",
                                    "Raktár": "9",
                                    "Listaár": "155"
                                },
                                {
                                    "Listaár szerinti sorszám": "28",
                                    "Kategória szerinti sorszám": "82",
                                    "Raktár szerinti sorszám": "9",
                                    "Termékkód": "04050255T",
                                    "Termék neve": "Kulcstartó mesefigurás",
                                    "Kategória": "91",
                                    "Raktár": "9",
                                    "Listaár": "36"
                                },
                                {
                                    "Listaár szerinti sorszám": "45",
                                    "Kategória szerinti sorszám": "77",
                                    "Raktár szerinti sorszám": "9",
                                    "Termékkód": "04030238T",
                                    "Termék neve": "Képeslap stancolt",
                                    "Kategória": "85",
                                    "Raktár": "9",
                                    "Listaár": "59"
                                },
                                {
                                    "Listaár szerinti sorszám": "37",
                                    "Kategória szerinti sorszám": "77",
                                    "Raktár szerinti sorszám": "9",
                                    "Termékkód": "04030239T",
                                    "Termék neve": "Képeslap stancolt szív",
                                    "Kategória": "85",
                                    "Raktár": "9",
                                    "Listaár": "48"
                                },
                                {
                                    "Listaár szerinti sorszám": "90",
                                    "Kategória szerinti sorszám": "71",
                                    "Raktár szerinti sorszám": "9",
                                    "Termékkód": "06080427T",
                                    "Termék neve": "Ablakkréta",
                                    "Kategória": "78",
                                    "Raktár": "9",
                                    "Listaár": "161"
                                },
                                {
                                    "Listaár szerinti sorszám": "100",
                                    "Kategória szerinti sorszám": "77",
                                    "Raktár szerinti sorszám": "9",
                                    "Termékkód": "04110228T",
                                    "Termék neve": "Képeslap \"Nászajándék\"",
                                    "Kategória": "85",
                                    "Raktár": "9",
                                    "Listaár": "184"
                                },
                                {
                                    "Listaár szerinti sorszám": "19",
                                    "Kategória szerinti sorszám": "75",
                                    "Raktár szerinti sorszám": "9",
                                    "Termékkód": "01090516T",
                                    "Termék neve": "Színes karton A4",
                                    "Kategória": "83",
                                    "Raktár": "9",
                                    "Listaár": "25"
                                },
                                {
                                    "Listaár szerinti sorszám": "28",
                                    "Kategória szerinti sorszám": "77",
                                    "Raktár szerinti sorszám": "9",
                                    "Termékkód": "04030237T",
                                    "Termék neve": "Képeslap kerek",
                                    "Kategória": "85",
                                    "Raktár": "9",
                                    "Listaár": "36"
                                },
                                {
                                    "Listaár szerinti sorszám": "37",
                                    "Kategória szerinti sorszám": "100",
                                    "Raktár szerinti sorszám": "9",
                                    "Termékkód": "01020299T",
                                    "Termék neve": "Oklevél A/4 egyszínű",
                                    "Kategória": "110",
                                    "Raktár": "9",
                                    "Listaár": "48"
                                },
                                {
                                    "Listaár szerinti sorszám": "42",
                                    "Kategória szerinti sorszám": "100",
                                    "Raktár szerinti sorszám": "9",
                                    "Termékkód": "01020300T",
                                    "Termék neve": "Oklevél A/4 színes",
                                    "Kategória": "110",
                                    "Raktár": "9",
                                    "Listaár": "55"
                                },
                                {
                                    "Listaár szerinti sorszám": "70",
                                    "Kategória szerinti sorszám": "96",
                                    "Raktár szerinti sorszám": "9",
                                    "Termékkód": "02040297T",
                                    "Termék neve": "Notesz sima spirál College",
                                    "Kategória": "106",
                                    "Raktár": "9",
                                    "Listaár": "103"
                                },
                                {
                                    "Listaár szerinti sorszám": "45",
                                    "Kategória szerinti sorszám": "107",
                                    "Raktár szerinti sorszám": "9",
                                    "Termékkód": "07080313T",
                                    "Termék neve": "Pixiron Centrum",
                                    "Kategória": "118",
                                    "Raktár": "9",
                                    "Listaár": "59"
                                },
                                {
                                    "Listaár szerinti sorszám": "60",
                                    "Kategória szerinti sorszám": "106",
                                    "Raktár szerinti sorszám": "9",
                                    "Termékkód": "02040308T",
                                    "Termék neve": "Pénztárgépsz. 2 pl. nem öníró",
                                    "Kategória": "117",
                                    "Raktár": "9",
                                    "Listaár": "81"
                                },
                                {
                                    "Listaár szerinti sorszám": "95",
                                    "Kategória szerinti sorszám": "108",
                                    "Raktár szerinti sorszám": "9",
                                    "Termékkód": "04050320T",
                                    "Termék neve": "Plüss  QX állatok",
                                    "Kategória": "119",
                                    "Raktár": "9",
                                    "Listaár": "173"
                                },
                                {
                                    "Listaár szerinti sorszám": "28",
                                    "Kategória szerinti sorszám": "110",
                                    "Raktár szerinti sorszám": "9",
                                    "Termékkód": "06040327T",
                                    "Termék neve": "Radír Koh-i-nor 40",
                                    "Kategória": "122",
                                    "Raktár": "9",
                                    "Listaár": "36"
                                },
                                {
                                    "Listaár szerinti sorszám": "31",
                                    "Kategória szerinti sorszám": "110",
                                    "Raktár szerinti sorszám": "9",
                                    "Termékkód": "06040325T",
                                    "Termék neve": "Radír gyümölcsös",
                                    "Kategória": "122",
                                    "Raktár": "9",
                                    "Listaár": "40"
                                },
                                {
                                    "Listaár szerinti sorszám": "45",
                                    "Kategória szerinti sorszám": "89",
                                    "Raktár szerinti sorszám": "9",
                                    "Termékkód": "01030092T",
                                    "Termék neve": "Esküvői meghívó",
                                    "Kategória": "98",
                                    "Raktár": "9",
                                    "Listaár": "59"
                                },
                                {
                                    "Listaár szerinti sorszám": "38",
                                    "Kategória szerinti sorszám": "88",
                                    "Raktár szerinti sorszám": "9",
                                    "Termékkód": "04110275T",
                                    "Termék neve": "Matrica motoros kicsi",
                                    "Kategória": "97",
                                    "Raktár": "9",
                                    "Listaár": "49"
                                },
                                {
                                    "Listaár szerinti sorszám": "96",
                                    "Kategória szerinti sorszám": "88",
                                    "Raktár szerinti sorszám": "9",
                                    "Termékkód": "04110281T",
                                    "Termék neve": "Matrica világítós ",
                                    "Kategória": "97",
                                    "Raktár": "9",
                                    "Listaár": "175"
                                },
                                {
                                    "Listaár szerinti sorszám": "88",
                                    "Kategória szerinti sorszám": "88",
                                    "Raktár szerinti sorszám": "9",
                                    "Termékkód": "04110280T",
                                    "Termék neve": "Matrica tetoválós kicsi",
                                    "Kategória": "97",
                                    "Raktár": "9",
                                    "Listaár": "148"
                                },
                                {
                                    "Listaár szerinti sorszám": "72",
                                    "Kategória szerinti sorszám": "88",
                                    "Raktár szerinti sorszám": "9",
                                    "Termékkód": "04110276T",
                                    "Termék neve": "Matrica Stickers nagy állatos",
                                    "Kategória": "97",
                                    "Raktár": "9",
                                    "Listaár": "109"
                                },
                                {
                                    "Listaár szerinti sorszám": "57",
                                    "Kategória szerinti sorszám": "94",
                                    "Raktár szerinti sorszám": "9",
                                    "Termékkód": "02040292T",
                                    "Termék neve": "Naptárhát nagy",
                                    "Kategória": "104",
                                    "Raktár": "9",
                                    "Listaár": "78"
                                },
                                {
                                    "Listaár szerinti sorszám": "137",
                                    "Kategória szerinti sorszám": "95",
                                    "Raktár szerinti sorszám": "9",
                                    "Termékkód": "02040293T",
                                    "Termék neve": "Névjegytartó kicsi",
                                    "Kategória": "105",
                                    "Raktár": "9",
                                    "Listaár": "310"
                                },
                                {
                                    "Listaár szerinti sorszám": "62",
                                    "Kategória szerinti sorszám": "96",
                                    "Raktár szerinti sorszám": "9",
                                    "Termékkód": "02040295T",
                                    "Termék neve": "Notesz A/5 sima spirál",
                                    "Kategória": "106",
                                    "Raktár": "9",
                                    "Listaár": "89"
                                },
                                {
                                    "Listaár szerinti sorszám": "151",
                                    "Kategória szerinti sorszám": "91",
                                    "Raktár szerinti sorszám": "9",
                                    "Termékkód": "08070488T",
                                    "Termék neve": "Matematika gyakorló 4",
                                    "Kategória": "100",
                                    "Raktár": "9",
                                    "Listaár": "403"
                                },
                                {
                                    "Listaár szerinti sorszám": "35",
                                    "Kategória szerinti sorszám": "119",
                                    "Raktár szerinti sorszám": "9",
                                    "Termékkód": "02080514T",
                                    "Termék neve": "Spirál 1/4 ",
                                    "Kategória": "131",
                                    "Raktár": "9",
                                    "Listaár": "45"
                                },
                                {
                                    "Listaár szerinti sorszám": "13",
                                    "Kategória szerinti sorszám": "113",
                                    "Raktár szerinti sorszám": "9",
                                    "Termékkód": "03010342T",
                                    "Termék neve": "Ragasztószalag  TIXO",
                                    "Kategória": "125",
                                    "Raktár": "9",
                                    "Listaár": "15"
                                },
                                {
                                    "Listaár szerinti sorszám": "62",
                                    "Kategória szerinti sorszám": "114",
                                    "Raktár szerinti sorszám": "9",
                                    "Termékkód": "05050346T",
                                    "Termék neve": "Rágógumi Orbit",
                                    "Kategória": "126",
                                    "Raktár": "9",
                                    "Listaár": "89"
                                },
                                {
                                    "Listaár szerinti sorszám": "123",
                                    "Kategória szerinti sorszám": "117",
                                    "Raktár szerinti sorszám": "9",
                                    "Termékkód": "06040350T",
                                    "Termék neve": "Regiszteres füzet A4",
                                    "Kategória": "129",
                                    "Raktár": "9",
                                    "Listaár": "256"
                                },
                                {
                                    "Listaár szerinti sorszám": "143",
                                    "Kategória szerinti sorszám": "115",
                                    "Raktár szerinti sorszám": "9",
                                    "Termékkód": "01010001T",
                                    "Termék neve": "félfamentes rajzlap A4 (10 lap)",
                                    "Kategória": "127",
                                    "Raktár": "9",
                                    "Listaár": "342"
                                },
                                {
                                    "Listaár szerinti sorszám": "42",
                                    "Kategória szerinti sorszám": "113",
                                    "Raktár szerinti sorszám": "9",
                                    "Termékkód": "02080433T",
                                    "Termék neve": "Ragasztószalag 19 mm-es",
                                    "Kategória": "125",
                                    "Raktár": "9",
                                    "Listaár": "55"
                                },
                                {
                                    "Listaár szerinti sorszám": "60",
                                    "Kategória szerinti sorszám": "112",
                                    "Raktár szerinti sorszám": "9",
                                    "Termékkód": "06080336T",
                                    "Termék neve": "Ragasztó 8 g Pritt",
                                    "Kategória": "124",
                                    "Raktár": "9",
                                    "Listaár": "81"
                                },
                                {
                                    "Listaár szerinti sorszám": "73",
                                    "Kategória szerinti sorszám": "112",
                                    "Raktár szerinti sorszám": "9",
                                    "Termékkód": "06080335T",
                                    "Termék neve": "Ragasztó 9 g Pax",
                                    "Kategória": "124",
                                    "Raktár": "9",
                                    "Listaár": "110"
                                },
                                {
                                    "Listaár szerinti sorszám": "6",
                                    "Kategória szerinti sorszám": "125",
                                    "Raktár szerinti sorszám": "9",
                                    "Termékkód": "06010377T",
                                    "Termék neve": "Szögmérő színes",
                                    "Kategória": "137",
                                    "Raktár": "9",
                                    "Listaár": "8"
                                },
                                {
                                    "Listaár szerinti sorszám": "84",
                                    "Kategória szerinti sorszám": "121",
                                    "Raktár szerinti sorszám": "9",
                                    "Termékkód": "05110363T",
                                    "Termék neve": "Szalvéta dekor",
                                    "Kategória": "133",
                                    "Raktár": "9",
                                    "Listaár": "133"
                                },
                                {
                                    "Listaár szerinti sorszám": "64",
                                    "Kategória szerinti sorszám": "126",
                                    "Raktár szerinti sorszám": "9",
                                    "Termékkód": "06040379T",
                                    "Termék neve": "Szövegkiemelő ",
                                    "Kategória": "138",
                                    "Raktár": "9",
                                    "Listaár": "93"
                                },
                                {
                                    "Listaár szerinti sorszám": "170",
                                    "Kategória szerinti sorszám": "127",
                                    "Raktár szerinti sorszám": "9",
                                    "Termékkód": "06040382T",
                                    "Termék neve": "Táblafilc",
                                    "Kategória": "139",
                                    "Raktár": "9",
                                    "Listaár": "633"
                                },
                                {
                                    "Listaár szerinti sorszám": "9",
                                    "Kategória szerinti sorszám": "131",
                                    "Raktár szerinti sorszám": "9",
                                    "Termékkód": "07040390T",
                                    "Termék neve": "Tintapatron színes",
                                    "Kategória": "143",
                                    "Raktár": "9",
                                    "Listaár": "11"
                                },
                                {
                                    "Listaár szerinti sorszám": "59",
                                    "Kategória szerinti sorszám": "132",
                                    "Raktár szerinti sorszám": "9",
                                    "Termékkód": "07040391T",
                                    "Termék neve": "Toll Centropen roller",
                                    "Kategória": "144",
                                    "Raktár": "9",
                                    "Listaár": "80"
                                },
                                {
                                    "Listaár szerinti sorszám": "61",
                                    "Kategória szerinti sorszám": "133",
                                    "Raktár szerinti sorszám": "9",
                                    "Termékkód": "07040131T",
                                    "Termék neve": "G. toll betét UNI lachnok Fine SA-7C",
                                    "Kategória": "145",
                                    "Raktár": "9",
                                    "Listaár": "85"
                                },
                                {
                                    "Listaár szerinti sorszám": "62",
                                    "Kategória szerinti sorszám": "133",
                                    "Raktár szerinti sorszám": "9",
                                    "Termékkód": "07010144T",
                                    "Termék neve": "G.toll betét Zebra K-0,7",
                                    "Kategória": "145",
                                    "Raktár": "9",
                                    "Listaár": "89"
                                },
                                {
                                    "Listaár szerinti sorszám": "182",
                                    "Kategória szerinti sorszám": "134",
                                    "Raktár szerinti sorszám": "9",
                                    "Termékkód": "06040393T",
                                    "Termék neve": "Tolltartó 2 részes NG.",
                                    "Kategória": "146",
                                    "Raktár": "9",
                                    "Listaár": "765"
                                },
                                {
                                    "Listaár szerinti sorszám": "23",
                                    "Kategória szerinti sorszám": "133",
                                    "Raktár szerinti sorszám": "9",
                                    "Termékkód": "07040127T",
                                    "Termék neve": "G. toll betét mini",
                                    "Kategória": "145",
                                    "Raktár": "9",
                                    "Listaár": "30"
                                },
                                {
                                    "Listaár szerinti sorszám": "23",
                                    "Kategória szerinti sorszám": "140",
                                    "Raktár szerinti sorszám": "9",
                                    "Termékkód": "06080415T",
                                    "Termék neve": "Vonalzó 45 fokos",
                                    "Kategória": "152",
                                    "Raktár": "9",
                                    "Listaár": "30"
                                },
                                {
                                    "Listaár szerinti sorszám": "26",
                                    "Kategória szerinti sorszám": "138",
                                    "Raktár szerinti sorszám": "9",
                                    "Termékkód": "02040406T",
                                    "Termék neve": "Tűzőkapocs 24/6",
                                    "Kategória": "150",
                                    "Raktár": "9",
                                    "Listaár": "34"
                                },
                                {
                                    "Listaár szerinti sorszám": "51",
                                    "Kategória szerinti sorszám": "142",
                                    "Raktár szerinti sorszám": "9",
                                    "Termékkód": "07080419T",
                                    "Termék neve": "Zselés toll MICRO",
                                    "Kategória": "154",
                                    "Raktár": "9",
                                    "Listaár": "66"
                                }
                            ]
                        },
                        "text/html": [
                            "<table>",
                            "<tr><th>Listaár szerinti sorszám</th><th>Kategória szerinti sorszám</th><th>Raktár szerinti sorszám</th><th>Termékkód</th><th>Termék neve</th><th>Kategória</th><th>Raktár</th><th>Listaár</th></tr>",
                            "<tr><td>149</td><td>31</td><td>1</td><td>L023-FE301</td><td>lány alsó</td><td>35</td><td>1</td><td>390</td></tr>",
                            "<tr><td>206</td><td>33</td><td>1</td><td>F021-IN215</td><td>férfi ing</td><td>37</td><td>1</td><td>6490</td></tr>",
                            "<tr><td>216</td><td>34</td><td>1</td><td>F001-KB101</td><td>férfi szövet kabát</td><td>38</td><td>1</td><td>22000</td></tr>",
                            "<tr><td>213</td><td>35</td><td>1</td><td>F013-NA207</td><td>férfi szövet nadrág</td><td>39</td><td>1</td><td>11900</td></tr>",
                            "<tr><td>207</td><td>50</td><td>1</td><td>G064-CI401</td><td>gyermek szandál (fiú)</td><td>54</td><td>1</td><td>6900</td></tr>",
                            "<tr><td>212</td><td>51</td><td>1</td><td>L001-KB101</td><td>gyermek kabát (lány)</td><td>55</td><td>1</td><td>8900</td></tr>",
                            "<tr><td>212</td><td>51</td><td>1</td><td>G001-KB101</td><td>gyermek kabát (fiú)</td><td>55</td><td>1</td><td>8900</td></tr>",
                            "<tr><td>195</td><td>52</td><td>1</td><td>L019-NA207</td><td>gyermek pamut nadrág (lány)</td><td>56</td><td>1</td><td>1290</td></tr>",
                            "<tr><td>210</td><td>50</td><td>1</td><td>L082-CI419</td><td>gyermek csizma (lány)</td><td>54</td><td>1</td><td>8000</td></tr>",
                            "<tr><td>217</td><td>97</td><td>1</td><td>N001-KB101</td><td>női szövet kabát</td><td>107</td><td>1</td><td>24000</td></tr>",
                            "<tr><td>201</td><td>118</td><td>1</td><td>U001-KI501</td><td>sál</td><td>130</td><td>1</td><td>1990</td></tr>",
                            "<tr><td>211</td><td>98</td><td>2</td><td>N008-NA201</td><td>női farmer nadrág</td><td>108</td><td>2</td><td>8290</td></tr>",
                            "<tr><td>220</td><td>79</td><td>2</td><td>N039-AL222</td><td>kosztüm (hosszú)</td><td>88</td><td>2</td><td>46000</td></tr>",
                            "<tr><td>209</td><td>50</td><td>2</td><td>G073-CI410</td><td>gyermek cipő (fiú)</td><td>54</td><td>2</td><td>7900</td></tr>",
                            "<tr><td>15</td><td>42</td><td>2</td><td>06080119T</td><td>Füzetborító mesefig.</td><td>46</td><td>2</td><td>19</td></tr>",
                            "<tr><td>176</td><td>31</td><td>2</td><td>N019-FE301</td><td>női alsó</td><td>35</td><td>2</td><td>690</td></tr>",
                            "<tr><td>149</td><td>31</td><td>3</td><td>G023-FE301</td><td>fiú alsó</td><td>35</td><td>3</td><td>390</td></tr>",
                            "<tr><td>190</td><td>31</td><td>3</td><td>G038-FE316</td><td>fiú harisnya</td><td>35</td><td>3</td><td>990</td></tr>",
                            "<tr><td>190</td><td>31</td><td>3</td><td>L033-FE311</td><td>lány harisnya</td><td>35</td><td>3</td><td>990</td></tr>",
                            "<tr><td>208</td><td>35</td><td>3</td><td>F007-NA201</td><td>férfi farmer nadrág</td><td>39</td><td>3</td><td>7890</td></tr>",
                            "<tr><td>215</td><td>5</td><td>3</td><td>L041-AL211</td><td>lány ünneplős ruha</td><td>8</td><td>3</td><td>16900</td></tr>",
                            "<tr><td>209</td><td>50</td><td>3</td><td>L073-CI410</td><td>gyermek cipő (lány)</td><td>54</td><td>3</td><td>7900</td></tr>",
                            "<tr><td>210</td><td>50</td><td>3</td><td>G082-CI419</td><td>gyermek csizma (fiú)</td><td>54</td><td>3</td><td>8000</td></tr>",
                            "<tr><td>203</td><td>53</td><td>3</td><td>L048-PO218</td><td>gyermek póló (lány)</td><td>57</td><td>3</td><td>3900</td></tr>",
                            "<tr><td>203</td><td>53</td><td>3</td><td>G048-PO218</td><td>gyermek póló (fiú)</td><td>57</td><td>3</td><td>3900</td></tr>",
                            "<tr><td>205</td><td>52</td><td>3</td><td>G013-NA201</td><td>gyermek farmer nadrág (fiú)</td><td>56</td><td>3</td><td>4990</td></tr>",
                            "<tr><td>205</td><td>52</td><td>3</td><td>L013-NA201</td><td>gyermek farmer nadrág (lány)</td><td>56</td><td>3</td><td>4990</td></tr>",
                            "<tr><td>195</td><td>52</td><td>3</td><td>G019-NA207</td><td>gyermek pamut nadrág (fiú)</td><td>56</td><td>3</td><td>1290</td></tr>",
                            "<tr><td>207</td><td>50</td><td>3</td><td>L064-CI401</td><td>gyermek szandál (lány)</td><td>54</td><td>3</td><td>6900</td></tr>",
                            "<tr><td>219</td><td>79</td><td>3</td><td>N035-AL218</td><td>kosztüm (rövid)</td><td>88</td><td>3</td><td>39000</td></tr>",
                            "<tr><td>218</td><td>5</td><td>4</td><td>N029-AL212</td><td>női koktélruha</td><td>8</td><td>4</td><td>32000</td></tr>",
                            "<tr><td>215</td><td>5</td><td>4</td><td>G041-AL211</td><td>fiú ünneplős ruha</td><td>8</td><td>4</td><td>16900</td></tr>",
                            "<tr><td>120</td><td>31</td><td>4</td><td>G029-FE307</td><td>fiú zokni</td><td>35</td><td>4</td><td>240</td></tr>",
                            "<tr><td>120</td><td>31</td><td>4</td><td>L029-FE307</td><td>lány zokni</td><td>35</td><td>4</td><td>240</td></tr>",
                            "<tr><td>50</td><td>26</td><td>5</td><td>06010085T</td><td>Ecset Lizzy 10-es</td><td>30</td><td>5</td><td>65</td></tr>",
                            "<tr><td>19</td><td>27</td><td>5</td><td>01040502T</td><td>Előlap spirálhoz</td><td>31</td><td>5</td><td>25</td></tr>",
                            "<tr><td>149</td><td>37</td><td>5</td><td>07040100T</td><td>Filctoll Marvy alkoholos</td><td>41</td><td>5</td><td>390</td></tr>",
                            "<tr><td>127</td><td>37</td><td>5</td><td>07030107T</td><td>Filctoll, textil Edding 4500</td><td>41</td><td>5</td><td>276</td></tr>",
                            "<tr><td>128</td><td>37</td><td>5</td><td>07040098T</td><td>Filctoll document pen</td><td>41</td><td>5</td><td>278</td></tr>",
                            "<tr><td>180</td><td>32</td><td>5</td><td>01100096T</td><td>Fénymásoló papír Qconnect</td><td>36</td><td>5</td><td>728</td></tr>",
                            "<tr><td>30</td><td>16</td><td>5</td><td>07040047T</td><td>Ceruza 2H-4B</td><td>19</td><td>5</td><td>39</td></tr>",
                            "<tr><td>17</td><td>16</td><td>5</td><td>07040053T</td><td>Ceruza HB radiros</td><td>19</td><td>5</td><td>23</td></tr>",
                            "<tr><td>87</td><td>16</td><td>5</td><td>07080062T</td><td>Ceruza szén</td><td>19</td><td>5</td><td>146</td></tr>",
                            "<tr><td>12</td><td>18</td><td>5</td><td>01100497T</td><td>Color Copy 160 g-os </td><td>21</td><td>5</td><td>14</td></tr>",
                            "<tr><td>199</td><td>18</td><td>5</td><td>01100496T</td><td>Színes másoló a/4 80g</td><td>21</td><td>5</td><td>1500</td></tr>",
                            "<tr><td>43</td><td>20</td><td>5</td><td>03080019T</td><td>Ajándék csom. Krepp</td><td>24</td><td>5</td><td>56</td></tr>",
                            "<tr><td>78</td><td>20</td><td>5</td><td>03080018T</td><td>Ajándék csom. gyűrt 50x70 </td><td>24</td><td>5</td><td>121</td></tr>",
                            "<tr><td>34</td><td>21</td><td>5</td><td>04030286T</td><td>Műanyag állatok</td><td>25</td><td>5</td><td>44</td></tr>",
                            "<tr><td>34</td><td>23</td><td>5</td><td>04050075T</td><td>Díszdoboz tollnak 2 db-os keskeny</td><td>27</td><td>5</td><td>44</td></tr>",
                            "<tr><td>141</td><td>10</td><td>5</td><td>02020033T</td><td>Beírókönyv A4</td><td>13</td><td>5</td><td>328</td></tr>",
                            "<tr><td>115</td><td>9</td><td>5</td><td>06080423T</td><td>Beíró A/5 kockás</td><td>12</td><td>5</td><td>228</td></tr>",
                            "<tr><td>13</td><td>13</td><td>5</td><td>02050460T</td><td>Boríték C/4-es</td><td>16</td><td>5</td><td>15</td></tr>",
                            "<tr><td>41</td><td>16</td><td>5</td><td>07040052T</td><td>Ceruza 2H-3B Koh-i-nor</td><td>19</td><td>5</td><td>53</td></tr>",
                            "<tr><td>140</td><td>1</td><td>5</td><td>08070483T</td><td>Fizikai feladatok és tévedések</td><td>4</td><td>5</td><td>324</td></tr>",
                            "<tr><td>179</td><td>1</td><td>5</td><td>08070493T</td><td>Érettségi felv. fel. Matematika</td><td>4</td><td>5</td><td>720</td></tr>",
                            "<tr><td>192</td><td>1</td><td>5</td><td>08070474T</td><td>A föld amelyen élünk - Hazánk földrajza</td><td>4</td><td>5</td><td>1089</td></tr>",
                            "<tr><td>82</td><td>2</td><td>5</td><td>04050267T</td><td>Logikai készlet</td><td>5</td><td>5</td><td>129</td></tr>",
                            "<tr><td>18</td><td>2</td><td>5</td><td>04050035T</td><td>Bérlet tok</td><td>5</td><td>5</td><td>24</td></tr>",
                            "<tr><td>23</td><td>54</td><td>5</td><td>02040177T</td><td>Gyorsfűző műa.</td><td>58</td><td>5</td><td>30</td></tr>",
                            "<tr><td>90</td><td>55</td><td>5</td><td>06080440T</td><td>Gyurma 12 szinű</td><td>59</td><td>5</td><td>161</td></tr>",
                            "<tr><td>101</td><td>61</td><td>5</td><td>02040195T</td><td>Hibajavító ecsetes Aqua</td><td>66</td><td>5</td><td>185</td></tr>",
                            "<tr><td>13</td><td>63</td><td>5</td><td>06040205T</td><td>Indigó Pelikán</td><td>68</td><td>5</td><td>15</td></tr>",
                            "<tr><td>10</td><td>63</td><td>5</td><td>06040206T</td><td>kék indigó</td><td>68</td><td>5</td><td>12</td></tr>",
                            "<tr><td>124</td><td>65</td><td>5</td><td>02080432T</td><td>Tokos iratrendező</td><td>71</td><td>5</td><td>259</td></tr>",
                            "<tr><td>45</td><td>68</td><td>5</td><td>02040214T</td><td>Iromány fedél feles</td><td>74</td><td>5</td><td>59</td></tr>",
                            "<tr><td>28</td><td>70</td><td>5</td><td>07040216T</td><td>Ironbél B 0,5</td><td>76</td><td>5</td><td>36</td></tr>",
                            "<tr><td>54</td><td>71</td><td>5</td><td>06050249T</td><td>Krepp papír</td><td>78</td><td>5</td><td>73</td></tr>",
                            "<tr><td>44</td><td>71</td><td>5</td><td>06040384T</td><td>Technika cs. I-II-III-IV</td><td>78</td><td>5</td><td>58</td></tr>",
                            "<tr><td>47</td><td>71</td><td>5</td><td>06010368T</td><td>Számolópálca</td><td>78</td><td>5</td><td>61</td></tr>",
                            "<tr><td>191</td><td>48</td><td>5</td><td>07080152T</td><td>Golyóstoll 3 funkciós </td><td>52</td><td>5</td><td>1019</td></tr>",
                            "<tr><td>183</td><td>48</td><td>5</td><td>07080158T</td><td>Golyóstoll Parker tokban</td><td>52</td><td>5</td><td>773</td></tr>",
                            "<tr><td>25</td><td>48</td><td>5</td><td>07080155T</td><td>Golyóstoll</td><td>52</td><td>5</td><td>33</td></tr>",
                            "<tr><td>70</td><td>45</td><td>5</td><td>02080451T</td><td>Gémkapocs 50-es</td><td>49</td><td>5</td><td>103</td></tr>",
                            "<tr><td>116</td><td>48</td><td>5</td><td>07080163T</td><td>Golyóstoll UNI átlátszó</td><td>52</td><td>5</td><td>230</td></tr>",
                            "<tr><td>109</td><td>41</td><td>5</td><td>06040354T</td><td>Sp.Füzet A/4  perforált, lyuk.</td><td>45</td><td>5</td><td>206</td></tr>",
                            "<tr><td>74</td><td>37</td><td>5</td><td>07030105T</td><td>Filctoll, alkoholos Centropen</td><td>41</td><td>5</td><td>114</td></tr>",
                            "<tr><td>1</td><td>37</td><td>5</td><td>07030108T</td><td>Filctoll CD író</td><td>41</td><td>5</td><td>0</td></tr>",
                            "<tr><td>60</td><td>77</td><td>5</td><td>04110231T</td><td>Képeslap humoros borítékos</td><td>85</td><td>5</td><td>81</td></tr>",
                            "<tr><td>90</td><td>80</td><td>5</td><td>06040246T</td><td>Körző</td><td>89</td><td>5</td><td>161</td></tr>",
                            "<tr><td>11</td><td>81</td><td>5</td><td>01100510T</td><td>Kreatív A/4 120g </td><td>90</td><td>5</td><td>13</td></tr>",
                            "<tr><td>6</td><td>71</td><td>5</td><td>06040353T</td><td>Sorvezető</td><td>78</td><td>5</td><td>8</td></tr>",
                            "<tr><td>37</td><td>73</td><td>5</td><td>04050224T</td><td>Jelzőkréta</td><td>80</td><td>5</td><td>48</td></tr>",
                            "<tr><td>54</td><td>75</td><td>5</td><td>01100070T</td><td>Dekorációs karton</td><td>83</td><td>5</td><td>73</td></tr>",
                            "<tr><td>9</td><td>75</td><td>5</td><td>01090515T</td><td>Színes A/3 160 gr IQ</td><td>83</td><td>5</td><td>11</td></tr>",
                            "<tr><td>25</td><td>77</td><td>5</td><td>04110229T</td><td>Képeslap &quot;Részvét&quot;</td><td>85</td><td>5</td><td>33</td></tr>",
                            "<tr><td>23</td><td>77</td><td>5</td><td>04030234T</td><td>Képeslap karácsonyi</td><td>85</td><td>5</td><td>30</td></tr>",
                            "<tr><td>62</td><td>77</td><td>5</td><td>04110233T</td><td>Képeslap humoros</td><td>85</td><td>5</td><td>89</td></tr>",
                            "<tr><td>70</td><td>96</td><td>5</td><td>02040294T</td><td>Notesz A/5 sima</td><td>106</td><td>5</td><td>103</td></tr>",
                            "<tr><td>204</td><td>102</td><td>5</td><td>01080512T</td><td>Öntapadó A/4</td><td>112</td><td>5</td><td>4575</td></tr>",
                            "<tr><td>97</td><td>101</td><td>5</td><td>06050302T</td><td>Olló Tagit 18 cm-es</td><td>111</td><td>5</td><td>176</td></tr>",
                            "<tr><td>45</td><td>107</td><td>5</td><td>07080317T</td><td>Pixiron mini </td><td>118</td><td>5</td><td>59</td></tr>",
                            "<tr><td>81</td><td>107</td><td>5</td><td>07080312T</td><td>Pixiron 0,7 Handy</td><td>118</td><td>5</td><td>125</td></tr>",
                            "<tr><td>118</td><td>107</td><td>5</td><td>07080318T</td><td>Pixiron Penac</td><td>118</td><td>5</td><td>235</td></tr>",
                            "<tr><td>138</td><td>108</td><td>5</td><td>04050322T</td><td>Plüss sárkány</td><td>119</td><td>5</td><td>314</td></tr>",
                            "<tr><td>42</td><td>88</td><td>5</td><td>04110273T</td><td>Matrica állatos</td><td>97</td><td>5</td><td>55</td></tr>",
                            "<tr><td>43</td><td>88</td><td>5</td><td>04110282T</td><td>Matrica WD kicsi</td><td>97</td><td>5</td><td>56</td></tr>",
                            "<tr><td>38</td><td>88</td><td>5</td><td>04110274T</td><td>Matrica autóra H</td><td>97</td><td>5</td><td>49</td></tr>",
                            "<tr><td>94</td><td>89</td><td>5</td><td>04110284T</td><td>Meghívó borítékos</td><td>98</td><td>5</td><td>169</td></tr>",
                            "<tr><td>89</td><td>89</td><td>5</td><td>04110283T</td><td>Meghívó állatos</td><td>98</td><td>5</td><td>155</td></tr>",
                            "<tr><td>158</td><td>91</td><td>5</td><td>08070475T</td><td>A föld amelyen élünk - munkafüzet</td><td>100</td><td>5</td><td>440</td></tr>",
                            "<tr><td>104</td><td>91</td><td>5</td><td>08070482T</td><td>Fizika munkafüzet 14 év.</td><td>100</td><td>5</td><td>190</td></tr>",
                            "<tr><td>108</td><td>117</td><td>5</td><td>06040351T</td><td>Regiszteres füzet A5 Hightech</td><td>129</td><td>5</td><td>203</td></tr>",
                            "<tr><td>21</td><td>115</td><td>5</td><td>06040347T</td><td>Rajzlap A/4 10db ffam.</td><td>127</td><td>5</td><td>28</td></tr>",
                            "<tr><td>55</td><td>111</td><td>5</td><td>06080332T</td><td>Radírtoll betét ER100</td><td>123</td><td>5</td><td>74</td></tr>",
                            "<tr><td>84</td><td>112</td><td>5</td><td>06080334T</td><td>Ragasztó szalag KORES </td><td>124</td><td>5</td><td>133</td></tr>",
                            "<tr><td>62</td><td>112</td><td>5</td><td>06080339T</td><td>Ragasztó kores</td><td>124</td><td>5</td><td>89</td></tr>",
                            "<tr><td>194</td><td>122</td><td>5</td><td>06040446T</td><td>Számológép tudományos</td><td>134</td><td>5</td><td>1173</td></tr>",
                            "<tr><td>99</td><td>121</td><td>5</td><td>04110362T</td><td>Szalvéta gyűjtőknek</td><td>133</td><td>5</td><td>183</td></tr>",
                            "<tr><td>57</td><td>126</td><td>5</td><td>06040380T</td><td>Szövegkiemelő</td><td>138</td><td>5</td><td>78</td></tr>",
                            "<tr><td>55</td><td>132</td><td>5</td><td>07010244T</td><td>Kerámiatoll</td><td>144</td><td>5</td><td>74</td></tr>",
                            "<tr><td>17</td><td>133</td><td>5</td><td>07010140T</td><td>G.toll betét Stabilo</td><td>145</td><td>5</td><td>23</td></tr>",
                            "<tr><td>30</td><td>133</td><td>5</td><td>07040133T</td><td>G.toll betét görbe hegyű</td><td>145</td><td>5</td><td>39</td></tr>",
                            "<tr><td>115</td><td>133</td><td>5</td><td>07010142T</td><td>G.toll betét Zebra F-0.7</td><td>145</td><td>5</td><td>228</td></tr>",
                            "<tr><td>23</td><td>133</td><td>5</td><td>07040129T</td><td>G. toll betét réz</td><td>145</td><td>5</td><td>30</td></tr>",
                            "<tr><td>154</td><td>134</td><td>5</td><td>06040398T</td><td>Tolltartó hengeres </td><td>146</td><td>5</td><td>411</td></tr>",
                            "<tr><td>140</td><td>134</td><td>5</td><td>06040394T</td><td>Tolltartó zipzáras</td><td>146</td><td>5</td><td>324</td></tr>",
                            "<tr><td>163</td><td>136</td><td>5</td><td>07050462T</td><td>Töltőtoll tinta </td><td>148</td><td>5</td><td>493</td></tr>",
                            "<tr><td>129</td><td>137</td><td>5</td><td>02040402T</td><td>Tűzőgép Boxer </td><td>149</td><td>5</td><td>286</td></tr>",
                            "<tr><td>196</td><td>137</td><td>5</td><td>02040403T</td><td>Tűzőgép SAX 239</td><td>149</td><td>5</td><td>1351</td></tr>",
                            "<tr><td>16</td><td>141</td><td>5</td><td>06080417T</td><td>Zászló papír</td><td>153</td><td>5</td><td>20</td></tr>",
                            "<tr><td>202</td><td>137</td><td>6</td><td>02040002T</td><td>irodai tűzőgép</td><td>149</td><td>6</td><td>2100</td></tr>",
                            "<tr><td>98</td><td>139</td><td>6</td><td>06080409T</td><td>Vízfesték 12 színű kerek</td><td>151</td><td>6</td><td>180</td></tr>",
                            "<tr><td>97</td><td>139</td><td>6</td><td>06080410T</td><td>Vízfesték 12db-os kínai</td><td>151</td><td>6</td><td>176</td></tr>",
                            "<tr><td>25</td><td>140</td><td>6</td><td>06080416T</td><td>Vonalzó 60 fokos</td><td>152</td><td>6</td><td>33</td></tr>",
                            "<tr><td>157</td><td>137</td><td>6</td><td>02080452T</td><td>Tűzőgép mini</td><td>149</td><td>6</td><td>438</td></tr>",
                            "<tr><td>174</td><td>133</td><td>6</td><td>07040135T</td><td>G.toll betét Parker </td><td>145</td><td>6</td><td>684</td></tr>",
                            "<tr><td>79</td><td>133</td><td>6</td><td>07010136T</td><td>G.toll betét PAX</td><td>145</td><td>6</td><td>123</td></tr>",
                            "<tr><td>70</td><td>130</td><td>6</td><td>02080449T</td><td>Térképtű színes</td><td>142</td><td>6</td><td>103</td></tr>",
                            "<tr><td>59</td><td>133</td><td>6</td><td>07040130T</td><td>G. toll betét S7S</td><td>145</td><td>6</td><td>80</td></tr>",
                            "<tr><td>63</td><td>133</td><td>6</td><td>07010139T</td><td>G.toll betét S7L </td><td>145</td><td>6</td><td>91</td></tr>",
                            "<tr><td>42</td><td>133</td><td>6</td><td>07040128T</td><td>G. toll betét mini fém</td><td>145</td><td>6</td><td>55</td></tr>",
                            "<tr><td>37</td><td>133</td><td>6</td><td>07010137T</td><td>G.toll betét PAX tip.</td><td>145</td><td>6</td><td>48</td></tr>",
                            "<tr><td>31</td><td>128</td><td>6</td><td>05050465T</td><td>Tapétavágó kés</td><td>140</td><td>6</td><td>40</td></tr>",
                            "<tr><td>9</td><td>125</td><td>6</td><td>06010376T</td><td>Szögmérő papír</td><td>137</td><td>6</td><td>11</td></tr>",
                            "<tr><td>70</td><td>126</td><td>6</td><td>06040381T</td><td>Szövegkiemelő Videotip</td><td>138</td><td>6</td><td>103</td></tr>",
                            "<tr><td>164</td><td>122</td><td>6</td><td>06010366T</td><td>Számológép Roxin</td><td>134</td><td>6</td><td>508</td></tr>",
                            "<tr><td>76</td><td>121</td><td>6</td><td>05110360T</td><td>Szalvéta egyszínű</td><td>133</td><td>6</td><td>118</td></tr>",
                            "<tr><td>18</td><td>125</td><td>6</td><td>06010375T</td><td>Szögmérő 180 fokos műa.</td><td>137</td><td>6</td><td>24</td></tr>",
                            "<tr><td>86</td><td>112</td><td>6</td><td>05080341T</td><td>Ragasztó, Technokol 35g piros</td><td>124</td><td>6</td><td>144</td></tr>",
                            "<tr><td>34</td><td>110</td><td>6</td><td>06040329T</td><td>Radír stabilo</td><td>122</td><td>6</td><td>44</td></tr>",
                            "<tr><td>155</td><td>112</td><td>6</td><td>06010343T</td><td>Ragasztószalag 19 mm-es SCOTCH+ tépő</td><td>124</td><td>6</td><td>426</td></tr>",
                            "<tr><td>48</td><td>116</td><td>6</td><td>05040349T</td><td>Rajzszeg</td><td>128</td><td>6</td><td>63</td></tr>",
                            "<tr><td>92</td><td>113</td><td>6</td><td>03010345T</td><td>Ragasztószalag széles barna</td><td>125</td><td>6</td><td>166</td></tr>",
                            "<tr><td>6</td><td>90</td><td>6</td><td>06080425T</td><td>Miliméterpapír</td><td>99</td><td>6</td><td>8</td></tr>",
                            "<tr><td>145</td><td>91</td><td>6</td><td>08070477T</td><td>Anyanyelvi gyakorló 3</td><td>100</td><td>6</td><td>353</td></tr>",
                            "<tr><td>151</td><td>91</td><td>6</td><td>08070486T</td><td>Matematika gyakorló 2</td><td>100</td><td>6</td><td>403</td></tr>",
                            "<tr><td>151</td><td>91</td><td>6</td><td>08070487T</td><td>Matematika gyakorló 3</td><td>100</td><td>6</td><td>403</td></tr>",
                            "<tr><td>64</td><td>88</td><td>6</td><td>04110277T</td><td>Matrica Stickers szíves</td><td>97</td><td>6</td><td>93</td></tr>",
                            "<tr><td>48</td><td>89</td><td>6</td><td>06080429T</td><td>Meghívó ballagási</td><td>98</td><td>6</td><td>63</td></tr>",
                            "<tr><td>88</td><td>87</td><td>6</td><td>06040174T</td><td>Gumis mappa </td><td>96</td><td>6</td><td>148</td></tr>",
                            "<tr><td>86</td><td>105</td><td>6</td><td>02020037T</td><td>Bevételi pénztárbizonylat 3×25</td><td>116</td><td>6</td><td>144</td></tr>",
                            "<tr><td>64</td><td>106</td><td>6</td><td>02040309T</td><td>Pénztárgépszalag 2pl SC 57.5/60</td><td>117</td><td>6</td><td>93</td></tr>",
                            "<tr><td>132</td><td>91</td><td>6</td><td>08070476T</td><td>Anyanyelvi gyakorló 2</td><td>100</td><td>6</td><td>293</td></tr>",
                            "<tr><td>43</td><td>96</td><td>6</td><td>02040296T</td><td>Notesz A/6 College</td><td>106</td><td>6</td><td>56</td></tr>",
                            "<tr><td>34</td><td>96</td><td>6</td><td>02040298T</td><td>Notesz mintás</td><td>106</td><td>6</td><td>44</td></tr>",
                            "<tr><td>31</td><td>75</td><td>6</td><td>01100509T</td><td>Márványos A/4</td><td>83</td><td>6</td><td>40</td></tr>",
                            "<tr><td>13</td><td>77</td><td>6</td><td>04030236T</td><td>Képeslap karácsonyi WD</td><td>85</td><td>6</td><td>15</td></tr>",
                            "<tr><td>83</td><td>76</td><td>6</td><td>04050225T</td><td>Kártya mini Magyar</td><td>84</td><td>6</td><td>131</td></tr>",
                            "<tr><td>27</td><td>71</td><td>6</td><td>06010367T</td><td>Számolókorong</td><td>78</td><td>6</td><td>35</td></tr>",
                            "<tr><td>28</td><td>71</td><td>6</td><td>06010201T</td><td>Hőmérő, műa.</td><td>78</td><td>6</td><td>36</td></tr>",
                            "<tr><td>90</td><td>71</td><td>6</td><td>06080259T</td><td>Leckefüzet</td><td>78</td><td>6</td><td>161</td></tr>",
                            "<tr><td>121</td><td>80</td><td>6</td><td>06040248T</td><td>Körző maped</td><td>89</td><td>6</td><td>243</td></tr>",
                            "<tr><td>25</td><td>77</td><td>6</td><td>04110227T</td><td>Képeslap  borítékos</td><td>85</td><td>6</td><td>33</td></tr>",
                            "<tr><td>42</td><td>77</td><td>6</td><td>04110230T</td><td>Képeslap humoros </td><td>85</td><td>6</td><td>55</td></tr>",
                            "<tr><td>43</td><td>84</td><td>6</td><td>04030262T</td><td>Levélpapír sima</td><td>93</td><td>6</td><td>56</td></tr>",
                            "<tr><td>13</td><td>84</td><td>6</td><td>04030260T</td><td>Levélpapír A/4</td><td>93</td><td>6</td><td>15</td></tr>",
                            "<tr><td>70</td><td>84</td><td>6</td><td>04030265T</td><td>Levélpapír szett natur, mintás</td><td>93</td><td>6</td><td>103</td></tr>",
                            "<tr><td>85</td><td>84</td><td>6</td><td>04030261T</td><td>Levélpapír állatos</td><td>93</td><td>6</td><td>140</td></tr>",
                            "<tr><td>55</td><td>84</td><td>6</td><td>04030264T</td><td>Levélpapír szett </td><td>93</td><td>6</td><td>74</td></tr>",
                            "<tr><td>9</td><td>85</td><td>6</td><td>04050269T</td><td>Lufi hullámos</td><td>94</td><td>6</td><td>11</td></tr>",
                            "<tr><td>200</td><td>87</td><td>6</td><td>04080270T</td><td>Mappa bőr A5</td><td>96</td><td>6</td><td>1765</td></tr>",
                            "<tr><td>169</td><td>36</td><td>6</td><td>02080455T</td><td>Festékpatron BCI-3BK</td><td>40</td><td>6</td><td>625</td></tr>",
                            "<tr><td>23</td><td>41</td><td>6</td><td>06010114T</td><td>Füzet A/5 hangjegy 36/16</td><td>45</td><td>6</td><td>30</td></tr>",
                            "<tr><td>164</td><td>43</td><td>6</td><td>06080124T</td><td>Füzettartó A/4 keménytáblás</td><td>47</td><td>6</td><td>508</td></tr>",
                            "<tr><td>167</td><td>43</td><td>6</td><td>06080123T</td><td>Füzettartó A/4 keménytáblás</td><td>47</td><td>6</td><td>551</td></tr>",
                            "<tr><td>62</td><td>41</td><td>6</td><td>06040357T</td><td>Sp.Füzet A/5 70-es</td><td>45</td><td>6</td><td>89</td></tr>",
                            "<tr><td>6</td><td>42</td><td>6</td><td>06080118T</td><td>Füzetborító átlátszó A5</td><td>46</td><td>6</td><td>8</td></tr>",
                            "<tr><td>8</td><td>42</td><td>6</td><td>06080117T</td><td>Füzetborító A/4 átlátszó</td><td>46</td><td>6</td><td>10</td></tr>",
                            "<tr><td>117</td><td>48</td><td>6</td><td>07080164T</td><td>Golyóstoll UNI gumis</td><td>52</td><td>6</td><td>231</td></tr>",
                            "<tr><td>73</td><td>48</td><td>6</td><td>07080468T</td><td>Golyóstoll háromfunkciós</td><td>52</td><td>6</td><td>110</td></tr>",
                            "<tr><td>150</td><td>48</td><td>6</td><td>07080154T</td><td>Golyóstoll INOXCROM</td><td>52</td><td>6</td><td>401</td></tr>",
                            "<tr><td>40</td><td>48</td><td>6</td><td>07080150T</td><td>Golyóstoll</td><td>52</td><td>6</td><td>51</td></tr>",
                            "<tr><td>69</td><td>48</td><td>6</td><td>07080162T</td><td>Golyóstoll Stabilo piros</td><td>52</td><td>6</td><td>101</td></tr>",
                            "<tr><td>15</td><td>71</td><td>6</td><td>06040383T</td><td>Taffet papír</td><td>78</td><td>6</td><td>19</td></tr>",
                            "<tr><td>17</td><td>71</td><td>6</td><td>06010202T</td><td>Hurkapálca 10 db-os</td><td>78</td><td>6</td><td>23</td></tr>",
                            "<tr><td>7</td><td>71</td><td>6</td><td>06010305T</td><td>Papírcenti 100 cm-es</td><td>78</td><td>6</td><td>9</td></tr>",
                            "<tr><td>6</td><td>71</td><td>6</td><td>06040181T</td><td>Gyűjtőlap A/4</td><td>78</td><td>6</td><td>8</td></tr>",
                            "<tr><td>70</td><td>71</td><td>6</td><td>06040352T</td><td>Rovatolt papír 20 íves</td><td>78</td><td>6</td><td>103</td></tr>",
                            "<tr><td>17</td><td>70</td><td>6</td><td>07040218T</td><td>Ironbél HB 0,5</td><td>76</td><td>6</td><td>23</td></tr>",
                            "<tr><td>45</td><td>70</td><td>6</td><td>07040217T</td><td>Ironbél H 0,5</td><td>76</td><td>6</td><td>59</td></tr>",
                            "<tr><td>57</td><td>70</td><td>6</td><td>07040219T</td><td>Ironbél HI-POLIMER HB 0,7</td><td>76</td><td>6</td><td>78</td></tr>",
                            "<tr><td>62</td><td>66</td><td>6</td><td>02040210T</td><td>Iratsín kék</td><td>72</td><td>6</td><td>89</td></tr>",
                            "<tr><td>15</td><td>64</td><td>6</td><td>02040207T</td><td>Iratgyűjtő ESSELTE ablakos</td><td>70</td><td>6</td><td>19</td></tr>",
                            "<tr><td>98</td><td>55</td><td>6</td><td>06040179T</td><td>Gyurma színes 200 g-os</td><td>59</td><td>6</td><td>180</td></tr>",
                            "<tr><td>178</td><td>56</td><td>6</td><td>06040186T</td><td>Gyűrűskönyv színes</td><td>60</td><td>6</td><td>699</td></tr>",
                            "<tr><td>23</td><td>59</td><td>6</td><td>06080189T</td><td>Hegyező műanyag dupla</td><td>64</td><td>6</td><td>30</td></tr>",
                            "<tr><td>17</td><td>59</td><td>6</td><td>06080190T</td><td>Hegyező műanyag egyes</td><td>64</td><td>6</td><td>23</td></tr>",
                            "<tr><td>128</td><td>61</td><td>6</td><td>02040200T</td><td>Hibajavító Kores mini pen</td><td>66</td><td>6</td><td>278</td></tr>",
                            "<tr><td>131</td><td>1</td><td>6</td><td>08070485T</td><td>Jól felkészültem-e - Fizika</td><td>4</td><td>6</td><td>291</td></tr>",
                            "<tr><td>158</td><td>1</td><td>6</td><td>08070494T</td><td>Érettségi felv. fel. Fizika</td><td>4</td><td>6</td><td>440</td></tr>",
                            "<tr><td>192</td><td>1</td><td>6</td><td>08070473T</td><td>A föld amelyen élünk - Távoli földrészek</td><td>4</td><td>6</td><td>1089</td></tr>",
                            "<tr><td>49</td><td>3</td><td>6</td><td>03080013T</td><td>Ajándék csom. 50x70 húsvéti</td><td>6</td><td>6</td><td>64</td></tr>",
                            "<tr><td>20</td><td>3</td><td>6</td><td>03050457T</td><td>Ajándék cs. tasak kicsi</td><td>6</td><td>6</td><td>26</td></tr>",
                            "<tr><td>15</td><td>3</td><td>6</td><td>03080004T</td><td>Ajándék cs. tasak italos, fólia</td><td>6</td><td>6</td><td>19</td></tr>",
                            "<tr><td>88</td><td>3</td><td>6</td><td>03080011T</td><td>Ajándék cs. tasak közepes</td><td>6</td><td>6</td><td>148</td></tr>",
                            "<tr><td>101</td><td>3</td><td>6</td><td>03080003T</td><td>Ajándék cs. tasak italos</td><td>6</td><td>6</td><td>185</td></tr>",
                            "<tr><td>42</td><td>16</td><td>6</td><td>07040048T</td><td>Ceruza arany, ezüst</td><td>19</td><td>6</td><td>55</td></tr>",
                            "<tr><td>2</td><td>13</td><td>6</td><td>02030042T</td><td>Boríték LC 6</td><td>16</td><td>6</td><td>3</td></tr>",
                            "<tr><td>5</td><td>13</td><td>6</td><td>02030040T</td><td>Boríték LA 4 francia</td><td>16</td><td>6</td><td>6</td></tr>",
                            "<tr><td>197</td><td>11</td><td>6</td><td>02060447T</td><td>Bélyegző pocket</td><td>14</td><td>6</td><td>1377</td></tr>",
                            "<tr><td>171</td><td>11</td><td>6</td><td>02060039T</td><td>Bélyegző párna</td><td>14</td><td>6</td><td>650</td></tr>",
                            "<tr><td>112</td><td>6</td><td>6</td><td>05010027T</td><td>Alufólia 20 m-es</td><td>9</td><td>6</td><td>214</td></tr>",
                            "<tr><td>13</td><td>21</td><td>6</td><td>04030289T</td><td>Műanyag pohár 5 cl-es</td><td>25</td><td>6</td><td>15</td></tr>",
                            "<tr><td>71</td><td>20</td><td>6</td><td>03080031T</td><td>Ajándék cs. húsvéti</td><td>24</td><td>6</td><td>106</td></tr>",
                            "<tr><td>13</td><td>13</td><td>6</td><td>02030044T</td><td>Boríték mintás</td><td>16</td><td>6</td><td>15</td></tr>",
                            "<tr><td>13</td><td>18</td><td>6</td><td>01090499T</td><td>Color Copy A/4 250 g</td><td>21</td><td>6</td><td>15</td></tr>",
                            "<tr><td>8</td><td>18</td><td>6</td><td>01100503T</td><td>Color Copy A4 120 g</td><td>21</td><td>6</td><td>10</td></tr>",
                            "<tr><td>31</td><td>16</td><td>6</td><td>07080064T</td><td>Ceruza zöld színű</td><td>19</td><td>6</td><td>40</td></tr>",
                            "<tr><td>23</td><td>16</td><td>6</td><td>07040050T</td><td>Ceruza Cseh</td><td>19</td><td>6</td><td>30</td></tr>",
                            "<tr><td>30</td><td>16</td><td>6</td><td>07040051T</td><td>Ceruza háromszög </td><td>19</td><td>6</td><td>39</td></tr>",
                            "<tr><td>28</td><td>16</td><td>6</td><td>07040060T</td><td>Ceruza stabilo swano</td><td>19</td><td>6</td><td>36</td></tr>",
                            "<tr><td>198</td><td>32</td><td>6</td><td>01100504T</td><td>Fehér másoló A/3</td><td>36</td><td>6</td><td>1488</td></tr>",
                            "<tr><td>175</td><td>32</td><td>6</td><td>01100505T</td><td>Fehér másoló A/4</td><td>36</td><td>6</td><td>686</td></tr>",
                            "<tr><td>166</td><td>28</td><td>6</td><td>04040090T</td><td>Emlékkönyv</td><td>32</td><td>6</td><td>526</td></tr>",
                            "<tr><td>60</td><td>24</td><td>6</td><td>03050080T</td><td>Diszkötöző széles szalag</td><td>28</td><td>6</td><td>81</td></tr>",
                            "<tr><td>25</td><td>26</td><td>6</td><td>06010083T</td><td>Ecset Centrum 7,8,9</td><td>30</td><td>6</td><td>33</td></tr>",
                            "<tr><td>58</td><td>26</td><td>7</td><td>06040087T</td><td>Ecset Nebuló 10-es</td><td>30</td><td>7</td><td>79</td></tr>",
                            "<tr><td>20</td><td>29</td><td>7</td><td>01030091T</td><td>Emléklap A/5</td><td>33</td><td>7</td><td>26</td></tr>",
                            "<tr><td>139</td><td>28</td><td>7</td><td>04080442T</td><td>Emlékkönyv</td><td>32</td><td>7</td><td>316</td></tr>",
                            "<tr><td>159</td><td>28</td><td>7</td><td>04080443T</td><td>Emlékkönyv lakatos</td><td>32</td><td>7</td><td>449</td></tr>",
                            "<tr><td>9</td><td>16</td><td>7</td><td>07040058T</td><td>Ceruza radíros kínai</td><td>19</td><td>7</td><td>11</td></tr>",
                            "<tr><td>31</td><td>16</td><td>7</td><td>07040056T</td><td>Ceruza piros-kék vékony</td><td>19</td><td>7</td><td>40</td></tr>",
                            "<tr><td>27</td><td>16</td><td>7</td><td>07080063T</td><td>Ceruza szorzótáblás</td><td>19</td><td>7</td><td>35</td></tr>",
                            "<tr><td>20</td><td>17</td><td>7</td><td>04110066T</td><td>Címke 8 db-os</td><td>20</td><td>7</td><td>26</td></tr>",
                            "<tr><td>24</td><td>17</td><td>7</td><td>04110067T</td><td>Címke WD. állat</td><td>20</td><td>7</td><td>31</td></tr>",
                            "<tr><td>71</td><td>16</td><td>7</td><td>07040057T</td><td>Ceruza Progresso</td><td>19</td><td>7</td><td>106</td></tr>",
                            "<tr><td>62</td><td>19</td><td>7</td><td>05010370T</td><td>Szilvia csomagoló</td><td>22</td><td>7</td><td>89</td></tr>",
                            "<tr><td>17</td><td>20</td><td>7</td><td>03080021T</td><td>Ajándék csom. vékony</td><td>24</td><td>7</td><td>23</td></tr>",
                            "<tr><td>114</td><td>20</td><td>7</td><td>03080030T</td><td>Ajándék cs. húsvéti 200x70</td><td>24</td><td>7</td><td>220</td></tr>",
                            "<tr><td>2</td><td>21</td><td>7</td><td>04030288T</td><td>Műanyag pohár 1 dl-es</td><td>25</td><td>7</td><td>3</td></tr>",
                            "<tr><td>51</td><td>23</td><td>7</td><td>04050074T</td><td>Díszdoboz tollnak 2 db-os</td><td>27</td><td>7</td><td>66</td></tr>",
                            "<tr><td>193</td><td>11</td><td>7</td><td>02060448T</td><td>Bélyegző RP 18-47</td><td>14</td><td>7</td><td>1147</td></tr>",
                            "<tr><td>86</td><td>4</td><td>7</td><td>04050024T</td><td>Álarc szemüveg</td><td>7</td><td>7</td><td>144</td></tr>",
                            "<tr><td>88</td><td>3</td><td>7</td><td>03050458T</td><td>Ajándék cs. 2×100×70</td><td>6</td><td>7</td><td>148</td></tr>",
                            "<tr><td>112</td><td>3</td><td>7</td><td>03080438T</td><td>Ajándék csomagoló tasak lézeres</td><td>6</td><td>7</td><td>214</td></tr>",
                            "<tr><td>101</td><td>3</td><td>7</td><td>03080437T</td><td>Ajándék csomagoló tasak</td><td>6</td><td>7</td><td>185</td></tr>",
                            "<tr><td>42</td><td>16</td><td>7</td><td>07040054T</td><td>Ceruza kártyás</td><td>19</td><td>7</td><td>55</td></tr>",
                            "<tr><td>30</td><td>13</td><td>7</td><td>02030043T</td><td>Boríték légp. kicsi</td><td>16</td><td>7</td><td>39</td></tr>",
                            "<tr><td>70</td><td>3</td><td>7</td><td>03080008T</td><td>Ajándék cs. tasak kicsi</td><td>6</td><td>7</td><td>103</td></tr>",
                            "<tr><td>173</td><td>1</td><td>7</td><td>08070479T</td><td>Fizika</td><td>4</td><td>7</td><td>674</td></tr>",
                            "<tr><td>129</td><td>61</td><td>7</td><td>02040199T</td><td>Hibajavító roller Pax</td><td>66</td><td>7</td><td>286</td></tr>",
                            "<tr><td>126</td><td>61</td><td>7</td><td>02040196T</td><td>Hibajavító készlet Blanco</td><td>66</td><td>7</td><td>273</td></tr>",
                            "<tr><td>100</td><td>56</td><td>7</td><td>06040182T</td><td>Gyűrűskönyv bet. A/4</td><td>60</td><td>7</td><td>184</td></tr>",
                            "<tr><td>14</td><td>54</td><td>7</td><td>02040176T</td><td>Gyorsfűző dosszié fehér</td><td>58</td><td>7</td><td>18</td></tr>",
                            "<tr><td>84</td><td>61</td><td>7</td><td>02040198T</td><td>Hibajavító roller 5 mm</td><td>66</td><td>7</td><td>133</td></tr>",
                            "<tr><td>18</td><td>62</td><td>7</td><td>04050203T</td><td>Hűtőmágnes</td><td>67</td><td>7</td><td>24</td></tr>",
                            "<tr><td>34</td><td>66</td><td>7</td><td>02040209T</td><td>Iratsín fehér</td><td>72</td><td>7</td><td>44</td></tr>",
                            "<tr><td>51</td><td>67</td><td>7</td><td>02080436T</td><td>Irattartó müa. boríték A/4</td><td>73</td><td>7</td><td>66</td></tr>",
                            "<tr><td>55</td><td>70</td><td>7</td><td>07040215T</td><td>Ironbél  2B ICO</td><td>76</td><td>7</td><td>74</td></tr>",
                            "<tr><td>98</td><td>60</td><td>7</td><td>06080193T</td><td>Hegyző fém 2 lyukú</td><td>65</td><td>7</td><td>180</td></tr>",
                            "<tr><td>55</td><td>71</td><td>7</td><td>06080430T</td><td>Öntapadős betűk</td><td>78</td><td>7</td><td>74</td></tr>",
                            "<tr><td>133</td><td>48</td><td>7</td><td>07080471T</td><td>Golyóstoll levélbontós</td><td>52</td><td>7</td><td>294</td></tr>",
                            "<tr><td>64</td><td>48</td><td>7</td><td>07080157T</td><td>Golyóstoll Montex Hytone</td><td>52</td><td>7</td><td>93</td></tr>",
                            "<tr><td>37</td><td>44</td><td>7</td><td>02040146T</td><td>Gemkapocs ICO</td><td>48</td><td>7</td><td>48</td></tr>",
                            "<tr><td>62</td><td>46</td><td>7</td><td>02080456T</td><td>Genoterm HERLITZ 10-es</td><td>50</td><td>7</td><td>89</td></tr>",
                            "<tr><td>119</td><td>48</td><td>7</td><td>07080160T</td><td>Golyóstoll penac</td><td>52</td><td>7</td><td>239</td></tr>",
                            "<tr><td>102</td><td>48</td><td>7</td><td>07080470T</td><td>Golyóstoll háromszög</td><td>52</td><td>7</td><td>188</td></tr>",
                            "<tr><td>73</td><td>47</td><td>7</td><td>02040149T</td><td>Genotherm A4 10db-os</td><td>51</td><td>7</td><td>110</td></tr>",
                            "<tr><td>90</td><td>41</td><td>7</td><td>06080426T</td><td>Szótárfüzet Lizzy</td><td>45</td><td>7</td><td>161</td></tr>",
                            "<tr><td>15</td><td>42</td><td>7</td><td>06080122T</td><td>Füzetborító öntapadós nagy</td><td>46</td><td>7</td><td>19</td></tr>",
                            "<tr><td>154</td><td>43</td><td>7</td><td>06080125T</td><td>Füzettartó A/5 vastag</td><td>47</td><td>7</td><td>411</td></tr>",
                            "<tr><td>106</td><td>42</td><td>7</td><td>06080121T</td><td>Füzetborító öntapadó tekercses</td><td>46</td><td>7</td><td>195</td></tr>",
                            "<tr><td>26</td><td>41</td><td>7</td><td>06080116T</td><td>Füzet A5 1-8 osz.-ig</td><td>45</td><td>7</td><td>34</td></tr>",
                            "<tr><td>40</td><td>38</td><td>7</td><td>02080109T</td><td>Floppy lemez</td><td>42</td><td>7</td><td>51</td></tr>",
                            "<tr><td>36</td><td>37</td><td>7</td><td>07040102T</td><td>Filctoll supra fine</td><td>41</td><td>7</td><td>46</td></tr>",
                            "<tr><td>106</td><td>87</td><td>7</td><td>06040172T</td><td>Gumis mappa csomagolt</td><td>96</td><td>7</td><td>195</td></tr>",
                            "<tr><td>166</td><td>86</td><td>7</td><td>02080453T</td><td>Lyukasztó EAGLE</td><td>95</td><td>7</td><td>526</td></tr>",
                            "<tr><td>62</td><td>84</td><td>7</td><td>04030263T</td><td>Levélpapír szett</td><td>93</td><td>7</td><td>89</td></tr>",
                            "<tr><td>94</td><td>84</td><td>7</td><td>04030266T</td><td>Levélpapír szett virágos</td><td>93</td><td>7</td><td>169</td></tr>",
                            "<tr><td>13</td><td>85</td><td>7</td><td>04050268T</td><td>Lufi formázható</td><td>94</td><td>7</td><td>15</td></tr>",
                            "<tr><td>73</td><td>83</td><td>7</td><td>04050171T</td><td>Gumilabda közepes</td><td>92</td><td>7</td><td>110</td></tr>",
                            "<tr><td>106</td><td>78</td><td>7</td><td>04030243T</td><td>Képkirakó Dirib-darab</td><td>86</td><td>7</td><td>195</td></tr>",
                            "<tr><td>25</td><td>71</td><td>7</td><td>06010036T</td><td>Betűtartó sin</td><td>78</td><td>7</td><td>33</td></tr>",
                            "<tr><td>4</td><td>71</td><td>7</td><td>06040089T</td><td>Ellenőrzőborító</td><td>78</td><td>7</td><td>5</td></tr>",
                            "<tr><td>81</td><td>71</td><td>7</td><td>06040399T</td><td>Tombola tömb</td><td>78</td><td>7</td><td>125</td></tr>",
                            "<tr><td>140</td><td>71</td><td>7</td><td>06080422T</td><td>Füzettartó A/4</td><td>78</td><td>7</td><td>324</td></tr>",
                            "<tr><td>84</td><td>72</td><td>7</td><td>04050221T</td><td>Játékautó Blisteres</td><td>79</td><td>7</td><td>133</td></tr>",
                            "<tr><td>91</td><td>72</td><td>7</td><td>04050222T</td><td>Játékautó elemes</td><td>79</td><td>7</td><td>165</td></tr>",
                            "<tr><td>50</td><td>72</td><td>7</td><td>04050220T</td><td>Játék autó</td><td>79</td><td>7</td><td>65</td></tr>",
                            "<tr><td>54</td><td>72</td><td>7</td><td>04050223T</td><td>Játékautó mini</td><td>79</td><td>7</td><td>73</td></tr>",
                            "<tr><td>62</td><td>75</td><td>7</td><td>01100071T</td><td>Dekorációs karton arany, ezüst</td><td>83</td><td>7</td><td>89</td></tr>",
                            "<tr><td>40</td><td>71</td><td>7</td><td>06040088T</td><td>Egészségügyi könyv</td><td>78</td><td>7</td><td>51</td></tr>",
                            "<tr><td>12</td><td>77</td><td>7</td><td>04030240T</td><td>Képeslap virágos</td><td>85</td><td>7</td><td>14</td></tr>",
                            "<tr><td>54</td><td>77</td><td>7</td><td>04030235T</td><td>Képeslap karácsonyi borítékos</td><td>85</td><td>7</td><td>73</td></tr>",
                            "<tr><td>3</td><td>99</td><td>7</td><td>01090517T</td><td>Színes ofszet B/4</td><td>109</td><td>7</td><td>4</td></tr>",
                            "<tr><td>70</td><td>105</td><td>7</td><td>02020245T</td><td>Kiadási pénztárbizonylat 2×25</td><td>116</td><td>7</td><td>103</td></tr>",
                            "<tr><td>90</td><td>101</td><td>7</td><td>06050303T</td><td>Olló, iskolai</td><td>111</td><td>7</td><td>161</td></tr>",
                            "<tr><td>90</td><td>108</td><td>7</td><td>04050321T</td><td>Plüss kicsi</td><td>119</td><td>7</td><td>161</td></tr>",
                            "<tr><td>135</td><td>107</td><td>7</td><td>07080319T</td><td>Pixiron Pentel színes</td><td>118</td><td>7</td><td>299</td></tr>",
                            "<tr><td>62</td><td>109</td><td>7</td><td>06040324T</td><td>Post-it 75×75 100 lapos</td><td>121</td><td>7</td><td>89</td></tr>",
                            "<tr><td>93</td><td>88</td><td>7</td><td>04110279T</td><td>Matrica tetoválás</td><td>97</td><td>7</td><td>168</td></tr>",
                            "<tr><td>111</td><td>87</td><td>7</td><td>06040173T</td><td>Gumis mappa fóliázott állatos</td><td>96</td><td>7</td><td>211</td></tr>",
                            "<tr><td>107</td><td>91</td><td>7</td><td>08070481T</td><td>Fizika munkafüzet 13 év.</td><td>100</td><td>7</td><td>198</td></tr>",
                            "<tr><td>48</td><td>113</td><td>7</td><td>03010344T</td><td>Ragasztószalag nagy 12 mm</td><td>125</td><td>7</td><td>63</td></tr>",
                            "<tr><td>96</td><td>121</td><td>7</td><td>05110361T</td><td>Szalvéta Goma húsvéti</td><td>133</td><td>7</td><td>175</td></tr>",
                            "<tr><td>132</td><td>112</td><td>7</td><td>06080337T</td><td>Ragasztó Gyurma</td><td>124</td><td>7</td><td>293</td></tr>",
                            "<tr><td>77</td><td>111</td><td>7</td><td>06080333T</td><td>Radírtoll betét vastag</td><td>123</td><td>7</td><td>119</td></tr>",
                            "<tr><td>39</td><td>110</td><td>7</td><td>06040330T</td><td>Radír Tikky 30 </td><td>122</td><td>7</td><td>50</td></tr>",
                            "<tr><td>82</td><td>123</td><td>7</td><td>05010369T</td><td>Szemetes zsák 60 literes</td><td>135</td><td>7</td><td>129</td></tr>",
                            "<tr><td>90</td><td>124</td><td>7</td><td>07010372T</td><td>Színes ceruza 12 szín</td><td>136</td><td>7</td><td>161</td></tr>",
                            "<tr><td>85</td><td>126</td><td>7</td><td>07050464T</td><td>Szövegkiemelő Staedtler</td><td>138</td><td>7</td><td>140</td></tr>",
                            "<tr><td>34</td><td>133</td><td>7</td><td>07040134T</td><td>G.toll betét illatos</td><td>145</td><td>7</td><td>44</td></tr>",
                            "<tr><td>13</td><td>133</td><td>7</td><td>07010141T</td><td>G.toll betét X20</td><td>145</td><td>7</td><td>15</td></tr>",
                            "<tr><td>57</td><td>133</td><td>7</td><td>07010143T</td><td>G.toll betét Zebra H-0,7</td><td>145</td><td>7</td><td>78</td></tr>",
                            "<tr><td>7</td><td>131</td><td>7</td><td>07040388T</td><td>Tintapatron /kék/</td><td>143</td><td>7</td><td>9</td></tr>",
                            "<tr><td>147</td><td>131</td><td>7</td><td>07040389T</td><td>Tintapatron 30 db-os kék</td><td>143</td><td>7</td><td>360</td></tr>",
                            "<tr><td>153</td><td>134</td><td>7</td><td>06040396T</td><td>Tolltartó Garfield</td><td>146</td><td>7</td><td>410</td></tr>",
                            "<tr><td>180</td><td>134</td><td>7</td><td>06040395T</td><td>Tolltartó 2 zipzáros töltött</td><td>146</td><td>7</td><td>728</td></tr>",
                            "<tr><td>180</td><td>134</td><td>7</td><td>06040392T</td><td>Tolltartó 1 zipzáros</td><td>146</td><td>7</td><td>728</td></tr>",
                            "<tr><td>23</td><td>140</td><td>7</td><td>06080412T</td><td>Vonalzó 16 cm-es LIZZY</td><td>152</td><td>7</td><td>30</td></tr>",
                            "<tr><td>66</td><td>142</td><td>7</td><td>07080418T</td><td>Zselés toll </td><td>154</td><td>7</td><td>95</td></tr>",
                            "<tr><td>115</td><td>142</td><td>7</td><td>07080421T</td><td>Zseléstoll Lizzy Card</td><td>154</td><td>7</td><td>228</td></tr>",
                            "<tr><td>90</td><td>142</td><td>7</td><td>07080420T</td><td>Zselés toll Muhnwa</td><td>154</td><td>7</td><td>161</td></tr>",
                            "<tr><td>34</td><td>138</td><td>7</td><td>02040405T</td><td>Tűzőkapocs 10-es</td><td>150</td><td>7</td><td>44</td></tr>",
                            "<tr><td>122</td><td>139</td><td>7</td><td>06080407T</td><td>Vízfesték  12 színű nagy</td><td>151</td><td>7</td><td>249</td></tr>",
                            "<tr><td>110</td><td>139</td><td>7</td><td>06080408T</td><td>Vízfesték 12 db-os </td><td>151</td><td>7</td><td>210</td></tr>",
                            "<tr><td>44</td><td>140</td><td>8</td><td>06080411T</td><td>Vonalzó 15 cm-es ESSELTE</td><td>152</td><td>8</td><td>58</td></tr>",
                            "<tr><td>142</td><td>137</td><td>8</td><td>02040401T</td><td>Tűzőgép Boxer 10</td><td>149</td><td>8</td><td>339</td></tr>",
                            "<tr><td>152</td><td>137</td><td>8</td><td>02040404T</td><td>Tűzőgép EAGLE</td><td>149</td><td>8</td><td>405</td></tr>",
                            "<tr><td>60</td><td>143</td><td>8</td><td>02040206T</td><td>Írásvetítő fólia</td><td>155</td><td>8</td><td>81</td></tr>",
                            "<tr><td>23</td><td>140</td><td>8</td><td>06080413T</td><td>Vonalzó 30 cm</td><td>152</td><td>8</td><td>30</td></tr>",
                            "<tr><td>23</td><td>140</td><td>8</td><td>06080414T</td><td>Vonalzó 20 cm-es </td><td>152</td><td>8</td><td>30</td></tr>",
                            "<tr><td>172</td><td>134</td><td>8</td><td>06040397T</td><td>Tolltartó asztali</td><td>146</td><td>8</td><td>655</td></tr>",
                            "<tr><td>25</td><td>133</td><td>8</td><td>07010138T</td><td>G.toll betét jumbo</td><td>145</td><td>8</td><td>33</td></tr>",
                            "<tr><td>214</td><td>135</td><td>8</td><td>02080511T</td><td>Oki toner C</td><td>147</td><td>8</td><td>14250</td></tr>",
                            "<tr><td>42</td><td>133</td><td>8</td><td>07040132T</td><td>G.toll betét csavaros</td><td>145</td><td>8</td><td>55</td></tr>",
                            "<tr><td>67</td><td>129</td><td>8</td><td>06040385T</td><td>Tempera szóló ezüst</td><td>141</td><td>8</td><td>96</td></tr>",
                            "<tr><td>37</td><td>129</td><td>8</td><td>06040386T</td><td>Tempera szóló színes</td><td>141</td><td>8</td><td>48</td></tr>",
                            "<tr><td>62</td><td>126</td><td>8</td><td>06040378T</td><td>Szövegkiemelő vékony</td><td>138</td><td>8</td><td>89</td></tr>",
                            "<tr><td>68</td><td>124</td><td>8</td><td>07010371T</td><td>Színes ceruza 6-os</td><td>136</td><td>8</td><td>99</td></tr>",
                            "<tr><td>34</td><td>110</td><td>8</td><td>06040328T</td><td>Radír Maped</td><td>122</td><td>8</td><td>44</td></tr>",
                            "<tr><td>15</td><td>110</td><td>8</td><td>06040326T</td><td>Radír KOH-I-NOR 80</td><td>122</td><td>8</td><td>19</td></tr>",
                            "<tr><td>38</td><td>110</td><td>8</td><td>06040331T</td><td>Radír Tikky 40 </td><td>122</td><td>8</td><td>49</td></tr>",
                            "<tr><td>86</td><td>112</td><td>8</td><td>05080340T</td><td>Ragasztó, Technokol 35g kék</td><td>124</td><td>8</td><td>144</td></tr>",
                            "<tr><td>70</td><td>112</td><td>8</td><td>05040310T</td><td>Pill.ragasztó</td><td>124</td><td>8</td><td>103</td></tr>",
                            "<tr><td>69</td><td>112</td><td>8</td><td>06080338T</td><td>Ragasztó kenőfejes Nebuló</td><td>124</td><td>8</td><td>101</td></tr>",
                            "<tr><td>97</td><td>121</td><td>8</td><td>05110359T</td><td>Szalvéta </td><td>133</td><td>8</td><td>176</td></tr>",
                            "<tr><td>146</td><td>120</td><td>8</td><td>04050358T</td><td>Strandlabda </td><td>132</td><td>8</td><td>356</td></tr>",
                            "<tr><td>90</td><td>121</td><td>8</td><td>05110364T</td><td>Szalvéta kicsi virágos</td><td>133</td><td>8</td><td>161</td></tr>",
                            "<tr><td>71</td><td>116</td><td>8</td><td>05040348T</td><td>Rajzszeg színes</td><td>128</td><td>8</td><td>106</td></tr>",
                            "<tr><td>185</td><td>91</td><td>8</td><td>08070478T</td><td>Összefoglaló feladatgyüjtemény számtech.</td><td>100</td><td>8</td><td>785</td></tr>",
                            "<tr><td>13</td><td>94</td><td>8</td><td>02040291T</td><td>Naptárhát kicsi</td><td>104</td><td>8</td><td>15</td></tr>",
                            "<tr><td>2</td><td>92</td><td>8</td><td>01090498T</td><td>Műnyomó 300g 17,5*20</td><td>101</td><td>8</td><td>3</td></tr>",
                            "<tr><td>62</td><td>93</td><td>8</td><td>02040290T</td><td>Naptár 24-es</td><td>103</td><td>8</td><td>89</td></tr>",
                            "<tr><td>110</td><td>87</td><td>8</td><td>02080434T</td><td>Mappa müa A/4</td><td>96</td><td>8</td><td>210</td></tr>",
                            "<tr><td>125</td><td>87</td><td>8</td><td>04080271T</td><td>Mappa PVC villámzáras</td><td>96</td><td>8</td><td>264</td></tr>",
                            "<tr><td>105</td><td>87</td><td>8</td><td>06040175T</td><td>Gumis mappa Köbüki</td><td>96</td><td>8</td><td>191</td></tr>",
                            "<tr><td>90</td><td>88</td><td>8</td><td>04110278T</td><td>Matrica Test ékszer tattoo</td><td>97</td><td>8</td><td>161</td></tr>",
                            "<tr><td>80</td><td>82</td><td>8</td><td>04050252T</td><td>Kulcstartó Csőrikés</td><td>91</td><td>8</td><td>124</td></tr>",
                            "<tr><td>28</td><td>109</td><td>8</td><td>06040323T</td><td>Post-it 51×38 100 lapos</td><td>121</td><td>8</td><td>36</td></tr>",
                            "<tr><td>162</td><td>107</td><td>8</td><td>07080316T</td><td>Pixiron KOH-I-NOOR</td><td>118</td><td>8</td><td>468</td></tr>",
                            "<tr><td>65</td><td>107</td><td>8</td><td>07080315T</td><td>Pixiron Handy műanyag</td><td>118</td><td>8</td><td>94</td></tr>",
                            "<tr><td>127</td><td>107</td><td>8</td><td>07080311T</td><td>Pixiron  UNI</td><td>118</td><td>8</td><td>276</td></tr>",
                            "<tr><td>84</td><td>107</td><td>8</td><td>07080314T</td><td>Pixiron Handy fém</td><td>118</td><td>8</td><td>133</td></tr>",
                            "<tr><td>84</td><td>101</td><td>8</td><td>06050301T</td><td>Olló gyerek </td><td>111</td><td>8</td><td>133</td></tr>",
                            "<tr><td>45</td><td>102</td><td>8</td><td>01010304T</td><td>Öntapadós hologramos papír A/4</td><td>112</td><td>8</td><td>59</td></tr>",
                            "<tr><td>16</td><td>103</td><td>8</td><td>05010306T</td><td>Papízsebkendő,10db Szindy</td><td>114</td><td>8</td><td>20</td></tr>",
                            "<tr><td>13</td><td>104</td><td>8</td><td>01040307T</td><td>Pausz papír A/4</td><td>115</td><td>8</td><td>15</td></tr>",
                            "<tr><td>29</td><td>75</td><td>8</td><td>01080513T</td><td>Selyemfényű karton A/4</td><td>83</td><td>8</td><td>38</td></tr>",
                            "<tr><td>76</td><td>77</td><td>8</td><td>04030242T</td><td>Képeslap WD +boríték</td><td>85</td><td>8</td><td>118</td></tr>",
                            "<tr><td>165</td><td>71</td><td>8</td><td>06040400T</td><td>Tornazsák</td><td>78</td><td>8</td><td>511</td></tr>",
                            "<tr><td>71</td><td>74</td><td>8</td><td>02080226T</td><td>Kapocskiszedő</td><td>82</td><td>8</td><td>106</td></tr>",
                            "<tr><td>28</td><td>71</td><td>8</td><td>07050463T</td><td>Ceruzafogó</td><td>78</td><td>8</td><td>36</td></tr>",
                            "<tr><td>28</td><td>71</td><td>8</td><td>06010365T</td><td>Számegyenes</td><td>78</td><td>8</td><td>36</td></tr>",
                            "<tr><td>34</td><td>77</td><td>8</td><td>04030241T</td><td>Képeslap virágos +boríték</td><td>85</td><td>8</td><td>44</td></tr>",
                            "<tr><td>40</td><td>77</td><td>8</td><td>04110232T</td><td>Képeslap humoros kaparós</td><td>85</td><td>8</td><td>51</td></tr>",
                            "<tr><td>23</td><td>80</td><td>8</td><td>06040247T</td><td>Körzőhegy grafit</td><td>89</td><td>8</td><td>30</td></tr>",
                            "<tr><td>3</td><td>81</td><td>8</td><td>01090501T</td><td>Kreatív A/4 300g </td><td>90</td><td>8</td><td>4</td></tr>",
                            "<tr><td>88</td><td>82</td><td>8</td><td>04050251T</td><td>Kulcstartó billiárd golyós</td><td>91</td><td>8</td><td>148</td></tr>",
                            "<tr><td>60</td><td>83</td><td>8</td><td>04040387T</td><td>Tenisz labda</td><td>92</td><td>8</td><td>81</td></tr>",
                            "<tr><td>75</td><td>82</td><td>8</td><td>04050250T</td><td>Kulcstartó autós</td><td>91</td><td>8</td><td>115</td></tr>",
                            "<tr><td>70</td><td>82</td><td>8</td><td>04050253T</td><td>Kulcstartó figurás</td><td>91</td><td>8</td><td>103</td></tr>",
                            "<tr><td>56</td><td>37</td><td>8</td><td>07030104T</td><td>Filctoll vastag ARTIP</td><td>41</td><td>8</td><td>76</td></tr>",
                            "<tr><td>41</td><td>37</td><td>8</td><td>07030103T</td><td>Filctoll TINTEN PEN</td><td>41</td><td>8</td><td>53</td></tr>",
                            "<tr><td>20</td><td>37</td><td>8</td><td>07040097T</td><td>Filctoll </td><td>41</td><td>8</td><td>26</td></tr>",
                            "<tr><td>34</td><td>39</td><td>8</td><td>02040508T</td><td>Fólia tasakos A4100 mik.</td><td>43</td><td>8</td><td>44</td></tr>",
                            "<tr><td>31</td><td>39</td><td>8</td><td>02040507T</td><td>Fólia tasakos A4 80 mik.</td><td>43</td><td>8</td><td>40</td></tr>",
                            "<tr><td>26</td><td>41</td><td>8</td><td>06010113T</td><td>Füzet 31-32 szótár</td><td>45</td><td>8</td><td>34</td></tr>",
                            "<tr><td>23</td><td>44</td><td>8</td><td>02040145T</td><td>Gemkapocs 28 mm</td><td>48</td><td>8</td><td>30</td></tr>",
                            "<tr><td>156</td><td>37</td><td>8</td><td>07040257T</td><td>Lakk filc Edding 750</td><td>41</td><td>8</td><td>434</td></tr>",
                            "<tr><td>86</td><td>41</td><td>8</td><td>06040356T</td><td>Sp.Füzet A/4  70es</td><td>45</td><td>8</td><td>144</td></tr>",
                            "<tr><td>89</td><td>41</td><td>8</td><td>06040355T</td><td>Sp.Füzet A/4 70-as</td><td>45</td><td>8</td><td>155</td></tr>",
                            "<tr><td>160</td><td>48</td><td>8</td><td>07040166T</td><td>Golyóstoll Zebra 301</td><td>52</td><td>8</td><td>455</td></tr>",
                            "<tr><td>103</td><td>48</td><td>8</td><td>07040168T</td><td>Golyóstoll Zebra new hard</td><td>52</td><td>8</td><td>189</td></tr>",
                            "<tr><td>126</td><td>48</td><td>8</td><td>07080467T</td><td>Golyóstoll kétfunkciós ICO</td><td>52</td><td>8</td><td>273</td></tr>",
                            "<tr><td>34</td><td>45</td><td>8</td><td>02080450T</td><td>Gémkapocs 28-as színes</td><td>49</td><td>8</td><td>44</td></tr>",
                            "<tr><td>6</td><td>47</td><td>8</td><td>02040147T</td><td>Genotherm lefűzhető A/5</td><td>51</td><td>8</td><td>8</td></tr>",
                            "<tr><td>65</td><td>48</td><td>8</td><td>07040169T</td><td>Golyóstoll Zodiák</td><td>52</td><td>8</td><td>94</td></tr>",
                            "<tr><td>32</td><td>48</td><td>8</td><td>07080153T</td><td>Golyóstoll illatos ICO</td><td>52</td><td>8</td><td>41</td></tr>",
                            "<tr><td>148</td><td>48</td><td>8</td><td>07080469T</td><td>Golyóstoll UNIBALL 07</td><td>52</td><td>8</td><td>364</td></tr>",
                            "<tr><td>17</td><td>48</td><td>8</td><td>07080156T</td><td>Golyóstoll kupakos piros</td><td>52</td><td>8</td><td>23</td></tr>",
                            "<tr><td>48</td><td>48</td><td>8</td><td>07080159T</td><td>Golyóstoll Pax tip.</td><td>52</td><td>8</td><td>63</td></tr>",
                            "<tr><td>33</td><td>71</td><td>8</td><td>06010373T</td><td>Színes papír I.II-IV.V-VIII-ig</td><td>78</td><td>8</td><td>43</td></tr>",
                            "<tr><td>35</td><td>71</td><td>8</td><td>06010374T</td><td>Szorzótábla műanyag</td><td>78</td><td>8</td><td>45</td></tr>",
                            "<tr><td>112</td><td>67</td><td>8</td><td>02080431T</td><td>Álló irattartó</td><td>73</td><td>8</td><td>214</td></tr>",
                            "<tr><td>22</td><td>69</td><td>8</td><td>06040212T</td><td>Írólap 10-50 ffam.</td><td>75</td><td>8</td><td>29</td></tr>",
                            "<tr><td>26</td><td>69</td><td>8</td><td>06040213T</td><td>Írólap 20-50 </td><td>75</td><td>8</td><td>34</td></tr>",
                            "<tr><td>94</td><td>62</td><td>8</td><td>04050204T</td><td>Hűtőmágnes WD</td><td>67</td><td>8</td><td>169</td></tr>",
                            "<tr><td>186</td><td>61</td><td>8</td><td>02040194T</td><td>Hibajav.roll.Pritt 4,2mm</td><td>66</td><td>8</td><td>794</td></tr>",
                            "<tr><td>15</td><td>64</td><td>8</td><td>02040208T</td><td>Iratgyűjtő fehér</td><td>70</td><td>8</td><td>19</td></tr>",
                            "<tr><td>84</td><td>64</td><td>8</td><td>02040025T</td><td>Álló irattartó karton</td><td>70</td><td>8</td><td>133</td></tr>",
                            "<tr><td>115</td><td>55</td><td>8</td><td>06040180T</td><td>Gyurma színes natúr</td><td>59</td><td>8</td><td>228</td></tr>",
                            "<tr><td>27</td><td>54</td><td>8</td><td>02040178T</td><td>Gyorsfűző műa.</td><td>58</td><td>8</td><td>35</td></tr>",
                            "<tr><td>189</td><td>59</td><td>8</td><td>06080188T</td><td>Hegyező gép</td><td>64</td><td>8</td><td>875</td></tr>",
                            "<tr><td>51</td><td>57</td><td>8</td><td>04050187T</td><td>Hajgumi macis</td><td>61</td><td>8</td><td>66</td></tr>",
                            "<tr><td>23</td><td>59</td><td>8</td><td>06080191T</td><td>Hegyező tartályos egyes</td><td>64</td><td>8</td><td>30</td></tr>",
                            "<tr><td>177</td><td>1</td><td>8</td><td>08070490T</td><td>Szövegszerkesztés</td><td>4</td><td>8</td><td>691</td></tr>",
                            "<tr><td>136</td><td>1</td><td>8</td><td>08070480T</td><td>Fizika 13 éveseknek</td><td>4</td><td>8</td><td>308</td></tr>",
                            "<tr><td>144</td><td>1</td><td>8</td><td>08070484T</td><td>Fogalmazás lépésről lépésre</td><td>4</td><td>8</td><td>345</td></tr>",
                            "<tr><td>188</td><td>1</td><td>8</td><td>08070489T</td><td>RAMba zárt világ</td><td>4</td><td>8</td><td>868</td></tr>",
                            "<tr><td>192</td><td>1</td><td>8</td><td>08070472T</td><td>A föld amelyen élünk - Európa földrajza</td><td>4</td><td>8</td><td>1089</td></tr>",
                            "<tr><td>60</td><td>3</td><td>8</td><td>03080014T</td><td>Ajándék csom. 70x50 metál</td><td>6</td><td>8</td><td>81</td></tr>",
                            "<tr><td>112</td><td>1</td><td>8</td><td>08070491T</td><td>Szám.tech. kicsiknek</td><td>4</td><td>8</td><td>214</td></tr>",
                            "<tr><td>31</td><td>3</td><td>8</td><td>03050459T</td><td>Talpas tasak</td><td>6</td><td>8</td><td>40</td></tr>",
                            "<tr><td>9</td><td>3</td><td>8</td><td>04030285T</td><td>Mikulás zacskó</td><td>6</td><td>8</td><td>11</td></tr>",
                            "<tr><td>20</td><td>3</td><td>8</td><td>03080006T</td><td>Ajándék cs. tasak mintás kicsi</td><td>6</td><td>8</td><td>26</td></tr>",
                            "<tr><td>88</td><td>3</td><td>8</td><td>03080009T</td><td>Ajándék csom. 100x70 metál</td><td>6</td><td>8</td><td>148</td></tr>",
                            "<tr><td>81</td><td>3</td><td>8</td><td>03080012T</td><td>Ajándék csom. 200x70</td><td>6</td><td>8</td><td>125</td></tr>",
                            "<tr><td>74</td><td>3</td><td>8</td><td>03080439T</td><td>Italtartó doboz</td><td>6</td><td>8</td><td>114</td></tr>",
                            "<tr><td>23</td><td>14</td><td>8</td><td>02080069T</td><td>CD tartó tok</td><td>17</td><td>8</td><td>30</td></tr>",
                            "<tr><td>54</td><td>15</td><td>8</td><td>05050046T</td><td>Celofán 50 db-os</td><td>18</td><td>8</td><td>73</td></tr>",
                            "<tr><td>36</td><td>15</td><td>8</td><td>05050045T</td><td>Celofán</td><td>18</td><td>8</td><td>46</td></tr>",
                            "<tr><td>84</td><td>10</td><td>8</td><td>02020032T</td><td>Beírókönyv A5 </td><td>13</td><td>8</td><td>133</td></tr>",
                            "<tr><td>14</td><td>13</td><td>8</td><td>02050461T</td><td>Boríték B/4-es</td><td>16</td><td>8</td><td>18</td></tr>",
                            "<tr><td>130</td><td>3</td><td>8</td><td>03080005T</td><td>Ajándék cs. tasak virágos nagy</td><td>6</td><td>8</td><td>290</td></tr>",
                            "<tr><td>86</td><td>4</td><td>8</td><td>04050023T</td><td>Álarc fejdísz</td><td>7</td><td>8</td><td>144</td></tr>",
                            "<tr><td>62</td><td>4</td><td>8</td><td>04050022T</td><td>Álarc</td><td>7</td><td>8</td><td>89</td></tr>",
                            "<tr><td>184</td><td>11</td><td>8</td><td>02060038T</td><td>Bélyegző IDEAL 50</td><td>14</td><td>8</td><td>780</td></tr>",
                            "<tr><td>75</td><td>8</td><td>8</td><td>02020029T</td><td>Átírótömb A/6</td><td>11</td><td>8</td><td>115</td></tr>",
                            "<tr><td>17</td><td>21</td><td>8</td><td>04030287T</td><td>Műanyag foszforeszkáló állat</td><td>25</td><td>8</td><td>23</td></tr>",
                            "<tr><td>73</td><td>19</td><td>8</td><td>03080016T</td><td>házt.csom.  5 ív</td><td>22</td><td>8</td><td>110</td></tr>",
                            "<tr><td>9</td><td>16</td><td>8</td><td>07080065T</td><td>Ceruza kínai</td><td>19</td><td>8</td><td>11</td></tr>",
                            "<tr><td>31</td><td>26</td><td>8</td><td>06010082T</td><td>Ecset Centrum 10,11,12</td><td>30</td><td>8</td><td>40</td></tr>",
                            "<tr><td>28</td><td>26</td><td>8</td><td>06010086T</td><td>Ecset Nebulo 4-es</td><td>30</td><td>8</td><td>36</td></tr>",
                            "<tr><td>34</td><td>24</td><td>8</td><td>03050077T</td><td>Diszkötöző szalag arany</td><td>28</td><td>8</td><td>44</td></tr>",
                            "<tr><td>20</td><td>24</td><td>8</td><td>03050076T</td><td>Díszkötöző szalag metál nagy</td><td>28</td><td>8</td><td>26</td></tr>",
                            "<tr><td>13</td><td>24</td><td>8</td><td>03050078T</td><td>Díszkötöző szalag metál kicsi</td><td>28</td><td>8</td><td>15</td></tr>",
                            "<tr><td>13</td><td>24</td><td>8</td><td>03050079T</td><td>Díszkötöző szalag vékony</td><td>28</td><td>8</td><td>15</td></tr>",
                            "<tr><td>98</td><td>26</td><td>8</td><td>06080428T</td><td>Ecsetkészlet</td><td>30</td><td>8</td><td>180</td></tr>",
                            "<tr><td>85</td><td>37</td><td>9</td><td>07040101T</td><td>Filctoll permanent vastag</td><td>41</td><td>9</td><td>140</td></tr>",
                            "<tr><td>180</td><td>32</td><td>9</td><td>01100095T</td><td>Fénymásoló papír GetCopy</td><td>36</td><td>9</td><td>728</td></tr>",
                            "<tr><td>187</td><td>32</td><td>9</td><td>01100094T</td><td>Fénymásoló papír DataCopy</td><td>36</td><td>9</td><td>845</td></tr>",
                            "<tr><td>84</td><td>25</td><td>9</td><td>02080081T</td><td>Dvd</td><td>29</td><td>9</td><td>133</td></tr>",
                            "<tr><td>46</td><td>26</td><td>9</td><td>06010084T</td><td>Ecset Deák 2-es</td><td>30</td><td>9</td><td>60</td></tr>",
                            "<tr><td>90</td><td>30</td><td>9</td><td>01080093T</td><td>Fax papír 15 m</td><td>34</td><td>9</td><td>161</td></tr>",
                            "<tr><td>31</td><td>16</td><td>9</td><td>07040049T</td><td>Ceruza Conté zöld</td><td>19</td><td>9</td><td>40</td></tr>",
                            "<tr><td>16</td><td>17</td><td>9</td><td>04110068T</td><td>Címke egyszínű</td><td>20</td><td>9</td><td>20</td></tr>",
                            "<tr><td>12</td><td>18</td><td>9</td><td>01090500T</td><td>Color Copy A4 200 g</td><td>21</td><td>9</td><td>14</td></tr>",
                            "<tr><td>34</td><td>20</td><td>9</td><td>03080020T</td><td>Ajándék csom. nagy  </td><td>24</td><td>9</td><td>44</td></tr>",
                            "<tr><td>88</td><td>20</td><td>9</td><td>03080017T</td><td>iskolai csomagoló papír</td><td>24</td><td>9</td><td>148</td></tr>",
                            "<tr><td>47</td><td>23</td><td>9</td><td>04050073T</td><td>Díszdoboz kar.</td><td>27</td><td>9</td><td>61</td></tr>",
                            "<tr><td>7</td><td>22</td><td>9</td><td>01100072T</td><td>Dipa A/4 keretezett</td><td>26</td><td>9</td><td>9</td></tr>",
                            "<tr><td>71</td><td>7</td><td>9</td><td>02010028T</td><td>Árazószalag </td><td>10</td><td>9</td><td>106</td></tr>",
                            "<tr><td>76</td><td>6</td><td>9</td><td>05010026T</td><td>Alufólia 10 m-es</td><td>9</td><td>9</td><td>118</td></tr>",
                            "<tr><td>5</td><td>13</td><td>9</td><td>02030041T</td><td>Boríték LC 5</td><td>16</td><td>9</td><td>6</td></tr>",
                            "<tr><td>134</td><td>12</td><td>9</td><td>02060034T</td><td>Bélyegzőfesték </td><td>15</td><td>9</td><td>297</td></tr>",
                            "<tr><td>34</td><td>16</td><td>9</td><td>07040061T</td><td>Ceruza stabilo opera</td><td>19</td><td>9</td><td>44</td></tr>",
                            "<tr><td>44</td><td>16</td><td>9</td><td>07040059T</td><td>Ceruza smaragd</td><td>19</td><td>9</td><td>58</td></tr>",
                            "<tr><td>45</td><td>16</td><td>9</td><td>07040055T</td><td>Ceruza piros-kék</td><td>19</td><td>9</td><td>59</td></tr>",
                            "<tr><td>109</td><td>3</td><td>9</td><td>03080007T</td><td>Ajándék cs. tasak mintás nagy</td><td>6</td><td>9</td><td>206</td></tr>",
                            "<tr><td>109</td><td>3</td><td>9</td><td>03080010T</td><td>Ajándék csom. 150x70</td><td>6</td><td>9</td><td>206</td></tr>",
                            "<tr><td>94</td><td>3</td><td>9</td><td>03080015T</td><td>Ajándék csom. gyűrt</td><td>6</td><td>9</td><td>169</td></tr>",
                            "<tr><td>181</td><td>1</td><td>9</td><td>08070492T</td><td>Informatika</td><td>4</td><td>9</td><td>735</td></tr>",
                            "<tr><td>54</td><td>2</td><td>9</td><td>04110258T</td><td>Lampion</td><td>5</td><td>9</td><td>73</td></tr>",
                            "<tr><td>158</td><td>1</td><td>9</td><td>08070495T</td><td>Érettségi felv. fel. Biológia</td><td>4</td><td>9</td><td>440</td></tr>",
                            "<tr><td>53</td><td>60</td><td>9</td><td>06080192T</td><td>Hegyző fém 1 lyukú</td><td>65</td><td>9</td><td>70</td></tr>",
                            "<tr><td>60</td><td>61</td><td>9</td><td>02040197T</td><td>Hibajavító lap </td><td>66</td><td>9</td><td>81</td></tr>",
                            "<tr><td>161</td><td>58</td><td>9</td><td>02020444T</td><td>Határidő napló A/6</td><td>62</td><td>9</td><td>464</td></tr>",
                            "<tr><td>180</td><td>58</td><td>9</td><td>04020445T</td><td>Határidő napló 2010-s</td><td>62</td><td>9</td><td>728</td></tr>",
                            "<tr><td>168</td><td>56</td><td>9</td><td>06040185T</td><td>Gyűrűskönyv</td><td>60</td><td>9</td><td>581</td></tr>",
                            "<tr><td>66</td><td>56</td><td>9</td><td>06040183T</td><td>Gyűrűskönyv bet. A/5</td><td>60</td><td>9</td><td>95</td></tr>",
                            "<tr><td>78</td><td>55</td><td>9</td><td>06080441T</td><td>Gyurmakés</td><td>59</td><td>9</td><td>121</td></tr>",
                            "<tr><td>113</td><td>56</td><td>9</td><td>06040184T</td><td>Gyűrűskönyv betét A/5</td><td>60</td><td>9</td><td>218</td></tr>",
                            "<tr><td>121</td><td>65</td><td>9</td><td>02040211T</td><td>Iratrendező ESSELTE</td><td>71</td><td>9</td><td>243</td></tr>",
                            "<tr><td>149</td><td>48</td><td>9</td><td>07080151T</td><td>Golyóstoll + ceruza Twister 2in1</td><td>52</td><td>9</td><td>390</td></tr>",
                            "<tr><td>34</td><td>48</td><td>9</td><td>07080161T</td><td>Golyóstoll kétszínű</td><td>52</td><td>9</td><td>44</td></tr>",
                            "<tr><td>60</td><td>48</td><td>9</td><td>07080466T</td><td>Golyóstoll Stabiló 308</td><td>52</td><td>9</td><td>81</td></tr>",
                            "<tr><td>15</td><td>49</td><td>9</td><td>05050170T</td><td>Gumigyűrű</td><td>53</td><td>9</td><td>19</td></tr>",
                            "<tr><td>113</td><td>48</td><td>9</td><td>07040165T</td><td>Golyóstoll UNI laknock</td><td>52</td><td>9</td><td>218</td></tr>",
                            "<tr><td>48</td><td>47</td><td>9</td><td>02040148T</td><td>Genotherm lefűzhető A4 10db-os</td><td>51</td><td>9</td><td>63</td></tr>",
                            "<tr><td>172</td><td>48</td><td>9</td><td>07040167T</td><td>Golyóstoll Zebra mini</td><td>52</td><td>9</td><td>655</td></tr>",
                            "<tr><td>17</td><td>42</td><td>9</td><td>06080120T</td><td>Füzetborító öntapadó kicsi</td><td>46</td><td>9</td><td>23</td></tr>",
                            "<tr><td>18</td><td>42</td><td>9</td><td>06080424T</td><td>Füzetborító A/4 mintás</td><td>46</td><td>9</td><td>24</td></tr>",
                            "<tr><td>108</td><td>43</td><td>9</td><td>06080126T</td><td>Füzettartó A/5  </td><td>47</td><td>9</td><td>203</td></tr>",
                            "<tr><td>37</td><td>41</td><td>9</td><td>06010115T</td><td>Füzet A/5, mintás</td><td>45</td><td>9</td><td>48</td></tr>",
                            "<tr><td>57</td><td>41</td><td>9</td><td>06010112T</td><td>Füzet  A4 mintás</td><td>45</td><td>9</td><td>78</td></tr>",
                            "<tr><td>52</td><td>41</td><td>9</td><td>06010111T</td><td>Füzet  A/4 </td><td>45</td><td>9</td><td>68</td></tr>",
                            "<tr><td>23</td><td>40</td><td>9</td><td>01010110T</td><td>Fotópapír A/4 fényes</td><td>44</td><td>9</td><td>30</td></tr>",
                            "<tr><td>34</td><td>39</td><td>9</td><td>02040506T</td><td>Fólia tasakos A4 125 mik.</td><td>43</td><td>9</td><td>44</td></tr>",
                            "<tr><td>156</td><td>37</td><td>9</td><td>07040099T</td><td>Filctoll Edding 750</td><td>41</td><td>9</td><td>434</td></tr>",
                            "<tr><td>70</td><td>37</td><td>9</td><td>07030106T</td><td>Filctoll, alkoholosOHP F-M-C</td><td>41</td><td>9</td><td>103</td></tr>",
                            "<tr><td>82</td><td>82</td><td>9</td><td>04050256T</td><td>Kulcstartó nagyítós</td><td>91</td><td>9</td><td>129</td></tr>",
                            "<tr><td>182</td><td>86</td><td>9</td><td>02080454T</td><td>Lyukasztó BOXER</td><td>95</td><td>9</td><td>765</td></tr>",
                            "<tr><td>147</td><td>87</td><td>9</td><td>04080272T</td><td>Mappa PVC villámzáras  képes</td><td>96</td><td>9</td><td>360</td></tr>",
                            "<tr><td>100</td><td>87</td><td>9</td><td>02080435T</td><td>Mappa bemutató</td><td>96</td><td>9</td><td>184</td></tr>",
                            "<tr><td>89</td><td>82</td><td>9</td><td>04050254T</td><td>Kulcstartó intarziás állatos</td><td>91</td><td>9</td><td>155</td></tr>",
                            "<tr><td>28</td><td>82</td><td>9</td><td>04050255T</td><td>Kulcstartó mesefigurás</td><td>91</td><td>9</td><td>36</td></tr>",
                            "<tr><td>45</td><td>77</td><td>9</td><td>04030238T</td><td>Képeslap stancolt</td><td>85</td><td>9</td><td>59</td></tr>",
                            "<tr><td>37</td><td>77</td><td>9</td><td>04030239T</td><td>Képeslap stancolt szív</td><td>85</td><td>9</td><td>48</td></tr>",
                            "<tr><td>90</td><td>71</td><td>9</td><td>06080427T</td><td>Ablakkréta</td><td>78</td><td>9</td><td>161</td></tr>",
                            "<tr><td>100</td><td>77</td><td>9</td><td>04110228T</td><td>Képeslap &quot;Nászajándék&quot;</td><td>85</td><td>9</td><td>184</td></tr>",
                            "<tr><td>19</td><td>75</td><td>9</td><td>01090516T</td><td>Színes karton A4</td><td>83</td><td>9</td><td>25</td></tr>",
                            "<tr><td>28</td><td>77</td><td>9</td><td>04030237T</td><td>Képeslap kerek</td><td>85</td><td>9</td><td>36</td></tr>",
                            "<tr><td>37</td><td>100</td><td>9</td><td>01020299T</td><td>Oklevél A/4 egyszínű</td><td>110</td><td>9</td><td>48</td></tr>",
                            "<tr><td>42</td><td>100</td><td>9</td><td>01020300T</td><td>Oklevél A/4 színes</td><td>110</td><td>9</td><td>55</td></tr>",
                            "<tr><td>70</td><td>96</td><td>9</td><td>02040297T</td><td>Notesz sima spirál College</td><td>106</td><td>9</td><td>103</td></tr>",
                            "<tr><td>45</td><td>107</td><td>9</td><td>07080313T</td><td>Pixiron Centrum</td><td>118</td><td>9</td><td>59</td></tr>",
                            "<tr><td>60</td><td>106</td><td>9</td><td>02040308T</td><td>Pénztárgépsz. 2 pl. nem öníró</td><td>117</td><td>9</td><td>81</td></tr>",
                            "<tr><td>95</td><td>108</td><td>9</td><td>04050320T</td><td>Plüss  QX állatok</td><td>119</td><td>9</td><td>173</td></tr>",
                            "<tr><td>28</td><td>110</td><td>9</td><td>06040327T</td><td>Radír Koh-i-nor 40</td><td>122</td><td>9</td><td>36</td></tr>",
                            "<tr><td>31</td><td>110</td><td>9</td><td>06040325T</td><td>Radír gyümölcsös</td><td>122</td><td>9</td><td>40</td></tr>",
                            "<tr><td>45</td><td>89</td><td>9</td><td>01030092T</td><td>Esküvői meghívó</td><td>98</td><td>9</td><td>59</td></tr>",
                            "<tr><td>38</td><td>88</td><td>9</td><td>04110275T</td><td>Matrica motoros kicsi</td><td>97</td><td>9</td><td>49</td></tr>",
                            "<tr><td>96</td><td>88</td><td>9</td><td>04110281T</td><td>Matrica világítós </td><td>97</td><td>9</td><td>175</td></tr>",
                            "<tr><td>88</td><td>88</td><td>9</td><td>04110280T</td><td>Matrica tetoválós kicsi</td><td>97</td><td>9</td><td>148</td></tr>",
                            "<tr><td>72</td><td>88</td><td>9</td><td>04110276T</td><td>Matrica Stickers nagy állatos</td><td>97</td><td>9</td><td>109</td></tr>",
                            "<tr><td>57</td><td>94</td><td>9</td><td>02040292T</td><td>Naptárhát nagy</td><td>104</td><td>9</td><td>78</td></tr>",
                            "<tr><td>137</td><td>95</td><td>9</td><td>02040293T</td><td>Névjegytartó kicsi</td><td>105</td><td>9</td><td>310</td></tr>",
                            "<tr><td>62</td><td>96</td><td>9</td><td>02040295T</td><td>Notesz A/5 sima spirál</td><td>106</td><td>9</td><td>89</td></tr>",
                            "<tr><td>151</td><td>91</td><td>9</td><td>08070488T</td><td>Matematika gyakorló 4</td><td>100</td><td>9</td><td>403</td></tr>",
                            "<tr><td>35</td><td>119</td><td>9</td><td>02080514T</td><td>Spirál 1/4 </td><td>131</td><td>9</td><td>45</td></tr>",
                            "<tr><td>13</td><td>113</td><td>9</td><td>03010342T</td><td>Ragasztószalag  TIXO</td><td>125</td><td>9</td><td>15</td></tr>",
                            "<tr><td>62</td><td>114</td><td>9</td><td>05050346T</td><td>Rágógumi Orbit</td><td>126</td><td>9</td><td>89</td></tr>",
                            "<tr><td>123</td><td>117</td><td>9</td><td>06040350T</td><td>Regiszteres füzet A4</td><td>129</td><td>9</td><td>256</td></tr>",
                            "<tr><td>143</td><td>115</td><td>9</td><td>01010001T</td><td>félfamentes rajzlap A4 (10 lap)</td><td>127</td><td>9</td><td>342</td></tr>",
                            "<tr><td>42</td><td>113</td><td>9</td><td>02080433T</td><td>Ragasztószalag 19 mm-es</td><td>125</td><td>9</td><td>55</td></tr>",
                            "<tr><td>60</td><td>112</td><td>9</td><td>06080336T</td><td>Ragasztó 8 g Pritt</td><td>124</td><td>9</td><td>81</td></tr>",
                            "<tr><td>73</td><td>112</td><td>9</td><td>06080335T</td><td>Ragasztó 9 g Pax</td><td>124</td><td>9</td><td>110</td></tr>",
                            "<tr><td>6</td><td>125</td><td>9</td><td>06010377T</td><td>Szögmérő színes</td><td>137</td><td>9</td><td>8</td></tr>",
                            "<tr><td>84</td><td>121</td><td>9</td><td>05110363T</td><td>Szalvéta dekor</td><td>133</td><td>9</td><td>133</td></tr>",
                            "<tr><td>64</td><td>126</td><td>9</td><td>06040379T</td><td>Szövegkiemelő </td><td>138</td><td>9</td><td>93</td></tr>",
                            "<tr><td>170</td><td>127</td><td>9</td><td>06040382T</td><td>Táblafilc</td><td>139</td><td>9</td><td>633</td></tr>",
                            "<tr><td>9</td><td>131</td><td>9</td><td>07040390T</td><td>Tintapatron színes</td><td>143</td><td>9</td><td>11</td></tr>",
                            "<tr><td>59</td><td>132</td><td>9</td><td>07040391T</td><td>Toll Centropen roller</td><td>144</td><td>9</td><td>80</td></tr>",
                            "<tr><td>61</td><td>133</td><td>9</td><td>07040131T</td><td>G. toll betét UNI lachnok Fine SA-7C</td><td>145</td><td>9</td><td>85</td></tr>",
                            "<tr><td>62</td><td>133</td><td>9</td><td>07010144T</td><td>G.toll betét Zebra K-0,7</td><td>145</td><td>9</td><td>89</td></tr>",
                            "<tr><td>182</td><td>134</td><td>9</td><td>06040393T</td><td>Tolltartó 2 részes NG.</td><td>146</td><td>9</td><td>765</td></tr>",
                            "<tr><td>23</td><td>133</td><td>9</td><td>07040127T</td><td>G. toll betét mini</td><td>145</td><td>9</td><td>30</td></tr>",
                            "<tr><td>23</td><td>140</td><td>9</td><td>06080415T</td><td>Vonalzó 45 fokos</td><td>152</td><td>9</td><td>30</td></tr>",
                            "<tr><td>26</td><td>138</td><td>9</td><td>02040406T</td><td>Tűzőkapocs 24/6</td><td>150</td><td>9</td><td>34</td></tr>",
                            "<tr><td>51</td><td>142</td><td>9</td><td>07080419T</td><td>Zselés toll MICRO</td><td>154</td><td>9</td><td>66</td></tr>",
                            "</table>"
                        ]
                    }
                }
            ],
            "execution_count": 32
        },
        {
            "cell_type": "markdown",
            "source": [
                "15. <span style=\"color: rgb(36, 41, 47); font-family: -apple-system, BlinkMacSystemFont, &quot;Segoe UI&quot;, Helvetica, Arial, sans-serif, &quot;Apple Color Emoji&quot;, &quot;Segoe UI Emoji&quot;; font-size: 16px;\">Készítsünk listát a rendelési tételekről, amely minden sor esetén göngyölítve tartalmazza az ügyfél adott rendelési tételig meglévő rendelési tételeinek összértékét!</span>\n",
                "\n",
                "1. Az új oszlop neve legyen Eddigi rendelési tételek összértéke!\n",
                "2. Az ügyfél neve is jelenjen meg!"
            ],
            "metadata": {
                "azdata_cell_guid": "93552388-ffec-49ff-99e5-ae8dc8072601"
            },
            "attachments": {}
        },
        {
            "cell_type": "code",
            "source": [
                ""
            ],
            "metadata": {
                "azdata_cell_guid": "0e7f547f-7d96-4611-b1c2-0fa84a581e79",
                "language": "sql"
            },
            "outputs": [],
            "execution_count": null
        }
    ]
}