{
    "metadata": {
        "kernelspec": {
            "name": "SQL",
            "display_name": "SQL",
            "language": "sql"
        },
        "language_info": {
            "name": "sql",
            "version": ""
        }
    },
    "nbformat_minor": 2,
    "nbformat": 4,
    "cells": [
        {
            "cell_type": "code",
            "source": [
                "-- sorok száma\r\n",
                "\r\n",
                "select count(*) as 'Sorok'\r\n",
                "from Termek"
            ],
            "metadata": {
                "azdata_cell_guid": "13e9438a-55de-4dfd-94ea-9038f003d47c",
                "language": "sql"
            },
            "outputs": [],
            "execution_count": null
        },
        {
            "cell_type": "code",
            "source": [
                "-- listaár elemzése (min, max, átlag, szórás, variancia\r\n",
                "\r\n",
                "SELECT MIN(LISTAAR) AS 'Minimum érték', \r\n",
                "       MAX(LISTAAR) AS 'Maximum érték', \r\n",
                "       AVG(LISTAAR) AS 'Átlag', \r\n",
                "       STDEV(LISTAAR) AS 'Szórás', \r\n",
                "       VAR(LISTAAR) AS 'Variancia'\r\n",
                "FROM Termek\r\n",
                "WHERE LISTAAR IS NOT NULL"
            ],
            "metadata": {
                "azdata_cell_guid": "4e4a61ee-e42a-4486-9e2a-7277d6b60196",
                "language": "sql"
            },
            "outputs": [],
            "execution_count": null
        },
        {
            "cell_type": "code",
            "source": [
                "-- a kategóriákat 3 csoportba sorolva hány esik egy-egy csoportba\r\n",
                "\r\n",
                "DECLARE \r\n",
                "@min int = 50,\r\n",
                "@max int = 100;   \r\n",
                "\r\n",
                "SELECT \r\n",
                "    SUM(CASE WHEN KAT_ID < @min THEN 1 ELSE 0 end) AS 'Sorközön alul',\r\n",
                "    SUM(CASE WHEN KAT_ID BETWEEN @min and @max THEN 1 ELSE 0 end) AS 'Sorközön belül',\r\n",
                "    SUM(CASE WHEN KAT_ID > @max THEN 1 ELSE 0 end) AS 'Sorközön kívül'\r\n",
                "FROM Termek"
            ],
            "metadata": {
                "azdata_cell_guid": "fa1d08f1-3d82-4a21-bdb1-b03b2eb35732",
                "language": "sql"
            },
            "outputs": [],
            "execution_count": null
        },
        {
            "cell_type": "code",
            "source": [
                "-- termékek nevének minimum, maximum, átlagos hossza, hosszúságának szórása és varianciája\r\n",
                "\r\n",
                "SELECT MIN(LEN(MEGNEVEZES)) AS 'Minimum hosszúságú terméknév', \r\n",
                "       MAX(LEN(MEGNEVEZES)) AS 'Maximum hosszúságú terméknév', \r\n",
                "       AVG(LEN(MEGNEVEZES)) AS 'Átlagos hosszúságú terméknév', \r\n",
                "       STDEV(LEN(MEGNEVEZES)) AS 'Terméknév hosszúságának szórása', \r\n",
                "       VAR(LEN(MEGNEVEZES)) AS 'Terméknév hosszúságának varianciája'\r\n",
                "FROM Termek\r\n",
                "WHERE MEGNEVEZES IS NOT NULL\r\n",
                "AND LEN(MEGNEVEZES) > 0"
            ],
            "metadata": {
                "azdata_cell_guid": "457cf0c4-1f1d-4577-bb17-fd954e9e993c",
                "language": "sql"
            },
            "outputs": [],
            "execution_count": null
        },
        {
            "cell_type": "code",
            "source": [
                "-- top 10 leghosszabb nevű termék\r\n",
                "\r\n",
                "SELECT TOP 10 MEGNEVEZES AS 'Megnevezés', \r\n",
                "        LEN(MEGNEVEZES) AS 'Megnevezés hossza'\r\n",
                "FROM Termek\r\n",
                "GROUP BY MEGNEVEZES\r\n",
                "ORDER BY LEN(MEGNEVEZES) DESC"
            ],
            "metadata": {
                "azdata_cell_guid": "717478cb-ff57-444a-b64d-a406ee08cc75",
                "language": "sql"
            },
            "outputs": [],
            "execution_count": null
        },
        {
            "cell_type": "code",
            "source": [
                "-- a Felvitte oszlop distinct értékei, hol hány darab van belőle\r\n",
                "\r\n",
                "SELECT \r\n",
                "    FELVITTE AS 'Felvivő neve', \r\n",
                "    COUNT(*) 'Hányszor vitte fel'\r\n",
                "from Termek\r\n",
                "WHERE FELVITTE IS NOT null\r\n",
                "GROUP BY FELVITTE\r\n",
                "ORDER BY FELVITTE"
            ],
            "metadata": {
                "azdata_cell_guid": "4f32ce54-5a5d-4c75-a351-bc5afe3d6e59",
                "language": "sql"
            },
            "outputs": [],
            "execution_count": null
        },
        {
            "cell_type": "code",
            "source": [
                "-- a Leiras oszlop üres, null és nem null értékek darabszáma \r\n",
                "\r\n",
                "SELECT row_type,\r\n",
                "    COUNT(*) row_count\r\n",
                "FROM \r\n",
                "    (SELECT \r\n",
                "        CASE WHEN LEIRAS IS NULL THEN 'Null érték'\r\n",
                "             WHEN LEN(LEIRAS) = 0 THEN 'Üres' \r\n",
                "            ELSE 'Nem null érték' \r\n",
                "            END AS row_type\r\n",
                "        FROM Termek) rows\r\n",
                "GROUP BY row_type"
            ],
            "metadata": {
                "azdata_cell_guid": "a1d4e350-7324-4c87-998c-cf8d9a01fd16",
                "language": "sql"
            },
            "outputs": [],
            "execution_count": null
        }
    ]
}