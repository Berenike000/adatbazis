{
    "metadata": {
        "kernelspec": {
            "name": "SQL",
            "display_name": "SQL",
            "language": "sql"
        },
        "language_info": {
            "name": "sql",
            "version": ""
        }
    },
    "nbformat_minor": 2,
    "nbformat": 4,
    "cells": [
        {
            "cell_type": "code",
            "source": [
                "-- Feladat 1\r\n",
                "\r\n",
                "select SZOBA_FK as 'Szobaszám',\r\n",
                "       count(FOGLALAS_PK) as 'Foglalások száma'\r\n",
                "from Foglalas \r\n",
                "where FELNOTT_SZAM > GYERMEK_SZAM\r\n",
                "group by SZOBA_FK\r\n",
                "having count(FOGLALAS_PK) >= 2\r\n",
                "order by count(FOGLALAS_PK)\r\n",
                ""
            ],
            "metadata": {
                "azdata_cell_guid": "853cd78c-c0bd-4e85-9b48-4371a1eb44f8",
                "language": "sql",
                "tags": []
            },
            "outputs": [],
            "execution_count": null
        },
        {
            "cell_type": "code",
            "source": [
                "-- Feladat 2\r\n",
                "\r\n",
                "select sz.SZOBA_ID,\r\n",
                "       --count(f.FOGLALAS_PK),\r\n",
                "       iif(szall.TIPUS = 'Panzió', 'Igen', 'Nem') as 'Panzió-e'\r\n",
                "from Szoba sz left join Foglalas f on sz.SZOBA_ID = f.SZOBA_FK\r\n",
                "            join Szallashely szall on sz.SZALLAS_FK = szall.SZALLAS_ID\r\n",
                "group by sz.SZOBA_ID, szall.TIPUS\r\n",
                "having count(f.FOGLALAS_PK) = 0"
            ],
            "metadata": {
                "azdata_cell_guid": "5a3089de-e3d9-4a0e-86af-d9c1018dd6bb",
                "language": "sql"
            },
            "outputs": [
                {
                    "output_type": "display_data",
                    "data": {
                        "text/html": "Warning: Null value is eliminated by an aggregate or other SET operation."
                    },
                    "metadata": {}
                },
                {
                    "output_type": "display_data",
                    "data": {
                        "text/html": "(97 rows affected)"
                    },
                    "metadata": {}
                },
                {
                    "output_type": "display_data",
                    "data": {
                        "text/html": "Total execution time: 00:00:00.029"
                    },
                    "metadata": {}
                },
                {
                    "output_type": "execute_result",
                    "metadata": {},
                    "execution_count": 18,
                    "data": {
                        "application/vnd.dataresource+json": {
                            "schema": {
                                "fields": [
                                    {
                                        "name": "SZOBA_ID"
                                    },
                                    {
                                        "name": "Panzió-e"
                                    }
                                ]
                            },
                            "data": [
                                {
                                    "SZOBA_ID": "278",
                                    "Panzió-e": "Nem"
                                },
                                {
                                    "SZOBA_ID": "279",
                                    "Panzió-e": "Nem"
                                },
                                {
                                    "SZOBA_ID": "280",
                                    "Panzió-e": "Nem"
                                },
                                {
                                    "SZOBA_ID": "285",
                                    "Panzió-e": "Nem"
                                },
                                {
                                    "SZOBA_ID": "286",
                                    "Panzió-e": "Nem"
                                },
                                {
                                    "SZOBA_ID": "287",
                                    "Panzió-e": "Nem"
                                },
                                {
                                    "SZOBA_ID": "288",
                                    "Panzió-e": "Nem"
                                },
                                {
                                    "SZOBA_ID": "289",
                                    "Panzió-e": "Nem"
                                },
                                {
                                    "SZOBA_ID": "290",
                                    "Panzió-e": "Nem"
                                },
                                {
                                    "SZOBA_ID": "291",
                                    "Panzió-e": "Nem"
                                },
                                {
                                    "SZOBA_ID": "292",
                                    "Panzió-e": "Nem"
                                },
                                {
                                    "SZOBA_ID": "293",
                                    "Panzió-e": "Nem"
                                },
                                {
                                    "SZOBA_ID": "294",
                                    "Panzió-e": "Nem"
                                },
                                {
                                    "SZOBA_ID": "159",
                                    "Panzió-e": "Nem"
                                },
                                {
                                    "SZOBA_ID": "199",
                                    "Panzió-e": "Nem"
                                },
                                {
                                    "SZOBA_ID": "200",
                                    "Panzió-e": "Nem"
                                },
                                {
                                    "SZOBA_ID": "201",
                                    "Panzió-e": "Nem"
                                },
                                {
                                    "SZOBA_ID": "202",
                                    "Panzió-e": "Nem"
                                },
                                {
                                    "SZOBA_ID": "203",
                                    "Panzió-e": "Nem"
                                },
                                {
                                    "SZOBA_ID": "204",
                                    "Panzió-e": "Nem"
                                },
                                {
                                    "SZOBA_ID": "205",
                                    "Panzió-e": "Nem"
                                },
                                {
                                    "SZOBA_ID": "206",
                                    "Panzió-e": "Nem"
                                },
                                {
                                    "SZOBA_ID": "207",
                                    "Panzió-e": "Nem"
                                },
                                {
                                    "SZOBA_ID": "208",
                                    "Panzió-e": "Nem"
                                },
                                {
                                    "SZOBA_ID": "209",
                                    "Panzió-e": "Nem"
                                },
                                {
                                    "SZOBA_ID": "210",
                                    "Panzió-e": "Nem"
                                },
                                {
                                    "SZOBA_ID": "211",
                                    "Panzió-e": "Nem"
                                },
                                {
                                    "SZOBA_ID": "212",
                                    "Panzió-e": "Nem"
                                },
                                {
                                    "SZOBA_ID": "213",
                                    "Panzió-e": "Nem"
                                },
                                {
                                    "SZOBA_ID": "214",
                                    "Panzió-e": "Nem"
                                },
                                {
                                    "SZOBA_ID": "243",
                                    "Panzió-e": "Nem"
                                },
                                {
                                    "SZOBA_ID": "244",
                                    "Panzió-e": "Nem"
                                },
                                {
                                    "SZOBA_ID": "245",
                                    "Panzió-e": "Nem"
                                },
                                {
                                    "SZOBA_ID": "246",
                                    "Panzió-e": "Nem"
                                },
                                {
                                    "SZOBA_ID": "247",
                                    "Panzió-e": "Nem"
                                },
                                {
                                    "SZOBA_ID": "248",
                                    "Panzió-e": "Nem"
                                },
                                {
                                    "SZOBA_ID": "249",
                                    "Panzió-e": "Nem"
                                },
                                {
                                    "SZOBA_ID": "250",
                                    "Panzió-e": "Nem"
                                },
                                {
                                    "SZOBA_ID": "251",
                                    "Panzió-e": "Nem"
                                },
                                {
                                    "SZOBA_ID": "252",
                                    "Panzió-e": "Nem"
                                },
                                {
                                    "SZOBA_ID": "253",
                                    "Panzió-e": "Nem"
                                },
                                {
                                    "SZOBA_ID": "254",
                                    "Panzió-e": "Nem"
                                },
                                {
                                    "SZOBA_ID": "255",
                                    "Panzió-e": "Nem"
                                },
                                {
                                    "SZOBA_ID": "256",
                                    "Panzió-e": "Nem"
                                },
                                {
                                    "SZOBA_ID": "257",
                                    "Panzió-e": "Nem"
                                },
                                {
                                    "SZOBA_ID": "258",
                                    "Panzió-e": "Nem"
                                },
                                {
                                    "SZOBA_ID": "259",
                                    "Panzió-e": "Nem"
                                },
                                {
                                    "SZOBA_ID": "260",
                                    "Panzió-e": "Nem"
                                },
                                {
                                    "SZOBA_ID": "261",
                                    "Panzió-e": "Nem"
                                },
                                {
                                    "SZOBA_ID": "262",
                                    "Panzió-e": "Nem"
                                },
                                {
                                    "SZOBA_ID": "263",
                                    "Panzió-e": "Nem"
                                },
                                {
                                    "SZOBA_ID": "264",
                                    "Panzió-e": "Nem"
                                },
                                {
                                    "SZOBA_ID": "265",
                                    "Panzió-e": "Nem"
                                },
                                {
                                    "SZOBA_ID": "266",
                                    "Panzió-e": "Nem"
                                },
                                {
                                    "SZOBA_ID": "267",
                                    "Panzió-e": "Nem"
                                },
                                {
                                    "SZOBA_ID": "268",
                                    "Panzió-e": "Nem"
                                },
                                {
                                    "SZOBA_ID": "269",
                                    "Panzió-e": "Nem"
                                },
                                {
                                    "SZOBA_ID": "270",
                                    "Panzió-e": "Nem"
                                },
                                {
                                    "SZOBA_ID": "271",
                                    "Panzió-e": "Nem"
                                },
                                {
                                    "SZOBA_ID": "272",
                                    "Panzió-e": "Nem"
                                },
                                {
                                    "SZOBA_ID": "273",
                                    "Panzió-e": "Nem"
                                },
                                {
                                    "SZOBA_ID": "274",
                                    "Panzió-e": "Nem"
                                },
                                {
                                    "SZOBA_ID": "275",
                                    "Panzió-e": "Nem"
                                },
                                {
                                    "SZOBA_ID": "276",
                                    "Panzió-e": "Nem"
                                },
                                {
                                    "SZOBA_ID": "277",
                                    "Panzió-e": "Nem"
                                },
                                {
                                    "SZOBA_ID": "215",
                                    "Panzió-e": "Igen"
                                },
                                {
                                    "SZOBA_ID": "216",
                                    "Panzió-e": "Igen"
                                },
                                {
                                    "SZOBA_ID": "217",
                                    "Panzió-e": "Igen"
                                },
                                {
                                    "SZOBA_ID": "218",
                                    "Panzió-e": "Igen"
                                },
                                {
                                    "SZOBA_ID": "219",
                                    "Panzió-e": "Igen"
                                },
                                {
                                    "SZOBA_ID": "220",
                                    "Panzió-e": "Igen"
                                },
                                {
                                    "SZOBA_ID": "221",
                                    "Panzió-e": "Igen"
                                },
                                {
                                    "SZOBA_ID": "222",
                                    "Panzió-e": "Igen"
                                },
                                {
                                    "SZOBA_ID": "223",
                                    "Panzió-e": "Igen"
                                },
                                {
                                    "SZOBA_ID": "224",
                                    "Panzió-e": "Igen"
                                },
                                {
                                    "SZOBA_ID": "225",
                                    "Panzió-e": "Igen"
                                },
                                {
                                    "SZOBA_ID": "226",
                                    "Panzió-e": "Igen"
                                },
                                {
                                    "SZOBA_ID": "231",
                                    "Panzió-e": "Igen"
                                },
                                {
                                    "SZOBA_ID": "232",
                                    "Panzió-e": "Igen"
                                },
                                {
                                    "SZOBA_ID": "233",
                                    "Panzió-e": "Igen"
                                },
                                {
                                    "SZOBA_ID": "234",
                                    "Panzió-e": "Igen"
                                },
                                {
                                    "SZOBA_ID": "235",
                                    "Panzió-e": "Igen"
                                },
                                {
                                    "SZOBA_ID": "236",
                                    "Panzió-e": "Igen"
                                },
                                {
                                    "SZOBA_ID": "237",
                                    "Panzió-e": "Igen"
                                },
                                {
                                    "SZOBA_ID": "238",
                                    "Panzió-e": "Igen"
                                },
                                {
                                    "SZOBA_ID": "239",
                                    "Panzió-e": "Igen"
                                },
                                {
                                    "SZOBA_ID": "240",
                                    "Panzió-e": "Igen"
                                },
                                {
                                    "SZOBA_ID": "241",
                                    "Panzió-e": "Igen"
                                },
                                {
                                    "SZOBA_ID": "242",
                                    "Panzió-e": "Igen"
                                },
                                {
                                    "SZOBA_ID": "227",
                                    "Panzió-e": "Nem"
                                },
                                {
                                    "SZOBA_ID": "228",
                                    "Panzió-e": "Nem"
                                },
                                {
                                    "SZOBA_ID": "229",
                                    "Panzió-e": "Nem"
                                },
                                {
                                    "SZOBA_ID": "230",
                                    "Panzió-e": "Nem"
                                },
                                {
                                    "SZOBA_ID": "281",
                                    "Panzió-e": "Nem"
                                },
                                {
                                    "SZOBA_ID": "282",
                                    "Panzió-e": "Nem"
                                },
                                {
                                    "SZOBA_ID": "283",
                                    "Panzió-e": "Nem"
                                },
                                {
                                    "SZOBA_ID": "284",
                                    "Panzió-e": "Nem"
                                }
                            ]
                        },
                        "text/html": [
                            "<table>",
                            "<tr><th>SZOBA_ID</th><th>Panzió-e</th></tr>",
                            "<tr><td>278</td><td>Nem</td></tr>",
                            "<tr><td>279</td><td>Nem</td></tr>",
                            "<tr><td>280</td><td>Nem</td></tr>",
                            "<tr><td>285</td><td>Nem</td></tr>",
                            "<tr><td>286</td><td>Nem</td></tr>",
                            "<tr><td>287</td><td>Nem</td></tr>",
                            "<tr><td>288</td><td>Nem</td></tr>",
                            "<tr><td>289</td><td>Nem</td></tr>",
                            "<tr><td>290</td><td>Nem</td></tr>",
                            "<tr><td>291</td><td>Nem</td></tr>",
                            "<tr><td>292</td><td>Nem</td></tr>",
                            "<tr><td>293</td><td>Nem</td></tr>",
                            "<tr><td>294</td><td>Nem</td></tr>",
                            "<tr><td>159</td><td>Nem</td></tr>",
                            "<tr><td>199</td><td>Nem</td></tr>",
                            "<tr><td>200</td><td>Nem</td></tr>",
                            "<tr><td>201</td><td>Nem</td></tr>",
                            "<tr><td>202</td><td>Nem</td></tr>",
                            "<tr><td>203</td><td>Nem</td></tr>",
                            "<tr><td>204</td><td>Nem</td></tr>",
                            "<tr><td>205</td><td>Nem</td></tr>",
                            "<tr><td>206</td><td>Nem</td></tr>",
                            "<tr><td>207</td><td>Nem</td></tr>",
                            "<tr><td>208</td><td>Nem</td></tr>",
                            "<tr><td>209</td><td>Nem</td></tr>",
                            "<tr><td>210</td><td>Nem</td></tr>",
                            "<tr><td>211</td><td>Nem</td></tr>",
                            "<tr><td>212</td><td>Nem</td></tr>",
                            "<tr><td>213</td><td>Nem</td></tr>",
                            "<tr><td>214</td><td>Nem</td></tr>",
                            "<tr><td>243</td><td>Nem</td></tr>",
                            "<tr><td>244</td><td>Nem</td></tr>",
                            "<tr><td>245</td><td>Nem</td></tr>",
                            "<tr><td>246</td><td>Nem</td></tr>",
                            "<tr><td>247</td><td>Nem</td></tr>",
                            "<tr><td>248</td><td>Nem</td></tr>",
                            "<tr><td>249</td><td>Nem</td></tr>",
                            "<tr><td>250</td><td>Nem</td></tr>",
                            "<tr><td>251</td><td>Nem</td></tr>",
                            "<tr><td>252</td><td>Nem</td></tr>",
                            "<tr><td>253</td><td>Nem</td></tr>",
                            "<tr><td>254</td><td>Nem</td></tr>",
                            "<tr><td>255</td><td>Nem</td></tr>",
                            "<tr><td>256</td><td>Nem</td></tr>",
                            "<tr><td>257</td><td>Nem</td></tr>",
                            "<tr><td>258</td><td>Nem</td></tr>",
                            "<tr><td>259</td><td>Nem</td></tr>",
                            "<tr><td>260</td><td>Nem</td></tr>",
                            "<tr><td>261</td><td>Nem</td></tr>",
                            "<tr><td>262</td><td>Nem</td></tr>",
                            "<tr><td>263</td><td>Nem</td></tr>",
                            "<tr><td>264</td><td>Nem</td></tr>",
                            "<tr><td>265</td><td>Nem</td></tr>",
                            "<tr><td>266</td><td>Nem</td></tr>",
                            "<tr><td>267</td><td>Nem</td></tr>",
                            "<tr><td>268</td><td>Nem</td></tr>",
                            "<tr><td>269</td><td>Nem</td></tr>",
                            "<tr><td>270</td><td>Nem</td></tr>",
                            "<tr><td>271</td><td>Nem</td></tr>",
                            "<tr><td>272</td><td>Nem</td></tr>",
                            "<tr><td>273</td><td>Nem</td></tr>",
                            "<tr><td>274</td><td>Nem</td></tr>",
                            "<tr><td>275</td><td>Nem</td></tr>",
                            "<tr><td>276</td><td>Nem</td></tr>",
                            "<tr><td>277</td><td>Nem</td></tr>",
                            "<tr><td>215</td><td>Igen</td></tr>",
                            "<tr><td>216</td><td>Igen</td></tr>",
                            "<tr><td>217</td><td>Igen</td></tr>",
                            "<tr><td>218</td><td>Igen</td></tr>",
                            "<tr><td>219</td><td>Igen</td></tr>",
                            "<tr><td>220</td><td>Igen</td></tr>",
                            "<tr><td>221</td><td>Igen</td></tr>",
                            "<tr><td>222</td><td>Igen</td></tr>",
                            "<tr><td>223</td><td>Igen</td></tr>",
                            "<tr><td>224</td><td>Igen</td></tr>",
                            "<tr><td>225</td><td>Igen</td></tr>",
                            "<tr><td>226</td><td>Igen</td></tr>",
                            "<tr><td>231</td><td>Igen</td></tr>",
                            "<tr><td>232</td><td>Igen</td></tr>",
                            "<tr><td>233</td><td>Igen</td></tr>",
                            "<tr><td>234</td><td>Igen</td></tr>",
                            "<tr><td>235</td><td>Igen</td></tr>",
                            "<tr><td>236</td><td>Igen</td></tr>",
                            "<tr><td>237</td><td>Igen</td></tr>",
                            "<tr><td>238</td><td>Igen</td></tr>",
                            "<tr><td>239</td><td>Igen</td></tr>",
                            "<tr><td>240</td><td>Igen</td></tr>",
                            "<tr><td>241</td><td>Igen</td></tr>",
                            "<tr><td>242</td><td>Igen</td></tr>",
                            "<tr><td>227</td><td>Nem</td></tr>",
                            "<tr><td>228</td><td>Nem</td></tr>",
                            "<tr><td>229</td><td>Nem</td></tr>",
                            "<tr><td>230</td><td>Nem</td></tr>",
                            "<tr><td>281</td><td>Nem</td></tr>",
                            "<tr><td>282</td><td>Nem</td></tr>",
                            "<tr><td>283</td><td>Nem</td></tr>",
                            "<tr><td>284</td><td>Nem</td></tr>",
                            "</table>"
                        ]
                    }
                }
            ],
            "execution_count": 18
        }
    ]
}